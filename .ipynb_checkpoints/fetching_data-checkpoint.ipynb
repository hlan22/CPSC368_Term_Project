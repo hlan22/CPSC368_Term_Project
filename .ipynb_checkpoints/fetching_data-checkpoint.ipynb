{
 "cells": [
  {
   "cell_type": "code",
   "execution_count": 59,
   "id": "0c713017-767e-4d5c-8b33-3d9ec83e2f43",
   "metadata": {},
   "outputs": [],
   "source": [
    "import oracledb\n",
    "import pandas as pd"
   ]
  },
  {
   "cell_type": "code",
   "execution_count": 60,
   "id": "a4cf2912-711c-4b1b-993b-14c6001962e8",
   "metadata": {},
   "outputs": [],
   "source": [
    "dsn = oracledb.makedsn(\"localhost\", 1522, service_name=\"stu\")\n",
    "connection = oracledb.connect(user=\"ora_nmenon04\", password=\"a23966450\", dsn=dsn)\n",
    "cursor = connection.cursor()\n"
   ]
  },
  {
   "cell_type": "code",
   "execution_count": 61,
   "id": "decf08c1-ee4b-4ac6-9734-6d108f8f9e55",
   "metadata": {},
   "outputs": [],
   "source": [
    "df_GHG= pd.DataFrame(columns=['Year', 'Country', 'GHG_Emissions'])\n",
    "\n",
    "index=0\n",
    "for row in cursor.execute(\"select * from Greenhouse_Gasses\"):\n",
    "    index=index+1\n",
    "    row2= [row[0], row[1], row[2]]\n",
    "    df_GHG.loc[index]= row2\n",
    "    df_GHG.to_csv(\"fetched_data/GHG_DATA.csv\")"
   ]
  },
  {
   "cell_type": "code",
   "execution_count": 62,
   "id": "01bdf995-fa9f-4431-b007-bb64bc511824",
   "metadata": {},
   "outputs": [],
   "source": [
    "df_Country= pd.DataFrame(columns=['Country_Name', 'WHO_Region', 'ISO_CHAR'])\n",
    "\n",
    "index=0\n",
    "for row in cursor.execute(\"select * from COUNTRY\"):\n",
    "    index=index+1\n",
    "    row2= [row[0], row[1], row[2]]\n",
    "    df_Country.loc[index]= row2\n",
    "    df_Country.to_csv(\"fetched_data/COUNTRY_DATA.csv\")\n"
   ]
  },
  {
   "cell_type": "code",
   "execution_count": 63,
   "id": "51fab189-32c3-4549-bc99-53ab97dc27b1",
   "metadata": {},
   "outputs": [],
   "source": [
    "df_City= pd.DataFrame(columns=['City_Name', 'Country_Name'])\n",
    "\n",
    "index=0\n",
    "for row in cursor.execute(\"select * from CITY\"):\n",
    "    index=index+1\n",
    "    row2= [row[0], row[1]]\n",
    "    df_City.loc[index]= row2\n",
    "    df_City.to_csv(\"fetched_data/CITY_DATA.csv\")\n"
   ]
  },
  {
   "cell_type": "code",
   "execution_count": 64,
   "id": "ccf62863-d195-4eaa-a4fe-b1d5427879eb",
   "metadata": {},
   "outputs": [],
   "source": [
    "df_Air_Quality = pd.DataFrame(rows, columns=['ID','Year','City_Name','Country_Name', 'NO2', 'PM10','PM25','NO2_TEMPORAL_COVERAGE','PM25_TEMPORAL_COVERAGE','PM10_TEMPORAL_COVERAGE'])\n",
    "rows = []\n",
    "\n",
    "# Assuming cursor.execute() fetches data from the database\n",
    "for row in cursor.execute(\"select * from Air_Quality_Measures\"):\n",
    "    row_data = [row[0], row[1], row[2], row[3], row[4], row[5], row[6], row[7], row[8], row[9]]\n",
    "    rows.append(row_data)\n",
    "\n",
    "\n",
    "# Dropping columns with all NA values\n",
    "df_Air_Quality = df_Air_Quality.dropna(axis=1, how='all')\n",
    "df_Air_Quality.to_csv(\"fetched_data/AIR_QUALITY_DATA.csv\", index=False)"
   ]
  },
  {
   "cell_type": "code",
   "execution_count": 65,
   "id": "7eaf5dc4-6703-4ea3-ba9d-f037370d0f69",
   "metadata": {},
   "outputs": [],
   "source": [
    "df_ParisAgreement_Member= pd.DataFrame(columns=['Country_Name', 'Date_Joined'])\n",
    "\n",
    "index=0\n",
    "for row in cursor.execute(\"select * from Paris_Agreement_Member\"):\n",
    "    index=index+1\n",
    "    row2= [row[0], row[1]]\n",
    "    df_ParisAgreement_Member.loc[index]= row2\n",
    "    df_ParisAgreement_Member.to_csv(\"fetched_data/PARIS_AGREEMENT_DATA.csv\")"
   ]
  },
  {
   "cell_type": "code",
   "execution_count": 66,
   "id": "bc18dbac-6949-4f05-8ed6-b9639842b9d0",
   "metadata": {},
   "outputs": [],
   "source": [
    "df_CRI= pd.DataFrame(columns=['ID', 'Country_Name', 'CRI_RANK', 'CRI_SCORE', 'Fatalities_Rank', 'Fatalities_per_100000_inhabitants_RANK', 'Losses_in_US_Million_Rank',\n",
    "                             'Losses_per_unit_GDP_Rank'])\n",
    "\n",
    "index=0\n",
    "for row in cursor.execute(\"select * from Climate_Risk_Index\"):\n",
    "    index=index+1\n",
    "    row2= [row[0], row[1],row[2], row[3], row[4], row[5], row[6], row[7]]\n",
    "    df_CRI.loc[index]= row2\n",
    "    df_CRI.to_csv(\"fetched_data/CRI.csv\")"
   ]
  }
 ],
 "metadata": {
  "kernelspec": {
   "display_name": "Python 3 (ipykernel)",
   "language": "python",
   "name": "python3"
  },
  "language_info": {
   "codemirror_mode": {
    "name": "ipython",
    "version": 3
   },
   "file_extension": ".py",
   "mimetype": "text/x-python",
   "name": "python",
   "nbconvert_exporter": "python",
   "pygments_lexer": "ipython3",
   "version": "3.12.2"
  }
 },
 "nbformat": 4,
 "nbformat_minor": 5
}
