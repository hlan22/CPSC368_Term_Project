{
 "cells": [
  {
   "cell_type": "code",
   "execution_count": 1,
   "id": "348b8f23-8110-4fc6-8c2f-4751bf2bca32",
   "metadata": {},
   "outputs": [],
   "source": [
    "import pandas as pd\n",
    "import warnings\n",
    "from sklearn.linear_model import Ridge"
   ]
  },
  {
   "cell_type": "code",
   "execution_count": 2,
   "id": "6b2fa013-d732-414a-be81-d71a2fc46fea",
   "metadata": {},
   "outputs": [],
   "source": [
    "air_quality_dat = pd.read_csv(\"fetched_data/AIR_QUALITY_DATA.csv\")\n",
    "\n",
    "paris_agreement_dat = pd.read_csv(\"fetched_data/PARIS_AGREEMENT_DATA.csv\")\n",
    "\n",
    "greenhouse_gas_dat = pd.read_csv(\"fetched_data/GHG_DATA.csv\")"
   ]
  },
  {
   "cell_type": "code",
   "execution_count": 3,
   "id": "48c18ee0-7fd5-4c6f-ade9-ddebe0161385",
   "metadata": {},
   "outputs": [
    {
     "data": {
      "text/html": [
       "<div>\n",
       "<style scoped>\n",
       "    .dataframe tbody tr th:only-of-type {\n",
       "        vertical-align: middle;\n",
       "    }\n",
       "\n",
       "    .dataframe tbody tr th {\n",
       "        vertical-align: top;\n",
       "    }\n",
       "\n",
       "    .dataframe thead th {\n",
       "        text-align: right;\n",
       "    }\n",
       "</style>\n",
       "<table border=\"1\" class=\"dataframe\">\n",
       "  <thead>\n",
       "    <tr style=\"text-align: right;\">\n",
       "      <th></th>\n",
       "      <th>ID</th>\n",
       "      <th>Year</th>\n",
       "      <th>City_Name</th>\n",
       "      <th>Country_Name</th>\n",
       "      <th>NO2</th>\n",
       "      <th>PM10</th>\n",
       "      <th>PM25</th>\n",
       "      <th>NO2_TEMPORAL_COVERAGE</th>\n",
       "      <th>PM25_TEMPORAL_COVERAGE</th>\n",
       "      <th>PM10_TEMPORAL_COVERAGE</th>\n",
       "    </tr>\n",
       "  </thead>\n",
       "  <tbody>\n",
       "  </tbody>\n",
       "</table>\n",
       "</div>"
      ],
      "text/plain": [
       "Empty DataFrame\n",
       "Columns: [ID, Year, City_Name, Country_Name, NO2, PM10, PM25, NO2_TEMPORAL_COVERAGE, PM25_TEMPORAL_COVERAGE, PM10_TEMPORAL_COVERAGE]\n",
       "Index: []"
      ]
     },
     "execution_count": 3,
     "metadata": {},
     "output_type": "execute_result"
    }
   ],
   "source": [
    "air_quality_dat[air_quality_dat[\"Country_Name\"] == \"Andorra\"]"
   ]
  },
  {
   "cell_type": "code",
   "execution_count": 12,
   "id": "1e3095a1-9b7d-4cb3-9dfe-b5b94808139b",
   "metadata": {},
   "outputs": [
    {
     "data": {
      "text/html": [
       "<div>\n",
       "<style scoped>\n",
       "    .dataframe tbody tr th:only-of-type {\n",
       "        vertical-align: middle;\n",
       "    }\n",
       "\n",
       "    .dataframe tbody tr th {\n",
       "        vertical-align: top;\n",
       "    }\n",
       "\n",
       "    .dataframe thead th {\n",
       "        text-align: right;\n",
       "    }\n",
       "</style>\n",
       "<table border=\"1\" class=\"dataframe\">\n",
       "  <thead>\n",
       "    <tr style=\"text-align: right;\">\n",
       "      <th></th>\n",
       "      <th>ID</th>\n",
       "      <th>Year</th>\n",
       "      <th>City_Name</th>\n",
       "      <th>Country_Name</th>\n",
       "      <th>NO2</th>\n",
       "      <th>PM10</th>\n",
       "      <th>PM25</th>\n",
       "      <th>NO2_TEMPORAL_COVERAGE</th>\n",
       "      <th>PM25_TEMPORAL_COVERAGE</th>\n",
       "      <th>PM10_TEMPORAL_COVERAGE</th>\n",
       "      <th>Unnamed: 0_x</th>\n",
       "      <th>Date_Joined</th>\n",
       "      <th>Unnamed: 0_y</th>\n",
       "      <th>Country</th>\n",
       "      <th>GHG_Emissions</th>\n",
       "    </tr>\n",
       "  </thead>\n",
       "  <tbody>\n",
       "    <tr>\n",
       "      <th>5027</th>\n",
       "      <td>32063</td>\n",
       "      <td>2018</td>\n",
       "      <td>City Of Johannesburg                          ...</td>\n",
       "      <td>South Africa                                  ...</td>\n",
       "      <td>36.0</td>\n",
       "      <td>42.0</td>\n",
       "      <td>23.0</td>\n",
       "      <td>75.0</td>\n",
       "      <td>75.0</td>\n",
       "      <td>75.0</td>\n",
       "      <td>161</td>\n",
       "      <td>2016-04-22</td>\n",
       "      <td>107.0</td>\n",
       "      <td>South Africa                                  ...</td>\n",
       "      <td>10.5541</td>\n",
       "    </tr>\n",
       "    <tr>\n",
       "      <th>5028</th>\n",
       "      <td>32070</td>\n",
       "      <td>2018</td>\n",
       "      <td>City Of Tshwane                               ...</td>\n",
       "      <td>South Africa                                  ...</td>\n",
       "      <td>27.0</td>\n",
       "      <td>56.0</td>\n",
       "      <td>31.0</td>\n",
       "      <td>75.0</td>\n",
       "      <td>75.0</td>\n",
       "      <td>75.0</td>\n",
       "      <td>161</td>\n",
       "      <td>2016-04-22</td>\n",
       "      <td>107.0</td>\n",
       "      <td>South Africa                                  ...</td>\n",
       "      <td>10.5541</td>\n",
       "    </tr>\n",
       "    <tr>\n",
       "      <th>5029</th>\n",
       "      <td>32075</td>\n",
       "      <td>2018</td>\n",
       "      <td>Dr Kenneth Kaunda                             ...</td>\n",
       "      <td>South Africa                                  ...</td>\n",
       "      <td>NaN</td>\n",
       "      <td>45.0</td>\n",
       "      <td>NaN</td>\n",
       "      <td>75.0</td>\n",
       "      <td>75.0</td>\n",
       "      <td>75.0</td>\n",
       "      <td>161</td>\n",
       "      <td>2016-04-22</td>\n",
       "      <td>107.0</td>\n",
       "      <td>South Africa                                  ...</td>\n",
       "      <td>10.5541</td>\n",
       "    </tr>\n",
       "    <tr>\n",
       "      <th>5030</th>\n",
       "      <td>32098</td>\n",
       "      <td>2018</td>\n",
       "      <td>Fezile Dabi                                   ...</td>\n",
       "      <td>South Africa                                  ...</td>\n",
       "      <td>NaN</td>\n",
       "      <td>NaN</td>\n",
       "      <td>32.0</td>\n",
       "      <td>75.0</td>\n",
       "      <td>75.0</td>\n",
       "      <td>75.0</td>\n",
       "      <td>161</td>\n",
       "      <td>2016-04-22</td>\n",
       "      <td>107.0</td>\n",
       "      <td>South Africa                                  ...</td>\n",
       "      <td>10.5541</td>\n",
       "    </tr>\n",
       "    <tr>\n",
       "      <th>5031</th>\n",
       "      <td>32110</td>\n",
       "      <td>2018</td>\n",
       "      <td>Gert Sibande                                  ...</td>\n",
       "      <td>South Africa                                  ...</td>\n",
       "      <td>19.0</td>\n",
       "      <td>42.0</td>\n",
       "      <td>17.0</td>\n",
       "      <td>75.0</td>\n",
       "      <td>75.0</td>\n",
       "      <td>75.0</td>\n",
       "      <td>161</td>\n",
       "      <td>2016-04-22</td>\n",
       "      <td>107.0</td>\n",
       "      <td>South Africa                                  ...</td>\n",
       "      <td>10.5541</td>\n",
       "    </tr>\n",
       "  </tbody>\n",
       "</table>\n",
       "</div>"
      ],
      "text/plain": [
       "         ID  Year                                          City_Name  \\\n",
       "5027  32063  2018  City Of Johannesburg                          ...   \n",
       "5028  32070  2018  City Of Tshwane                               ...   \n",
       "5029  32075  2018  Dr Kenneth Kaunda                             ...   \n",
       "5030  32098  2018  Fezile Dabi                                   ...   \n",
       "5031  32110  2018  Gert Sibande                                  ...   \n",
       "\n",
       "                                           Country_Name   NO2  PM10  PM25  \\\n",
       "5027  South Africa                                  ...  36.0  42.0  23.0   \n",
       "5028  South Africa                                  ...  27.0  56.0  31.0   \n",
       "5029  South Africa                                  ...   NaN  45.0   NaN   \n",
       "5030  South Africa                                  ...   NaN   NaN  32.0   \n",
       "5031  South Africa                                  ...  19.0  42.0  17.0   \n",
       "\n",
       "      NO2_TEMPORAL_COVERAGE  PM25_TEMPORAL_COVERAGE  PM10_TEMPORAL_COVERAGE  \\\n",
       "5027                   75.0                    75.0                    75.0   \n",
       "5028                   75.0                    75.0                    75.0   \n",
       "5029                   75.0                    75.0                    75.0   \n",
       "5030                   75.0                    75.0                    75.0   \n",
       "5031                   75.0                    75.0                    75.0   \n",
       "\n",
       "      Unnamed: 0_x Date_Joined  Unnamed: 0_y  \\\n",
       "5027           161  2016-04-22         107.0   \n",
       "5028           161  2016-04-22         107.0   \n",
       "5029           161  2016-04-22         107.0   \n",
       "5030           161  2016-04-22         107.0   \n",
       "5031           161  2016-04-22         107.0   \n",
       "\n",
       "                                                Country  GHG_Emissions  \n",
       "5027  South Africa                                  ...        10.5541  \n",
       "5028  South Africa                                  ...        10.5541  \n",
       "5029  South Africa                                  ...        10.5541  \n",
       "5030  South Africa                                  ...        10.5541  \n",
       "5031  South Africa                                  ...        10.5541  "
      ]
     },
     "execution_count": 12,
     "metadata": {},
     "output_type": "execute_result"
    }
   ],
   "source": [
    "merged_data = air_quality_dat.merge(paris_agreement_dat, how = \"left\", on = \"Country_Name\").merge(greenhouse_gas_dat, how = \"left\", left_on = [\"Country_Name\"], right_on = [\"Country\"])\n",
    "merged_data.tail()"
   ]
  },
  {
   "cell_type": "code",
   "execution_count": 5,
   "id": "89cec883-8d49-4fbd-80e4-59cec998d3bc",
   "metadata": {},
   "outputs": [],
   "source": [
    "simplified_data = merged_data[[\"Country_Name\", \"NO2\", \"GHG_Emissions\", \"Unnamed: 0_x\"]]"
   ]
  },
  {
   "cell_type": "code",
   "execution_count": 6,
   "id": "55599a0e-75d4-4cd3-9b84-fa872d24f838",
   "metadata": {},
   "outputs": [],
   "source": [
    "simplified_data = simplified_data.rename(columns={\"Unnamed: 0_x\":\"Paris_Index\"})"
   ]
  },
  {
   "cell_type": "code",
   "execution_count": 16,
   "id": "dfdfb06d-8b2b-4f01-8e1e-837b46ed234e",
   "metadata": {},
   "outputs": [],
   "source": [
    "warnings.filterwarnings('ignore')\n",
    "simplified_data[\"Paris_Index\"].loc[~simplified_data[\"Paris_Index\"].isnull()] = 1\n",
    "simplified_data[\"Paris_Index\"].loc[simplified_data[\"Paris_Index\"].isnull()] = 0\n",
    "\n",
    "## Initially I thought that only small cities would be missing values, \n",
    "# however there seems to be larger cities with missing NO2/GHG values as well \n",
    "# so we will go with median imputation. Limitations of this method should be noted\n",
    "simplified_data['NO2'] = simplified_data.groupby(\"Country_Name\")['NO2'].transform(lambda x: x.fillna(x.median()))\n",
    "simplified_data['GHG_Emissions'] = simplified_data.groupby(\"Country_Name\")['GHG_Emissions'].transform(lambda x: x.fillna(x.median()))"
   ]
  },
  {
   "cell_type": "code",
   "execution_count": 23,
   "id": "be70237f-00ed-4262-8955-6757b78cf441",
   "metadata": {},
   "outputs": [],
   "source": [
    "# Group by 'Country' column\n",
    "simplified_data_grouped = simplified_data.groupby('Country_Name')\n",
    "\n",
    "# Drop rows where all NO2 values are null within each country group\n",
    "simplified_data_minimal = simplified_data_grouped.filter(lambda x: x['NO2'].notna().any())"
   ]
  },
  {
   "cell_type": "code",
   "execution_count": 25,
   "id": "144d31fb-be64-44f8-835a-11c85b6607c5",
   "metadata": {},
   "outputs": [],
   "source": [
    "aggregated_data = simplified_data_minimal.groupby(['Country_Name',\"GHG_Emissions\",\"Paris_Index\"]).sum().reset_index()"
   ]
  },
  {
   "cell_type": "code",
   "execution_count": 33,
   "id": "e546d015-a3e6-46ea-be0d-eb1c440b4ff3",
   "metadata": {},
   "outputs": [
    {
     "ename": "ValueError",
     "evalue": "shapes (53,2) and (1,3) not aligned: 2 (dim 1) != 1 (dim 0)",
     "output_type": "error",
     "traceback": [
      "\u001b[0;31m---------------------------------------------------------------------------\u001b[0m",
      "\u001b[0;31mValueError\u001b[0m                                Traceback (most recent call last)",
      "Cell \u001b[0;32mIn[33], line 9\u001b[0m\n\u001b[1;32m      6\u001b[0m coef_ridge \u001b[38;5;241m=\u001b[39m ridge\u001b[38;5;241m.\u001b[39mcoef_\n\u001b[1;32m      8\u001b[0m result \u001b[38;5;241m=\u001b[39m regression_analysis(X, y, ridge)\n\u001b[0;32m----> 9\u001b[0m \u001b[43mresult\u001b[49m\u001b[38;5;241;43m.\u001b[39;49m\u001b[43msummary\u001b[49m\u001b[43m(\u001b[49m\u001b[43m)\u001b[49m\n",
      "File \u001b[0;32m~/miniconda3/lib/python3.11/site-packages/statsmodels/regression/linear_model.py:2741\u001b[0m, in \u001b[0;36mRegressionResults.summary\u001b[0;34m(self, yname, xname, title, alpha, slim)\u001b[0m\n\u001b[1;32m   2738\u001b[0m alpha \u001b[38;5;241m=\u001b[39m float_like(alpha, \u001b[38;5;124m\"\u001b[39m\u001b[38;5;124malpha\u001b[39m\u001b[38;5;124m\"\u001b[39m, optional\u001b[38;5;241m=\u001b[39m\u001b[38;5;28;01mFalse\u001b[39;00m)\n\u001b[1;32m   2739\u001b[0m slim \u001b[38;5;241m=\u001b[39m bool_like(slim, \u001b[38;5;124m\"\u001b[39m\u001b[38;5;124mslim\u001b[39m\u001b[38;5;124m\"\u001b[39m, optional\u001b[38;5;241m=\u001b[39m\u001b[38;5;28;01mFalse\u001b[39;00m, strict\u001b[38;5;241m=\u001b[39m\u001b[38;5;28;01mTrue\u001b[39;00m)\n\u001b[0;32m-> 2741\u001b[0m jb, jbpv, skew, kurtosis \u001b[38;5;241m=\u001b[39m jarque_bera(\u001b[38;5;28;43mself\u001b[39;49m\u001b[38;5;241;43m.\u001b[39;49m\u001b[43mwresid\u001b[49m)\n\u001b[1;32m   2742\u001b[0m omni, omnipv \u001b[38;5;241m=\u001b[39m omni_normtest(\u001b[38;5;28mself\u001b[39m\u001b[38;5;241m.\u001b[39mwresid)\n\u001b[1;32m   2744\u001b[0m eigvals \u001b[38;5;241m=\u001b[39m \u001b[38;5;28mself\u001b[39m\u001b[38;5;241m.\u001b[39meigenvals\n",
      "File \u001b[0;32m~/miniconda3/lib/python3.11/site-packages/pandas/_libs/properties.pyx:36\u001b[0m, in \u001b[0;36mpandas._libs.properties.CachedProperty.__get__\u001b[0;34m()\u001b[0m\n",
      "File \u001b[0;32m~/miniconda3/lib/python3.11/site-packages/statsmodels/regression/linear_model.py:1698\u001b[0m, in \u001b[0;36mRegressionResults.wresid\u001b[0;34m(self)\u001b[0m\n\u001b[1;32m   1693\u001b[0m \u001b[38;5;129m@cache_readonly\u001b[39m\n\u001b[1;32m   1694\u001b[0m \u001b[38;5;28;01mdef\u001b[39;00m \u001b[38;5;21mwresid\u001b[39m(\u001b[38;5;28mself\u001b[39m):\n\u001b[1;32m   1695\u001b[0m \u001b[38;5;250m    \u001b[39m\u001b[38;5;124;03m\"\"\"\u001b[39;00m\n\u001b[1;32m   1696\u001b[0m \u001b[38;5;124;03m    The residuals of the transformed/whitened regressand and regressor(s).\u001b[39;00m\n\u001b[1;32m   1697\u001b[0m \u001b[38;5;124;03m    \"\"\"\u001b[39;00m\n\u001b[0;32m-> 1698\u001b[0m     \u001b[38;5;28;01mreturn\u001b[39;00m \u001b[38;5;28mself\u001b[39m\u001b[38;5;241m.\u001b[39mmodel\u001b[38;5;241m.\u001b[39mwendog \u001b[38;5;241m-\u001b[39m \u001b[38;5;28;43mself\u001b[39;49m\u001b[38;5;241;43m.\u001b[39;49m\u001b[43mmodel\u001b[49m\u001b[38;5;241;43m.\u001b[39;49m\u001b[43mpredict\u001b[49m\u001b[43m(\u001b[49m\n\u001b[1;32m   1699\u001b[0m \u001b[43m        \u001b[49m\u001b[38;5;28;43mself\u001b[39;49m\u001b[38;5;241;43m.\u001b[39;49m\u001b[43mparams\u001b[49m\u001b[43m,\u001b[49m\u001b[43m \u001b[49m\u001b[38;5;28;43mself\u001b[39;49m\u001b[38;5;241;43m.\u001b[39;49m\u001b[43mmodel\u001b[49m\u001b[38;5;241;43m.\u001b[39;49m\u001b[43mwexog\u001b[49m\u001b[43m)\u001b[49m\n",
      "File \u001b[0;32m~/miniconda3/lib/python3.11/site-packages/statsmodels/regression/linear_model.py:411\u001b[0m, in \u001b[0;36mRegressionModel.predict\u001b[0;34m(self, params, exog)\u001b[0m\n\u001b[1;32m    408\u001b[0m \u001b[38;5;28;01mif\u001b[39;00m exog \u001b[38;5;129;01mis\u001b[39;00m \u001b[38;5;28;01mNone\u001b[39;00m:\n\u001b[1;32m    409\u001b[0m     exog \u001b[38;5;241m=\u001b[39m \u001b[38;5;28mself\u001b[39m\u001b[38;5;241m.\u001b[39mexog\n\u001b[0;32m--> 411\u001b[0m \u001b[38;5;28;01mreturn\u001b[39;00m \u001b[43mnp\u001b[49m\u001b[38;5;241;43m.\u001b[39;49m\u001b[43mdot\u001b[49m\u001b[43m(\u001b[49m\u001b[43mexog\u001b[49m\u001b[43m,\u001b[49m\u001b[43m \u001b[49m\u001b[43mparams\u001b[49m\u001b[43m)\u001b[49m\n",
      "\u001b[0;31mValueError\u001b[0m: shapes (53,2) and (1,3) not aligned: 2 (dim 1) != 1 (dim 0)"
     ]
    }
   ],
   "source": [
    "X = aggregated_data[[\"GHG_Emissions\", \"Paris_Index\"]]\n",
    "y = aggregated_data[[\"NO2\"]]\n",
    "ridge = Ridge(alpha=1.0, random_state=123)\n",
    "ridge.fit(X, y)\n",
    "coef_ridge = ridge.coef_\n"
   ]
  },
  {
   "cell_type": "code",
   "execution_count": null,
   "id": "3dc1101c-8724-4db9-b728-76c987a9487a",
   "metadata": {},
   "outputs": [],
   "source": []
  },
  {
   "cell_type": "code",
   "execution_count": null,
   "id": "367d682d-9710-4902-a7a3-45e3a774d737",
   "metadata": {},
   "outputs": [],
   "source": []
  }
 ],
 "metadata": {
  "kernelspec": {
   "display_name": "Python 3 (ipykernel)",
   "language": "python",
   "name": "python3"
  },
  "language_info": {
   "codemirror_mode": {
    "name": "ipython",
    "version": 3
   },
   "file_extension": ".py",
   "mimetype": "text/x-python",
   "name": "python",
   "nbconvert_exporter": "python",
   "pygments_lexer": "ipython3",
   "version": "3.11.6"
  }
 },
 "nbformat": 4,
 "nbformat_minor": 5
}
