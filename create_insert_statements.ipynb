{
 "cells": [
  {
   "cell_type": "code",
   "execution_count": 1,
   "id": "14b67a18-18a6-4b59-9dad-23ddcfc59537",
   "metadata": {},
   "outputs": [],
   "source": [
    "import pandas as pd"
   ]
  },
  {
   "cell_type": "markdown",
   "id": "062d2125-5c36-4301-8091-00e2a234c294",
   "metadata": {},
   "source": [
    "### Load Datasets"
   ]
  },
  {
   "cell_type": "code",
   "execution_count": 2,
   "id": "dbc1fe4a-60b9-49ad-a276-96d0edd08dab",
   "metadata": {},
   "outputs": [],
   "source": [
    "air_quality_dat = pd.read_csv(\"data/CPSC368 DATA - Air Quality.csv\")\n",
    "ghg_emissions_dat_wide = pd.read_csv(\"data/CPSC368 DATA - GHG Emissions.csv\")\n",
    "global_climate_index_dat = pd.read_csv(\"data/CPSC368 DATA - Global Climate Index.csv\")\n",
    "paris_agreement_dat = pd.read_csv(\"data/CPSC368 DATA - Paris Agreement.csv\")"
   ]
  },
  {
   "cell_type": "markdown",
   "id": "a8e8042e-9aed-4dd8-9e1b-4068dd53f4f8",
   "metadata": {},
   "source": [
    "### Clean Datasets"
   ]
  },
  {
   "cell_type": "code",
   "execution_count": 3,
   "id": "5d586340-ed90-4a34-85ac-567cef24cbc2",
   "metadata": {},
   "outputs": [],
   "source": [
    "# Clean data\n",
    "\n",
    "# Make country names the same\n",
    "global_climate_index_dat[\"Country\"] = global_climate_index_dat[\"Country\"].str.replace(\"-\",\" \")\n",
    "\n",
    "# Remove null/non-country rows at the end of the datasets\n",
    "ghg_emissions_dat_wide = ghg_emissions_dat_wide[:-4]\n",
    "ghg_emissions_dat = pd.melt(ghg_emissions_dat_wide, id_vars='Country', value_vars=['1970', '1971', '1972', '1973',\n",
    "       '1974', '1975', '1976', '1977', '1978', '1979', '1980', '1981', '1982',\n",
    "       '1983', '1984', '1985', '1986', '1987', '1988', '1989', '1990', '1991',\n",
    "       '1992', '1993', '1994', '1995', '1996', '1997', '1998', '1999', '2000',\n",
    "       '2001', '2002', '2003', '2004', '2005', '2006', '2007', '2008', '2009',\n",
    "       '2010', '2011', '2012', '2013', '2014', '2015', '2016', '2017', '2018',\n",
    "       '2019', '2020', '2021', '2022'], var_name = \"Year\", value_name = \"Emissions\")\n",
    "\n",
    "# Change a country name to match the others\n",
    "def alter_country_name(dataset, alter_dict, country_column_name):\n",
    "    '''change country names in a dataset so it matches the values in other datasets\n",
    "       example-- changing Brunei to Brunei Darussalam in one dataset so all datasets refer to Brunei in the same way\n",
    "\n",
    "       INPUTS:\n",
    "       dataset: dataset for which we are altering the country name\n",
    "       change_dict: a dictionary where the key is country name we want to alter and the value is what we are changing to\n",
    "       country_column_name: the column name of the column that contains countries\n",
    "\n",
    "       RETURNS:\n",
    "       altered dataset\n",
    "       '''\n",
    "    for original, changed in alter_dict.items():\n",
    "        dataset.loc[dataset[country_column_name] == original] = changed\n",
    "    return dataset\n",
    "\n",
    "\n",
    "ghg_emissions_dat = alter_country_name(ghg_emissions_dat, {'Brunei':\"Brunei Darussalam\",\"Czechia\":\"Czech Republic\",'Côte d’Ivoire':\"Côte d'Ivoire\",\"Iran\":\"Iran (Islamic Republic of)\",\"Laos\":\"Lao People's Democratic Republic\",\"South Korea\":'Republic of Korea',\"The Gambia\":\"Gambia\"}, \"Country\")\n",
    "paris_agreement_dat = alter_country_name(paris_agreement_dat, {'Bolivia (Plurinational State of)':'Bolivia',\"Denmark 1\":\"Denmark\",\"Micronesia (Federated States of)\":\"Micronesia\",\"Netherlands (Kingdom of the) 2\":\"Netherlands\",\"New Zealand 3\":\"New Zealand\",\"Republic of Moldova\":\"Moldova\",\"Yemen\":'Republic of Yemen','St. Kitts and Nevis':'St.Kitts and Nevis','St. Lucia':'St.Lucia','St. Vincent and the Grenadines':'St.Vincent and the Grenadines','United Kingdom of Great Britain and Northern Ireland 4, 5, 6':'United Kingdom',\"United States of America 7\":\"United States of America\"}, \"Participant\")\n",
    "air_quality_dat = alter_country_name(air_quality_dat, {'Bolivia (Plurinational State of)':'Bolivia',\"Czechia\":\"Czech Republic\"},\"WHO Country Name\") \n",
    "global_climate_index_dat = alter_country_name(global_climate_index_dat, {'Republic of Congo':'Congo',\"Islamic Republic of Iran\":\"Iran (Islamic Republic of)\",'Islamic Republic of Afghanistan':\"Afghanistan\",\"Kyrgyz Republic\":\"Kyrgyzstan\",\"Korea, Republic of\":'Republic of Korea',\"Russia\":\"Russian Federation\",'Slovak Republic':'Slovakia','United States':'United States of America','Venezuela':'Venezuela (Bolivarian Republic of)',\"Vietnam\":\"Viet Nam\",\"The Gambia\":\"Gambia\"},\"Country\") "
   ]
  },
  {
   "cell_type": "markdown",
   "id": "5eb7dd02-40a1-43ec-81d0-d71434bc4b48",
   "metadata": {},
   "source": [
    "### Create Insert Statements"
   ]
  },
  {
   "cell_type": "code",
   "execution_count": 4,
   "id": "8bfcf68c-0e41-4b3b-8162-ce5dad432b0d",
   "metadata": {},
   "outputs": [],
   "source": [
    "# Clear conents of insert statement text file for clean state\n",
    "open('data/insert_statements.txt','w').close()"
   ]
  },
  {
   "cell_type": "code",
   "execution_count": 5,
   "id": "bd3b23c1-152f-4ca5-a6cb-00a3df2eeeab",
   "metadata": {},
   "outputs": [],
   "source": [
    "# Find out which countries are not in the air-quality dataset\n",
    "who_countries = set(air_quality_dat[\"WHO Country Name\"].unique())\n",
    "ghg_emissions_countries = set(ghg_emissions_dat[\"Country\"].unique())\n",
    "gci_countries = set(global_climate_index_dat[\"Country\"].unique())\n",
    "paris_agreement_countries = set(paris_agreement_dat[\"Participant\"].unique())\n",
    "country_names_not_in_who_countries = who_countries.union(ghg_emissions_countries).union(gci_countries).union(paris_agreement_countries) - who_countries"
   ]
  },
  {
   "cell_type": "code",
   "execution_count": 6,
   "id": "b8df36a7-ca9a-43f3-8cd7-e5474ad197b1",
   "metadata": {},
   "outputs": [],
   "source": [
    "# Create Country Table Insert Statements\n",
    "\n",
    "# open insert statements file\n",
    "insert_statements=open('data/insert_statements.txt','w')\n",
    "# create table with country names and attributes from the air-quality dataset\n",
    "who_countries_df = air_quality_dat[[\"WHO Country Name\",\"WHO Region\",\"ISO3\"]].drop_duplicates()\n",
    "# create insert statements for countries in the air-quality dataset\n",
    "for index, row in who_countries_df.iterrows():\n",
    "    insert_statements.write(f'INSERT INTO Country(Country_Name, WHO_Region, ISO)\\n VALUES ({row[\"WHO Country Name\"]},{row[\"WHO Region\"]},{row[\"ISO3\"]}) \\n')\n",
    "# create insert statements for countries NOT in the air-quality dataset\n",
    "for leftover_country in country_names_not_in_who_countries:\n",
    "    insert_statements.write(f'INSERT INTO Country(Country_Name, WHO_Region, ISO)\\n VALUES ({leftover_country},NULL,NULL) \\n')\n",
    "insert_statements.write(f'\\n \\n \\n \\n')\n",
    "insert_statements.close()"
   ]
  },
  {
   "cell_type": "code",
   "execution_count": 7,
   "id": "8f9635aa-bcff-4ca2-a0c4-282f648d037e",
   "metadata": {},
   "outputs": [],
   "source": [
    "# Create City Table Insert Statements\n",
    "\n",
    "# open insert statements file\n",
    "insert_statements=open('data/insert_statements.txt','a')\n",
    "# create table with country names and city names from the air-quality dataset\n",
    "who_cities_df = air_quality_dat[[\"WHO Country Name\",\"City or Locality\"]].drop_duplicates()\n",
    "# create insert statements for countries in the air-quality dataset\n",
    "for index, row in who_cities_df.iterrows():\n",
    "    insert_statements.write(f'INSERT INTO City(City_Name,Country_Name)\\n VALUES ({row[\"City or Locality\"]},{row[\"WHO Country Name\"]}) \\n')\n",
    "insert_statements.write(f'\\n \\n \\n \\n \\n')\n",
    "insert_statements.close()"
   ]
  },
  {
   "cell_type": "code",
   "execution_count": 8,
   "id": "14acf529-df9e-44e6-abf4-ab32671952cb",
   "metadata": {},
   "outputs": [],
   "source": [
    "# Create Air_Quality_Measures Table Insert Statements\n",
    "\n",
    "# open insert statements file\n",
    "insert_statements=open('data/insert_statements.txt','a')\n",
    "# create insert statements for countries in the air-quality dataset\n",
    "for index, row in air_quality_dat.iterrows():\n",
    "    insert_statements.write(f'INSERT INTO Air_Quality_Measures(ID, Year, City_Name, Country_Name, NO2, PM10, PM2.5, NO2_temporal_coverage, PM2.5_temporal_coverage, PM10_temporal_coverage)\\n VALUES ({index}, {row[\"Measurement Year\"]}, {row[\"City or Locality\"]}, {row[\"WHO Country Name\"]}, {row[\"NO2 (μg/m3)\"]}, {row[\"PM10 (μg/m3)\"]}, {row[\"PM2.5 (μg/m3)\"]}, {row[\"NO2 temporal coverage (%)\"]}, {row[\"PM25 temporal coverage (%)\"]}, {row[\"PM10 temporal coverage (%)\"]}) \\n')\n",
    "insert_statements.write(f'\\n \\n \\n \\n \\n')\n",
    "insert_statements.close()"
   ]
  },
  {
   "cell_type": "code",
   "execution_count": 9,
   "id": "c85f5973-d77e-4738-b959-e19d40dec945",
   "metadata": {},
   "outputs": [],
   "source": [
    "# Create Greenhouse_Gasses Table Insert Statements\n",
    "\n",
    "insert_statements=open('data/insert_statements.txt','a')\n",
    "# create insert statements for countries in the air-quality dataset\n",
    "for index, row in ghg_emissions_dat.iterrows():\n",
    "    insert_statements.write(f'INSERT INTO Greenhouse_Gasses(Year, Country_Name, Per_Capita_GHG) \\n VALUES ({row[\"Year\"]},{row[\"Country\"]},{row[\"Emissions\"]}) \\n')\n",
    "insert_statements.write(f'\\n \\n \\n \\n \\n')\n",
    "insert_statements.close()"
   ]
  }
 ],
 "metadata": {
  "kernelspec": {
   "display_name": "Python 3 (ipykernel)",
   "language": "python",
   "name": "python3"
  },
  "language_info": {
   "codemirror_mode": {
    "name": "ipython",
    "version": 3
   },
   "file_extension": ".py",
   "mimetype": "text/x-python",
   "name": "python",
   "nbconvert_exporter": "python",
   "pygments_lexer": "ipython3",
   "version": "3.11.6"
  }
 },
 "nbformat": 4,
 "nbformat_minor": 5
}
