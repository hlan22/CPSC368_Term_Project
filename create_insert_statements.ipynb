{
 "cells": [
  {
   "cell_type": "code",
   "execution_count": 1,
   "id": "14b67a18-18a6-4b59-9dad-23ddcfc59537",
   "metadata": {},
   "outputs": [],
   "source": [
    "import pandas as pd\n",
    "from itertools import zip_longest\n",
    "import numpy as np"
   ]
  },
  {
   "cell_type": "markdown",
   "id": "062d2125-5c36-4301-8091-00e2a234c294",
   "metadata": {},
   "source": [
    "### Load Datasets"
   ]
  },
  {
   "cell_type": "code",
   "execution_count": 2,
   "id": "dbc1fe4a-60b9-49ad-a276-96d0edd08dab",
   "metadata": {},
   "outputs": [],
   "source": [
    "air_quality_dat = pd.read_csv(\"data/CPSC368 DATA - Air Quality.csv\")\n",
    "ghg_emissions_dat_wide = pd.read_csv(\"data/CPSC368 DATA - GHG Emissions.csv\")\n",
    "global_climate_index_dat = pd.read_csv(\"data/CPSC368 DATA - Global Climate Index.csv\")\n",
    "paris_agreement_dat = pd.read_csv(\"data/CPSC368 DATA - Paris Agreement.csv\")"
   ]
  },
  {
   "cell_type": "markdown",
   "id": "a8e8042e-9aed-4dd8-9e1b-4068dd53f4f8",
   "metadata": {},
   "source": [
    "### Clean Datasets"
   ]
  },
  {
   "cell_type": "code",
   "execution_count": 3,
   "id": "6532f587-69b0-466a-bbed-6783bfb75eaa",
   "metadata": {},
   "outputs": [],
   "source": [
    "# Clean data\n",
    "\n",
    "# Make country names the same\n",
    "global_climate_index_dat[\"Country\"] = global_climate_index_dat[\"Country\"].str.replace(\"-\",\" \")\n",
    "global_climate_index_dat[\"Country\"] = global_climate_index_dat[\"Country\"].str.replace(\"'\",\"''\")\n",
    "\n",
    "paris_agreement_dat[\"Participant\"] = paris_agreement_dat[\"Participant\"].str.replace(\"-\",\" \")\n",
    "paris_agreement_dat[\"Participant\"] = paris_agreement_dat[\"Participant\"].str.replace(\"'\",\"''\")\n",
    "\n",
    "air_quality_dat[\"WHO Country Name\"] = air_quality_dat[\"WHO Country Name\"].str.replace(\"'\",\"''\")\n",
    "air_quality_dat[\"City or Locality\"] = air_quality_dat[\"City or Locality\"].str.replace(\"'\",\"''\")\n",
    "air_quality_dat[\"City or Locality\"] = air_quality_dat[\"City or Locality\"].str.replace(\"&\",\"and\")\n",
    "\n",
    "ghg_emissions_dat_wide[\"Country\"] = ghg_emissions_dat_wide[\"Country\"].str.replace(\"'\",\"''\")\n",
    "\n",
    "global_climate_index_dat = global_climate_index_dat.replace(np.NaN, \"NULL\")\n",
    "paris_agreement_dat = paris_agreement_dat.replace(np.NaN, \"NULL\")\n",
    "air_quality_dat = air_quality_dat.replace(np.NaN, \"NULL\")\n",
    "ghg_emissions_dat_wide = ghg_emissions_dat_wide.replace(np.NaN, \"NULL\")\n",
    "\n",
    "# Remove null/non-country rows\n",
    "ghg_emissions_dat_wide = ghg_emissions_dat_wide[:-4]\n",
    "paris_agreement_dat = paris_agreement_dat.drop(paris_agreement_dat[paris_agreement_dat[\"Participant\"] == \"European Union\"].index)\n",
    "\n",
    "# Make year a column in greenhouse gas emissions data\n",
    "ghg_emissions_dat = pd.melt(ghg_emissions_dat_wide, id_vars='Country', value_vars=['1970', '1971', '1972', '1973',\n",
    "       '1974', '1975', '1976', '1977', '1978', '1979', '1980', '1981', '1982',\n",
    "       '1983', '1984', '1985', '1986', '1987', '1988', '1989', '1990', '1991',\n",
    "       '1992', '1993', '1994', '1995', '1996', '1997', '1998', '1999', '2000',\n",
    "       '2001', '2002', '2003', '2004', '2005', '2006', '2007', '2008', '2009',\n",
    "       '2010', '2011', '2012', '2013', '2014', '2015', '2016', '2017', '2018',\n",
    "       '2019', '2020', '2021', '2022'], var_name = \"Year\", value_name = \"Emissions\")"
   ]
  },
  {
   "cell_type": "code",
   "execution_count": 4,
   "id": "5d586340-ed90-4a34-85ac-567cef24cbc2",
   "metadata": {},
   "outputs": [],
   "source": [
    "\n",
    "\n",
    "# Change a country name to match the others\n",
    "def alter_country_name(dataset, alter_dict, country_column_name):\n",
    "    '''change country names in a dataset so it matches the values in other datasets\n",
    "       example-- changing Brunei to Brunei Darussalam in one dataset so all datasets refer to Brunei in the same way\n",
    "\n",
    "       INPUTS:\n",
    "       dataset: dataset for which we are altering the country name\n",
    "       change_dict: a dictionary where the key is country name we want to alter and the value is what we are changing to\n",
    "       country_column_name: the column name of the column that contains countries\n",
    "\n",
    "       RETURNS:\n",
    "       altered dataset\n",
    "       '''\n",
    "    for original, changed in alter_dict.items():\n",
    "        dataset.loc[dataset[country_column_name] == original, country_column_name] = changed\n",
    "    return dataset\n",
    "\n",
    "\n",
    "ghg_emissions_dat = alter_country_name(ghg_emissions_dat, {'Brunei':\"Brunei Darussalam\",\n",
    "                                                           \"Czechia\":\"Czech Republic\",\n",
    "                                                           'Côte d’Ivoire':\"Côte d''Ivoire\",\n",
    "                                                           \"Iran\":\"Iran (Islamic Republic of)\",\n",
    "                                                           \"Laos\":\"Lao People''s Democratic Republic\",\n",
    "                                                           \"South Korea\":'Republic of Korea',\n",
    "                                                           'Vietnam':'Viet Nam',\n",
    "                                                           \"Russia\":\"Russian Federation\",\n",
    "                                                           \"The Gambia\":\"Gambia\",\n",
    "                                                           \"Myanmar/Burma\":\"Myanmar\",\n",
    "                                                           \"Saint Lucia\":\"St.Lucia\",\n",
    "                                                           \"Saint Pierre and Miquelon\":\"St.Pierre and Miquelon\",\n",
    "                                                           \"Saint Vincent and the Grenadines\":\"St.Vincent and the Grenadines\",\n",
    "                                                           \"Saint Kitts and Nevis\":\"St.Kitts and Nevis\",\n",
    "                                                           \"Saint Helena, Ascension and Tristan\":\"St.Helena, Ascension and Tristan\",\n",
    "                                                           \"Türkiye\":\"Turkey\"\n",
    "                                                           },\n",
    "                                       \"Country\")\n",
    "paris_agreement_dat = alter_country_name(paris_agreement_dat, {'Bolivia (Plurinational State of)':'Bolivia',\n",
    "                                                               \"Denmark 1\":\"Denmark\",\n",
    "                                                               \"Micronesia (Federated States of)\":\"Micronesia\",\n",
    "                                                               \"Netherlands (Kingdom of the) 2\":\"Netherlands\",\n",
    "                                                               \"New Zealand 3\":\"New Zealand\",\n",
    "                                                               \"Republic of Moldova\":\"Moldova\",\n",
    "                                                               \"Yemen\":'Republic of Yemen',\n",
    "                                                               'St. Kitts and Nevis':'St.Kitts and Nevis',\n",
    "                                                               'St. Lucia':'St.Lucia',\n",
    "                                                               'St. Vincent and the Grenadines':'St.Vincent and the Grenadines',\n",
    "                                                               'United Kingdom of Great Britain and Northern Ireland 4, 5, 6':'United Kingdom',\n",
    "                                                               \"United States of America 7\":\"United States of America\",\n",
    "                                                               \"Venezuela (Bolivarian Republic of)\":'Venezuela',\n",
    "                                                               \"United Republic of Tanzania\":\"Tanzania\",\n",
    "                                                               \"Türkiye\":\"Turkey\"},\n",
    "                                         \"Participant\")\n",
    "air_quality_dat = alter_country_name(air_quality_dat, {'Bolivia (Plurinational State of)':'Bolivia',\n",
    "                                                       \"Czechia\":\"Czech Republic\",\n",
    "                                                       \"Venezuela (Bolivarian Republic of)\":'Venezuela',\n",
    "                                                       \"United Republic of Tanzania\":\"Tanzania\"},\n",
    "                                     \"WHO Country Name\") \n",
    "global_climate_index_dat = alter_country_name(global_climate_index_dat, {'Republic of Congo':'Congo',\n",
    "                                                                         \"Islamic Republic of Iran\":\"Iran (Islamic Republic of)\",\n",
    "                                                                         'Islamic Republic of Afghanistan':\"Afghanistan\",\n",
    "                                                                         \"Kyrgyz Republic\":\"Kyrgyzstan\",\n",
    "                                                                         \"Korea, Republic of\":'Republic of Korea',\n",
    "                                                                         \"Russia\":\"Russian Federation\",\n",
    "                                                                         'Slovak Republic':'Slovakia',\n",
    "                                                                         'United States':'United States of America',\n",
    "                                                                         \"The Gambia\":\"Gambia\",\n",
    "                                                                         \"Vietnam\":\"Viet Nam\",\n",
    "                                                                         \"Democratic Republic of Timor Leste\":\"Timor-Leste\"},\n",
    "                                              \"Country\") "
   ]
  },
  {
   "cell_type": "markdown",
   "id": "5eb7dd02-40a1-43ec-81d0-d71434bc4b48",
   "metadata": {},
   "source": [
    "### Create Insert Statements"
   ]
  },
  {
   "cell_type": "code",
   "execution_count": 5,
   "id": "8bfcf68c-0e41-4b3b-8162-ce5dad432b0d",
   "metadata": {},
   "outputs": [],
   "source": [
    "# Clear conents of insert statement text file for clean state\n",
    "open('data/insert_statements.txt','w').close()"
   ]
  },
  {
   "cell_type": "code",
   "execution_count": 6,
   "id": "bd3b23c1-152f-4ca5-a6cb-00a3df2eeeab",
   "metadata": {},
   "outputs": [],
   "source": [
    "# Find out which countries are not in the air-quality dataset\n",
    "aq_countries = set(air_quality_dat[\"WHO Country Name\"].unique())\n",
    "ghg_emissions_countries = set(ghg_emissions_dat[\"Country\"].unique())\n",
    "gci_countries = set(global_climate_index_dat[\"Country\"].unique())\n",
    "pa_countries = set(paris_agreement_dat[\"Participant\"].unique())\n",
    "country_names_not_in_aq_countries = aq_countries.union(ghg_emissions_countries).union(gci_countries).union(pa_countries) - aq_countries"
   ]
  },
  {
   "cell_type": "code",
   "execution_count": 7,
   "id": "75e76c0f-469f-4e42-a6e2-2239923dc6ca",
   "metadata": {},
   "outputs": [],
   "source": [
    "# open insert statements file\n",
    "insert_statements=open('data/insert_statements.txt','w')"
   ]
  },
  {
   "cell_type": "code",
   "execution_count": 8,
   "id": "b8df36a7-ca9a-43f3-8cd7-e5474ad197b1",
   "metadata": {},
   "outputs": [],
   "source": [
    "# Create Country Table Insert Statements\n",
    "\n",
    "# create table with country names and attributes from the air-quality dataset\n",
    "aq_countries_df = air_quality_dat[[\"WHO Country Name\",\"WHO Region\",\"ISO3\"]].drop_duplicates()\n",
    "\n",
    "# create insert statements for countries in the air-quality dataset\n",
    "for index, row in aq_countries_df.iterrows():\n",
    "    insert_statements.write(f\"INSERT INTO Country(Country_Name, WHO_Region, ISO)\\n VALUES ('{row['WHO Country Name']}','{row['WHO Region']}','{row['ISO3']}'); \\n\")\n",
    "\n",
    "# create insert statements for countries NOT in the air-quality dataset\n",
    "for leftover_country in country_names_not_in_aq_countries:\n",
    "    insert_statements.write(f\"INSERT INTO Country(Country_Name, WHO_Region, ISO)\\n VALUES ('{leftover_country}',NULL,NULL); \\n\")\n",
    "\n",
    "insert_statements.write(f'\\n \\n \\n \\n');"
   ]
  },
  {
   "cell_type": "code",
   "execution_count": 9,
   "id": "8f9635aa-bcff-4ca2-a0c4-282f648d037e",
   "metadata": {},
   "outputs": [],
   "source": [
    "# Create City Table Insert Statements\n",
    "\n",
    "# create table with country names and city names from the air-quality dataset\n",
    "aq_cities_df = air_quality_dat[[\"WHO Country Name\",\"City or Locality\"]].drop_duplicates()\n",
    "\n",
    "# create insert statements for countries in the air-quality dataset\n",
    "for index, row in aq_cities_df.iterrows():\n",
    "    insert_statements.write(f\"INSERT INTO City(City_Name,Country_Name)\\n VALUES ('{row['City or Locality']}','{row['WHO Country Name']}'); \\n\")\n",
    "\n",
    "insert_statements.write(f'\\n \\n \\n \\n \\n');"
   ]
  },
  {
   "cell_type": "code",
   "execution_count": 10,
   "id": "14acf529-df9e-44e6-abf4-ab32671952cb",
   "metadata": {},
   "outputs": [],
   "source": [
    "# Create Air_Quality_Measures Table Insert Statements\n",
    "\n",
    "# create insert statements for countries in the air-quality dataset\n",
    "for index, row in air_quality_dat.iterrows():\n",
    "    insert_statements.write(f\"INSERT INTO Air_Quality_Measures(ID, Year, City_Name, Country_Name, NO2, PM10, PM25, NO2_temporal_coverage, PM25_temporal_coverage, PM10_temporal_coverage)\\n VALUES ({index}, '{row['Measurement Year']}', '{row['City or Locality']}', '{row['WHO Country Name']}', {row['NO2 (μg/m3)']}, {row['PM10 (μg/m3)']}, {row['PM2.5 (μg/m3)']}, {row['NO2 temporal coverage (%)']}, {row['PM25 temporal coverage (%)']}, {row['PM10 temporal coverage (%)']}); \\n\")\n",
    "\n",
    "insert_statements.write(f'\\n \\n \\n \\n \\n');"
   ]
  },
  {
   "cell_type": "code",
   "execution_count": 11,
   "id": "c85f5973-d77e-4738-b959-e19d40dec945",
   "metadata": {},
   "outputs": [],
   "source": [
    "# Create Greenhouse_Gasses Table Insert Statements\n",
    "\n",
    "# create insert statements for countries in the air-quality dataset\n",
    "for index, row in ghg_emissions_dat.iterrows():\n",
    "    insert_statements.write(f\"INSERT INTO Greenhouse_Gasses(Year, Country_Name, Per_Capita_GHG) \\n VALUES ('{row['Year']}','{row['Country']}',{row['Emissions']}); \\n\")\n",
    "\n",
    "insert_statements.write(f'\\n \\n \\n \\n \\n');"
   ]
  },
  {
   "cell_type": "code",
   "execution_count": 12,
   "id": "789e6f0e-0864-47cb-a56a-706b07f75536",
   "metadata": {},
   "outputs": [],
   "source": [
    "# Create Paris_Agreement_Member Table Insert Statements\n",
    "\n",
    "# create table with country names and attributes from the paris agreement dataset\n",
    "pa_countries_df = paris_agreement_dat[[\"Participant\",\"Ratification, Acceptance(A), Approval(AA), Accession(a)\"]].drop_duplicates()\n",
    "\n",
    "# create insert statements for countries in the paris agreement dataset\n",
    "for index, row in pa_countries_df.iterrows():\n",
    "    insert_statements.write(f\"INSERT INTO Paris_Agreement_Member(Country_Name, Date_Joined)\\n VALUES ('{row['Participant']}','{row['Ratification, Acceptance(A), Approval(AA), Accession(a)']}'); \\n\")\n",
    "\n",
    "insert_statements.write(f'\\n \\n \\n \\n');"
   ]
  },
  {
   "cell_type": "code",
   "execution_count": 13,
   "id": "f5a4c779-53aa-4878-9218-647cdca32044",
   "metadata": {},
   "outputs": [],
   "source": [
    "# Create Climate_Risk_Index Table Insert Statements\n",
    "\n",
    "# create insert statements for countries in the climate risk index dataset\n",
    "for index, row in global_climate_index_dat.iterrows():\n",
    "    insert_statements.write(f\"INSERT INTO Climate_Risk_Index(ID, Country_Name, CRI_Rank, CRI_Score, Fatalities_Rank, Fatalities_per_100000_inhabitants_Rank, Losses_in_US_million_Rank, Losses_per_unit_GDP_Rank) \\n VALUES ({row['ID']},'{row['Country']}',{row['CRI Rank']},{row['CRI score']},{row['Fatalities in 2018 (Rank)']},{row['Fatalities per 100 000 inhabitants (Rank)']},{row['Losses in million US$ (PPP) (Rank)']},{row['Losses per unit GDP in % (Rank)']}); \\n\")\n",
    "\n",
    "insert_statements.write(f'\\n \\n \\n \\n \\n');\n"
   ]
  },
  {
   "cell_type": "code",
   "execution_count": 14,
   "id": "b39bac52-dedf-46dc-a7cb-aa5e428d1b27",
   "metadata": {},
   "outputs": [],
   "source": [
    "# Close file\n",
    "insert_statements.close()"
   ]
  }
 ],
 "metadata": {
  "kernelspec": {
   "display_name": "Python 3 (ipykernel)",
   "language": "python",
   "name": "python3"
  },
  "language_info": {
   "codemirror_mode": {
    "name": "ipython",
    "version": 3
   },
   "file_extension": ".py",
   "mimetype": "text/x-python",
   "name": "python",
   "nbconvert_exporter": "python",
   "pygments_lexer": "ipython3",
   "version": "3.11.6"
  }
 },
 "nbformat": 4,
 "nbformat_minor": 5
}
