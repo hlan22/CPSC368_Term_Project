{
 "cells": [
  {
   "cell_type": "code",
   "execution_count": 1,
   "id": "5e8370ad-4c93-4592-a4e7-7f75665af9c4",
   "metadata": {},
   "outputs": [],
   "source": [
    "import pandas as pd\n",
    "import numpy as np\n",
    "import warnings\n",
    "from sklearn.linear_model import Ridge\n",
    "import statsmodels.regression.linear_model as sm\n",
    "import statsmodels.graphics.gofplots as smg\n",
    "import statsmodels.tools.tools as t\n",
    "import seaborn as sns\n",
    "import matplotlib.pyplot as plt\n",
    "from itertools import zip_longest\n",
    "import altair as alt"
   ]
  },
  {
   "cell_type": "markdown",
   "id": "129575f5-276c-44fa-ae90-64c0de454847",
   "metadata": {},
   "source": [
    "We will be conducting a regression analysis to check the association between countries’ greenhouse gas emissions (independent variable) and their global climate risk indices (dependent variable).\n",
    "\n",
    "The greenhouse gas emissions include CO2 (fossil only), CH4, N2O and F-gases. They are combined using Global Warming Potential values from IPCC AR5. This data comes from the [Emissions Database for Global Atmospheric Research](https://edgar.jrc.ec.europa.eu/report_2023#data_download).\n",
    "\n",
    "\n",
    "The [2020 global climate risk index](https://www.germanwatch.org/sites/default/files/20-2-01e%20Global%20Climate%20Risk%20Index%202020_14.pdf)  lists each country’s climate risk score and rank, and is published by a group called Germanwatch. This metric indicates a country's to-date exposure and level of susceptibility to climate-adjacent extreme events. The dataset can be found on pages 37 to 43 of the linked pdf. \n",
    "\n",
    "\n",
    "The [Paris Climate Agreement data](https://treaties.un.org/pages/ViewDetails.aspx?src=TREATY&mtdsg_no=XXVII-7-d&chapter=27&clang=_en) assigns each country one of the following values: \"R\" for Ratification, \"A\" for Acceptance, \"AA\" for Approval, \"a\" for Accession, or \"None\" for no participation. This data comes from the United Nations Treaty Collection."
   ]
  },
  {
   "cell_type": "code",
   "execution_count": 2,
   "id": "35fb25b9-49f5-4ac1-9a51-253ffb1c4e64",
   "metadata": {},
   "outputs": [],
   "source": [
    "# Reading in the data\n",
    "climate_risk_dat = pd.read_csv(\"../fetched_data/CRI.csv\")\n",
    "\n",
    "paris_agreement_dat = pd.read_csv(\"../fetched_data/PARIS_AGREEMENT_DATA.csv\")\n",
    "\n",
    "greenhouse_gas_dat = pd.read_csv(\"../fetched_data/GHG_DATA.csv\")"
   ]
  },
  {
   "cell_type": "code",
   "execution_count": 3,
   "id": "15687843-3320-4aa3-9d19-70ddae78961e",
   "metadata": {},
   "outputs": [
    {
     "name": "stdout",
     "output_type": "stream",
     "text": [
      "Index(['ID', 'Country_Name', 'CRI_RANK', 'CRI_SCORE', 'Fatalities_Rank',\n",
      "       'Fatalities_per_100000_inhabitants_RANK', 'Losses_in_US_Million_Rank',\n",
      "       'Losses_per_unit_GDP_Rank'],\n",
      "      dtype='object')\n",
      "Index(['Country_Name', 'Date_Joined'], dtype='object')\n",
      "Index(['Country', 'GHG_Emissions'], dtype='object')\n"
     ]
    }
   ],
   "source": [
    "# Checking column name representation prior to merging\n",
    "print(climate_risk_dat.columns)\n",
    "print(paris_agreement_dat.columns)\n",
    "print(greenhouse_gas_dat.columns)"
   ]
  },
  {
   "cell_type": "code",
   "execution_count": 4,
   "id": "6894d29c-7270-4dc2-99b6-03f64e7f6b8d",
   "metadata": {},
   "outputs": [],
   "source": [
    "# Convert Country columns to string type\n",
    "climate_risk_dat['Country_Name'] = climate_risk_dat['Country_Name'].astype(\"string\")\n",
    "paris_agreement_dat['Country_Name'] = paris_agreement_dat['Country_Name'].astype(\"string\")\n",
    "greenhouse_gas_dat['Country'] = greenhouse_gas_dat['Country'].astype(\"string\")"
   ]
  },
  {
   "cell_type": "code",
   "execution_count": 15,
   "id": "74850ca9-9a26-41ed-aa32-1d36d1155950",
   "metadata": {},
   "outputs": [
    {
     "name": "stdout",
     "output_type": "stream",
     "text": [
      "Afghanistan                                   Afghanistan                              Afghanistan    \n",
      "Albania                                       Albania                                  Albania        \n",
      "Algeria                                       Algeria                                  Algeria        \n",
      "Angola                                        Andorra                                  Angola         \n",
      "Anguilla                                      Angola                                   Antigua and Barbuda\n",
      "Antigua and Barbuda                           Antigua and Barbuda                      Argentina      \n",
      "Argentina                                     Argentina                                Armenia        \n",
      "Armenia                                       Armenia                                  Australia      \n",
      "Aruba                                         Australia                                Austria        \n",
      "Australia                                     Austria                                  Azerbaijan     \n",
      "Austria                                       Azerbaijan                               Bahamas        \n",
      "Azerbaijan                                    Bahamas                                  Bahrain        \n",
      "Bahamas                                       Bahrain                                  Bangladesh     \n",
      "Bahrain                                       Bangladesh                               Barbados       \n",
      "Bangladesh                                    Barbados                                 Belarus        \n",
      "Barbados                                      Belarus                                  Belgium        \n",
      "Belarus                                       Belgium                                  Belize         \n",
      "Belgium                                       Belize                                   Benin          \n",
      "Belize                                        Benin                                    Bhutan         \n",
      "Benin                                         Bhutan                                   Bolivia        \n",
      "Bermuda                                       Bolivia                                  Bosnia and Herzegovina\n",
      "Bhutan                                        Bosnia and Herzegovina                   Botswana       \n",
      "Bolivia                                       Botswana                                 Brazil         \n",
      "Bosnia and Herzegovina                        Brazil                                   Brunei Darussalam\n",
      "Botswana                                      Brunei Darussalam                        Bulgaria       \n",
      "Brazil                                        Bulgaria                                 Burkina Faso   \n",
      "British Virgin Islands                        Burkina Faso                             Burundi        \n",
      "Brunei Darussalam                             Burundi                                  Cabo Verde     \n",
      "Bulgaria                                      Cabo Verde                               Cambodia       \n",
      "Burkina Faso                                  Cambodia                                 Cameroon       \n",
      "Burundi                                       Cameroon                                 Canada         \n",
      "Cabo Verde                                    Canada                                   Central African Republic\n",
      "Cambodia                                      Central African Republic                 Chad           \n",
      "Cameroon                                      Chad                                     Chile          \n",
      "Canada                                        Chile                                    China          \n",
      "Cayman Islands                                China                                    Chinese Taipei \n",
      "Central African Republic                      Colombia                                 Colombia       \n",
      "Chad                                          Comoros                                  Comoros        \n",
      "Chile                                         Congo                                    Congo          \n",
      "China                                         Cook Islands                             Costa Rica     \n",
      "Colombia                                      Costa Rica                               Croatia        \n",
      "Comoros                                       Croatia                                  Cyprus         \n",
      "Congo                                         Cuba                                     Czech Republic \n",
      "Cook Islands                                  Cyprus                                   C��te d'Ivoire \n",
      "Costa Rica                                    Czech Republic                           Democratic Republic of the Congo\n",
      "Croatia                                       C��te d'Ivoire                           Denmark        \n",
      "Cuba                                          Democratic People's Republic of Korea    Djibouti       \n",
      "Cura��ao                                      Democratic Republic of the Congo         Dominica       \n",
      "Cyprus                                        Denmark                                  Dominican Republic\n",
      "Czech Republic                                Djibouti                                 Ecuador        \n",
      "C��te d'Ivoire                                Dominica                                 Egypt          \n",
      "Democratic Republic of the Congo              Dominican Republic                       El Salvador    \n",
      "Denmark                                       Ecuador                                  Eritrea        \n",
      "Djibouti                                      Egypt                                    Estonia        \n",
      "Dominica                                      El Salvador                              Eswatini       \n",
      "Dominican Republic                            Equatorial Guinea                        Ethiopia       \n",
      "Ecuador                                       Eritrea                                  Fiji           \n",
      "Egypt                                         Estonia                                  Finland        \n",
      "El Salvador                                   Eswatini                                 France         \n",
      "Equatorial Guinea                             Ethiopia                                 Gabon          \n",
      "Eritrea                                       Fiji                                     Gambia         \n",
      "Estonia                                       Finland                                  Georgia        \n",
      "Eswatini                                      France                                   Germany        \n",
      "Ethiopia                                      Gabon                                    Ghana          \n",
      "Falkland Islands                              Gambia                                   Greece         \n",
      "Faroes                                        Georgia                                  Grenada        \n",
      "Fiji                                          Germany                                  Guatemala      \n",
      "Finland                                       Ghana                                    Guinea         \n",
      "France                                        Greece                                   Guinea Bissau  \n",
      "French Guiana                                 Grenada                                  Guyana         \n",
      "French Polynesia                              Guatemala                                Haiti          \n",
      "Gabon                                         Guinea                                   Honduras       \n",
      "Gambia                                        Guinea Bissau                            Hungary        \n",
      "Georgia                                       Guyana                                   Iceland        \n",
      "Germany                                       Haiti                                    India          \n",
      "Ghana                                         Holy See                                 Indonesia      \n",
      "Gibraltar                                     Honduras                                 Iran (Islamic Republic of)\n",
      "Greece                                        Hungary                                  Iraq           \n",
      "Greenland                                     Iceland                                  Ireland        \n",
      "Grenada                                       India                                    Israel         \n",
      "Guadeloupe                                    Indonesia                                Italy          \n",
      "Guatemala                                     Iran (Islamic Republic of)               Jamaica        \n",
      "Guinea                                        Iraq                                     Japan          \n",
      "Guinea Bissau                                 Ireland                                  Jordan         \n",
      "Guyana                                        Israel                                   Kazakhstan     \n",
      "Haiti                                         Italy                                    Kenya          \n",
      "Honduras                                      Jamaica                                  Kiribati       \n",
      "Hong Kong                                     Japan                                    Kosovo         \n",
      "Hungary                                       Jordan                                   Kuwait         \n",
      "Iceland                                       Kazakhstan                               Kyrgyzstan     \n",
      "India                                         Kenya                                    Lao People's Democratic Republic\n",
      "Indonesia                                     Kiribati                                 Latvia         \n",
      "Iran (Islamic Republic of)                    Kuwait                                   Lebanon        \n",
      "Iraq                                          Kyrgyzstan                               Lesotho        \n",
      "Ireland                                       Lao People's Democratic Republic         Liberia        \n",
      "Israel                                        Latvia                                   Libya          \n",
      "Italy                                         Lebanon                                  Lithuania      \n",
      "Jamaica                                       Lesotho                                  Luxembourg     \n",
      "Japan                                         Liberia                                  Madagascar     \n",
      "Jordan                                        Libya                                    Malawi         \n",
      "Kazakhstan                                    Liechtenstein                            Malaysia       \n",
      "Kenya                                         Lithuania                                Maldives       \n",
      "Kiribati                                      Luxembourg                               Mali           \n",
      "Kuwait                                        Madagascar                               Malta          \n",
      "Kyrgyzstan                                    Malawi                                   Marshall Islands\n",
      "Lao People's Democratic Republic              Malaysia                                 Mauritania     \n",
      "Latvia                                        Maldives                                 Mauritius      \n",
      "Lebanon                                       Mali                                     Mexico         \n",
      "Lesotho                                       Malta                                    Micronesia     \n",
      "Liberia                                       Marshall Islands                         Moldova        \n",
      "Libya                                         Mauritania                               Mongolia       \n",
      "Lithuania                                     Mauritius                                Montenegro     \n",
      "Luxembourg                                    Mexico                                   Morocco        \n",
      "Macao                                         Micronesia                               Mozambique     \n",
      "Madagascar                                    Moldova                                  Myanmar        \n",
      "Malawi                                        Monaco                                   Namibia        \n",
      "Malaysia                                      Mongolia                                 Nepal          \n",
      "Maldives                                      Montenegro                               Netherlands    \n",
      "Mali                                          Morocco                                  New Zealand    \n",
      "Malta                                         Mozambique                               Nicaragua      \n",
      "Martinique                                    Myanmar                                  Niger          \n",
      "Mauritania                                    Namibia                                  Nigeria        \n",
      "Mauritius                                     Nauru                                    North Macedonia\n",
      "Mexico                                        Nepal                                    Norway         \n",
      "Moldova                                       Netherlands                              Oman           \n",
      "Mongolia                                      New Zealand                              Pakistan       \n",
      "Morocco                                       Nicaragua                                Panama         \n",
      "Mozambique                                    Niger                                    Papua New Guinea\n",
      "Myanmar                                       Nigeria                                  Paraguay       \n",
      "Namibia                                       Niue                                     Peru           \n",
      "Nepal                                         North Macedonia                          Philippines    \n",
      "Netherlands                                   Norway                                   Poland         \n",
      "New Caledonia                                 Oman                                     Portugal       \n",
      "New Zealand                                   Pakistan                                 Puerto Rico    \n",
      "Nicaragua                                     Palau                                    Qatar          \n",
      "Niger                                         Panama                                   Republic of Korea\n",
      "Nigeria                                       Papua New Guinea                         Republic of Yemen\n",
      "North Korea                                   Paraguay                                 Romania        \n",
      "North Macedonia                               Peru                                     Russian Federation\n",
      "Norway                                        Philippines                              Rwanda         \n",
      "Oman                                          Poland                                   Samoa          \n",
      "Pakistan                                      Portugal                                 Saudi Arabia   \n",
      "Palau                                         Qatar                                    Senegal        \n",
      "Panama                                        Republic of Korea                        Serbia         \n",
      "Papua New Guinea                              Republic of Yemen                        Seychelles     \n",
      "Paraguay                                      Romania                                  Sierra Leone   \n",
      "Peru                                          Russian Federation                       Singapore      \n",
      "Philippines                                   Rwanda                                   Slovakia       \n",
      "Poland                                        Samoa                                    Slovenia       \n",
      "Portugal                                      San Marino                               Solomon Islands\n",
      "Puerto Rico                                   Sao Tome and Principe                    South Africa   \n",
      "Qatar                                         Saudi Arabia                             South Sudan    \n",
      "Republic of Korea                             Senegal                                  Spain          \n",
      "Republic of Yemen                             Serbia                                   Sri Lanka      \n",
      "Romania                                       Seychelles                               St.Kitts and Nevis\n",
      "Russian Federation                            Sierra Leone                             St.Lucia       \n",
      "Rwanda                                        Singapore                                St.Vincent and the Grenadines\n",
      "R��union                                      Slovakia                                 Sudan          \n",
      "Saint Helena, Ascension and Tristan da Cunha  Slovenia                                 Suriname       \n",
      "Samoa                                         Solomon Islands                          Sweden         \n",
      "Saudi Arabia                                  Somalia                                  Switzerland    \n",
      "Senegal                                       South Africa                             Tajikistan     \n",
      "Serbia and Montenegro                         South Sudan                              Tanzania       \n",
      "Seychelles                                    Spain                                    Thailand       \n",
      "Sierra Leone                                  Sri Lanka                                Timor-Leste    \n",
      "Singapore                                     St.Kitts and Nevis                       Togo           \n",
      "Slovakia                                      St.Lucia                                 Tonga          \n",
      "Slovenia                                      St.Vincent and the Grenadines            Trinidad and Tobago\n",
      "Solomon Islands                               State of Palestine                       Tunisia        \n",
      "Somalia                                       Sudan                                    Turkey         \n",
      "South Africa                                  Suriname                                 Tuvalu         \n",
      "Spain                                         Sweden                                   Uganda         \n",
      "Sri Lanka                                     Switzerland                              Ukraine        \n",
      "St.Kitts and Nevis                            Syrian Arab Republic                     United Arab Emirates\n",
      "St.Lucia                                      Tajikistan                               United Kingdom \n",
      "St.Pierre and Miquelon                        Tanzania                                 United States of America\n",
      "St.Vincent and the Grenadines                 Thailand                                 Uruguay        \n",
      "Sudan and South Sudan                         Timor-Leste                              Uzbekistan     \n",
      "Suriname                                      Togo                                     Vanuatu        \n",
      "Sweden                                        Tonga                                    Venezuela      \n",
      "Switzerland                                   Trinidad and Tobago                      Viet Nam       \n",
      "Syria                                         Tunisia                                  Zambia         \n",
      "S��o Tom�� and Pr��ncipe                      Turkey                                   Zimbabwe       \n",
      "Taiwan                                        Turkmenistan                                            \n",
      "Tajikistan                                    Tuvalu                                                  \n",
      "Tanzania                                      Uganda                                                  \n",
      "Thailand                                      Ukraine                                                 \n",
      "Timor-Leste                                   United Arab Emirates                                    \n",
      "Togo                                          United Kingdom                                          \n",
      "Tonga                                         United States of America                                \n",
      "Trinidad and Tobago                           Uruguay                                                 \n",
      "Tunisia                                       Uzbekistan                                              \n",
      "Turkey                                        Vanuatu                                                 \n",
      "Turkmenistan                                  Venezuela                                               \n",
      "Turks and Caicos Islands                      Viet Nam                                                \n",
      "Uganda                                        Zambia                                                  \n",
      "Ukraine                                       Zimbabwe                                                \n",
      "United Arab Emirates                                                                                  \n",
      "United Kingdom                                                                                        \n",
      "United States of America                                                                              \n",
      "Uruguay                                                                                               \n",
      "Uzbekistan                                                                                            \n",
      "Vanuatu                                                                                               \n",
      "Venezuela                                                                                             \n",
      "Viet Nam                                                                                              \n",
      "Western Sahara                                                                                        \n",
      "Zambia                                                                                                \n",
      "Zimbabwe                                                                                              \n"
     ]
    }
   ],
   "source": [
    "# Looking for inconsistencies in how the countries are represented textually\n",
    "cri = sorted(climate_risk_dat['Country_Name'])\n",
    "ghg = sorted(greenhouse_gas_dat['Country'])\n",
    "pa = sorted(paris_agreement_dat['Country_Name'])\n",
    "\n",
    "for c1, c2, c3 in zip_longest(ghg, pa, cri, fillvalue = ''):\n",
    "    print(c1.ljust(45), c2.ljust(40), c3.ljust(15))"
   ]
  },
  {
   "cell_type": "code",
   "execution_count": 16,
   "id": "1082e7b3-cd93-4ad7-a249-835bbbf3718d",
   "metadata": {},
   "outputs": [
    {
     "name": "stdout",
     "output_type": "stream",
     "text": [
      "Changing Cape Verde to Cabo Verde\n",
      "Changing Democratic Republic of Congo to Democratic Republic of the Congo\n",
      "Changing The Bahamas to Bahamas\n",
      "Changing Timor Leste to Timor-Leste\n",
      "Changing France and Monaco to France\n",
      "Changing Guinea-Bissau to Guinea Bissau\n",
      "Changing Israel and Palestine, State of to Israel\n",
      "Changing Italy, San Marino and the Holy See to Italy\n",
      "Changing United States to United States of America\n",
      "Changing Yemen to Republic of Yemen\n",
      "Changing Spain and Andorra to Spain\n",
      "Changing Switzerland and Liechtenstein to Switzerland\n"
     ]
    }
   ],
   "source": [
    "# Change country names to ensure consistency throughout datasets, and maximize data retention for analysis\n",
    "def alter_country_name(dataset, alter_dict, country_column_name):\n",
    "    '''change country names in a dataset so it matches the values in other datasets\n",
    "       example-- changing Brunei to Brunei Darussalam in one dataset so all datasets refer to Brunei in the same way\n",
    "\n",
    "       INPUTS:\n",
    "       dataset: dataset for which we are altering the country name\n",
    "       change_dict: a dictionary where the key is country name we want to alter and the value is what we are changing to\n",
    "       country_column_name: the column name of the column that contains countries\n",
    "\n",
    "       RETURNS:\n",
    "       altered dataset\n",
    "       '''\n",
    "    for original, changed in alter_dict.items():\n",
    "        print(f\"Changing {original} to {changed}\") # Added print statement to check if right country names are being associated\n",
    "        dataset[country_column_name] = dataset[country_column_name].str.strip() # This removes spaces on either side of the country name\n",
    "        dataset.loc[dataset[country_column_name] == original, country_column_name] = changed\n",
    "    return dataset\n",
    "\n",
    "cr_data_matched = alter_country_name(climate_risk_dat, {'Cape Verde': 'Cabo Verde',\n",
    "                                                        'Democratic Republic of Congo': 'Democratic Republic of the Congo',\n",
    "                                                        'The Bahamas': 'Bahamas'\n",
    "                                                       },\n",
    "                                     \"Country_Name\")\n",
    "\n",
    "paris_data_matched = alter_country_name(paris_agreement_dat, {'Timor Leste': 'Timor-Leste'},\n",
    "                                        \"Country_Name\")\n",
    "\n",
    "ghg_data_matched = alter_country_name(greenhouse_gas_dat, {'France and Monaco': 'France',\n",
    "                                                           'Guinea-Bissau': 'Guinea Bissau',\n",
    "                                                           'Israel and Palestine, State of': 'Israel',\n",
    "                                                           'Italy, San Marino and the Holy See': 'Italy',\n",
    "                                                           'United States': 'United States of America',\n",
    "                                                           'Yemen': 'Republic of Yemen',\n",
    "                                                           'Spain and Andorra': 'Spain',\n",
    "                                                           'Switzerland and Liechtenstein': 'Switzerland'\n",
    "                                                          },\n",
    "                                      \"Country\")"
   ]
  },
  {
   "cell_type": "markdown",
   "id": "59c88132-c827-4850-8ef3-4c1a56b5e4d7",
   "metadata": {},
   "source": [
    "The GHG dataset combines some countries together into a single row (e.g. 'Serbia and Montenegro'), while these countries are separate entities in the climate risk and GHG datasets. In the code below, all such cases in the GHG dataset are split into two distinct countries, each with their own row. Two previously paired countries are  assigned the same GHG emissions value (half of the aggregated value), since we do not have the resources to determine how much each country contributed to the aggregated values."
   ]
  },
  {
   "cell_type": "code",
   "execution_count": 17,
   "id": "db6ef58d-d943-43ea-9cf0-5a48183342d8",
   "metadata": {},
   "outputs": [],
   "source": [
    "# Split countries that were combined into a single row in a dataset into two distinct rows, dividing the aggregated data equally between them\n",
    " \n",
    "# Serbia and Montenegro\n",
    "sm_index = ghg_data_matched[ghg_data_matched['Country'] == 'Serbia and Montenegro'].index\n",
    "\n",
    "# Split emissions value in half\n",
    "sm_emissions_val = ghg_data_matched.loc[sm_index, 'GHG_Emissions'].values[0] / 2\n",
    "\n",
    "# Create new rows\n",
    "sm_new_rows = pd.DataFrame([{'Country': 'Serbia', 'GHG_Emissions': sm_emissions_val},\\\n",
    "                            {'Country': 'Montenegro', 'GHG_Emissions': sm_emissions_val}])\n",
    "\n",
    "# Append new rows to dataset\n",
    "ghg_data_split = pd.concat([ghg_data_matched, sm_new_rows], ignore_index=True)\n",
    "\n",
    "# Re-sort data and drop combined row\n",
    "ghg_data_split = ghg_data_split[ghg_data_split['Country'] != 'Serbia and Montenegro']\n",
    "ghg_data_split.sort_values(by = 'Country', inplace = True)\n",
    "\n",
    "\n",
    "\n",
    "# Sudan and South Sudan\n",
    "ssd_index = ghg_data_split[ghg_data_split['Country'] == 'Sudan and South Sudan'].index\n",
    "\n",
    "# Split emissions value in half\n",
    "ssd_emissions_val = ghg_data_split.loc[ssd_index, 'GHG_Emissions'].values[0] / 2\n",
    "\n",
    "# Create new rows\n",
    "ssd_new_rows = pd.DataFrame([{'Country': 'Sudan', 'GHG_Emissions': ssd_emissions_val},\n",
    "                             {'Country': 'South Sudan', 'GHG_Emissions': ssd_emissions_val}])\n",
    "\n",
    "# Append new rows to dataset\n",
    "ghg_data_split = pd.concat([ghg_data_split, ssd_new_rows], ignore_index=True)\n",
    "\n",
    "# Re-sort data and drop combined row\n",
    "ghg_data_split = ghg_data_split[ghg_data_split['Country'] != 'Sudan and South Sudan']\n",
    "ghg_data_split.sort_values(by = 'Country', inplace = True)"
   ]
  },
  {
   "cell_type": "code",
   "execution_count": 18,
   "id": "2e265436-ef98-43a6-817e-0bb50329679c",
   "metadata": {
    "scrolled": true
   },
   "outputs": [],
   "source": [
    "# Merging the required data into a single dataframe\n",
    "merged_data = cr_data_matched.merge(paris_data_matched, how = \"left\", on = \"Country_Name\").merge(\n",
    "    ghg_data_split, how = \"left\", left_on = [\"Country_Name\"], right_on = [\"Country\"])"
   ]
  },
  {
   "cell_type": "code",
   "execution_count": 19,
   "id": "7d748b48-0182-40b3-8b55-99a8a0504dbc",
   "metadata": {
    "scrolled": true
   },
   "outputs": [
    {
     "name": "stdout",
     "output_type": "stream",
     "text": [
      "<class 'pandas.core.frame.DataFrame'>\n",
      "RangeIndex: 183 entries, 0 to 182\n",
      "Data columns (total 11 columns):\n",
      " #   Column                                  Non-Null Count  Dtype  \n",
      "---  ------                                  --------------  -----  \n",
      " 0   ID                                      183 non-null    int64  \n",
      " 1   Country_Name                            183 non-null    object \n",
      " 2   CRI_RANK                                183 non-null    int64  \n",
      " 3   CRI_SCORE                               183 non-null    float64\n",
      " 4   Fatalities_Rank                         183 non-null    int64  \n",
      " 5   Fatalities_per_100000_inhabitants_RANK  183 non-null    int64  \n",
      " 6   Losses_in_US_Million_Rank               183 non-null    int64  \n",
      " 7   Losses_per_unit_GDP_Rank                183 non-null    int64  \n",
      " 8   Date_Joined                             180 non-null    object \n",
      " 9   Country                                 178 non-null    object \n",
      " 10  GHG_Emissions                           178 non-null    float64\n",
      "dtypes: float64(2), int64(6), object(3)\n",
      "memory usage: 15.9+ KB\n"
     ]
    }
   ],
   "source": [
    "merged_data.info()"
   ]
  },
  {
   "cell_type": "markdown",
   "id": "fcd6d45e-c822-4066-b1ab-ead7fef0c3a1",
   "metadata": {},
   "source": [
    "\n",
    "\n",
    "We opted to use CRI_SCORE rather than CRI_RANK as the dependent variable in our analysis for several reasons. \n",
    "\n",
    "Using CRI_RANK as the dependent variable would place more emphasis on the ordinal ranking of countries with respect to their climate risk, rather than the actual values of the indices. Additionally, the ranks would be discretized into categories, posing two distinct problems:\n",
    "- All differences in climate rank would be treated equally, ignoring the magnitude of the differences between the actual values of countries' indices.\n",
    "- Some countries with near-identical climate risk scores were given the same climate rank; the distinct climate risk scores for these countries would be combined into a single discrete category. This would precipitate a loss of information about each rank's climate variability, and potentially cause us to underestimate the complexity of the relationship between our dependent and independent variables."
   ]
  },
  {
   "cell_type": "code",
   "execution_count": 20,
   "id": "d33cb3b4-847e-4451-9825-7f7521aa2e4f",
   "metadata": {},
   "outputs": [
    {
     "data": {
      "text/html": [
       "<div>\n",
       "<style scoped>\n",
       "    .dataframe tbody tr th:only-of-type {\n",
       "        vertical-align: middle;\n",
       "    }\n",
       "\n",
       "    .dataframe tbody tr th {\n",
       "        vertical-align: top;\n",
       "    }\n",
       "\n",
       "    .dataframe thead th {\n",
       "        text-align: right;\n",
       "    }\n",
       "</style>\n",
       "<table border=\"1\" class=\"dataframe\">\n",
       "  <thead>\n",
       "    <tr style=\"text-align: right;\">\n",
       "      <th></th>\n",
       "      <th>Country_Name</th>\n",
       "      <th>CRI_SCORE</th>\n",
       "      <th>GHG_Emissions</th>\n",
       "      <th>Paris_Status</th>\n",
       "    </tr>\n",
       "  </thead>\n",
       "  <tbody>\n",
       "    <tr>\n",
       "      <th>0</th>\n",
       "      <td>Albania</td>\n",
       "      <td>108.00</td>\n",
       "      <td>3.145276</td>\n",
       "      <td>R</td>\n",
       "    </tr>\n",
       "    <tr>\n",
       "      <th>1</th>\n",
       "      <td>Algeria</td>\n",
       "      <td>93.83</td>\n",
       "      <td>6.540428</td>\n",
       "      <td>R</td>\n",
       "    </tr>\n",
       "  </tbody>\n",
       "</table>\n",
       "</div>"
      ],
      "text/plain": [
       "  Country_Name  CRI_SCORE  GHG_Emissions Paris_Status\n",
       "0      Albania     108.00       3.145276   R         \n",
       "1      Algeria      93.83       6.540428   R         "
      ]
     },
     "execution_count": 20,
     "metadata": {},
     "output_type": "execute_result"
    }
   ],
   "source": [
    "# Select only the columns required for the analysis\n",
    "simplified_data = merged_data[[\"Country_Name\", \"CRI_SCORE\", \"GHG_Emissions\", \"Date_Joined\"]].rename(columns = {\"Date_Joined\":\"Paris_Status\"})\n",
    "simplified_data.head(2)"
   ]
  },
  {
   "cell_type": "code",
   "execution_count": 21,
   "id": "b91be605-a6ea-4f1b-ab01-6c9da880fce3",
   "metadata": {},
   "outputs": [
    {
     "data": {
      "text/plain": [
       "Country_Name     0\n",
       "CRI_SCORE        0\n",
       "GHG_Emissions    5\n",
       "Paris_Status     3\n",
       "dtype: int64"
      ]
     },
     "execution_count": 21,
     "metadata": {},
     "output_type": "execute_result"
    }
   ],
   "source": [
    "# Check for any missing data\n",
    "simplified_data.isnull().sum()"
   ]
  },
  {
   "cell_type": "code",
   "execution_count": 22,
   "id": "7be7b950-fe81-4fca-9fb5-cd2ba95558b9",
   "metadata": {},
   "outputs": [
    {
     "data": {
      "text/html": [
       "<div>\n",
       "<style scoped>\n",
       "    .dataframe tbody tr th:only-of-type {\n",
       "        vertical-align: middle;\n",
       "    }\n",
       "\n",
       "    .dataframe tbody tr th {\n",
       "        vertical-align: top;\n",
       "    }\n",
       "\n",
       "    .dataframe thead th {\n",
       "        text-align: right;\n",
       "    }\n",
       "</style>\n",
       "<table border=\"1\" class=\"dataframe\">\n",
       "  <thead>\n",
       "    <tr style=\"text-align: right;\">\n",
       "      <th></th>\n",
       "      <th>Country_Name</th>\n",
       "      <th>CRI_SCORE</th>\n",
       "      <th>GHG_Emissions</th>\n",
       "      <th>Paris_Status</th>\n",
       "    </tr>\n",
       "  </thead>\n",
       "  <tbody>\n",
       "    <tr>\n",
       "      <th>33</th>\n",
       "      <td>Chinese Taipei</td>\n",
       "      <td>72.33</td>\n",
       "      <td>NaN</td>\n",
       "      <td>NaN</td>\n",
       "    </tr>\n",
       "    <tr>\n",
       "      <th>91</th>\n",
       "      <td>Tuvalu</td>\n",
       "      <td>125.00</td>\n",
       "      <td>NaN</td>\n",
       "      <td>R</td>\n",
       "    </tr>\n",
       "    <tr>\n",
       "      <th>109</th>\n",
       "      <td>Kosovo</td>\n",
       "      <td>125.00</td>\n",
       "      <td>NaN</td>\n",
       "      <td>NaN</td>\n",
       "    </tr>\n",
       "    <tr>\n",
       "      <th>126</th>\n",
       "      <td>Marshall Islands</td>\n",
       "      <td>125.00</td>\n",
       "      <td>NaN</td>\n",
       "      <td>R</td>\n",
       "    </tr>\n",
       "    <tr>\n",
       "      <th>130</th>\n",
       "      <td>Micronesia</td>\n",
       "      <td>125.00</td>\n",
       "      <td>NaN</td>\n",
       "      <td>R</td>\n",
       "    </tr>\n",
       "    <tr>\n",
       "      <th>155</th>\n",
       "      <td>Puerto Rico</td>\n",
       "      <td>107.67</td>\n",
       "      <td>4.428183</td>\n",
       "      <td>NaN</td>\n",
       "    </tr>\n",
       "  </tbody>\n",
       "</table>\n",
       "</div>"
      ],
      "text/plain": [
       "         Country_Name  CRI_SCORE  GHG_Emissions Paris_Status\n",
       "33     Chinese Taipei      72.33            NaN          NaN\n",
       "91             Tuvalu     125.00            NaN   R         \n",
       "109            Kosovo     125.00            NaN          NaN\n",
       "126  Marshall Islands     125.00            NaN   R         \n",
       "130        Micronesia     125.00            NaN   R         \n",
       "155       Puerto Rico     107.67       4.428183          NaN"
      ]
     },
     "execution_count": 22,
     "metadata": {},
     "output_type": "execute_result"
    }
   ],
   "source": [
    "# Check which rows are missing values\n",
    "nan_rows = simplified_data.isna().any(axis=1)\n",
    "#print(nan_rows)\n",
    "simplified_data[simplified_data.isna().any(axis=1)]"
   ]
  },
  {
   "cell_type": "markdown",
   "id": "7f8f9912-bdf2-4355-9295-a8c8db367152",
   "metadata": {},
   "source": [
    "We decided to remove any countries that have no GHG emissions data or Paris Agreement data, since they will not be relevant to an analysis looking into the potential association between climate risk, and greenhouse gas emissions and paris agreement status."
   ]
  },
  {
   "cell_type": "code",
   "execution_count": 23,
   "id": "5d8f6d64-f305-425c-ba84-7c0a118b388d",
   "metadata": {},
   "outputs": [
    {
     "data": {
      "text/html": [
       "<div>\n",
       "<style scoped>\n",
       "    .dataframe tbody tr th:only-of-type {\n",
       "        vertical-align: middle;\n",
       "    }\n",
       "\n",
       "    .dataframe tbody tr th {\n",
       "        vertical-align: top;\n",
       "    }\n",
       "\n",
       "    .dataframe thead th {\n",
       "        text-align: right;\n",
       "    }\n",
       "</style>\n",
       "<table border=\"1\" class=\"dataframe\">\n",
       "  <thead>\n",
       "    <tr style=\"text-align: right;\">\n",
       "      <th></th>\n",
       "      <th>Country_Name</th>\n",
       "      <th>CRI_SCORE</th>\n",
       "      <th>GHG_Emissions</th>\n",
       "      <th>Paris_Status</th>\n",
       "    </tr>\n",
       "  </thead>\n",
       "  <tbody>\n",
       "    <tr>\n",
       "      <th>0</th>\n",
       "      <td>Albania</td>\n",
       "      <td>108.00</td>\n",
       "      <td>3.145276</td>\n",
       "      <td>R</td>\n",
       "    </tr>\n",
       "    <tr>\n",
       "      <th>1</th>\n",
       "      <td>Algeria</td>\n",
       "      <td>93.83</td>\n",
       "      <td>6.540428</td>\n",
       "      <td>R</td>\n",
       "    </tr>\n",
       "    <tr>\n",
       "      <th>2</th>\n",
       "      <td>Angola</td>\n",
       "      <td>76.00</td>\n",
       "      <td>2.541601</td>\n",
       "      <td>R</td>\n",
       "    </tr>\n",
       "    <tr>\n",
       "      <th>3</th>\n",
       "      <td>Antigua and Barbuda</td>\n",
       "      <td>125.00</td>\n",
       "      <td>3.641680</td>\n",
       "      <td>R</td>\n",
       "    </tr>\n",
       "    <tr>\n",
       "      <th>4</th>\n",
       "      <td>Argentina</td>\n",
       "      <td>48.33</td>\n",
       "      <td>8.465010</td>\n",
       "      <td>R</td>\n",
       "    </tr>\n",
       "    <tr>\n",
       "      <th>...</th>\n",
       "      <td>...</td>\n",
       "      <td>...</td>\n",
       "      <td>...</td>\n",
       "      <td>...</td>\n",
       "    </tr>\n",
       "    <tr>\n",
       "      <th>178</th>\n",
       "      <td>St.Vincent and the Grenadines</td>\n",
       "      <td>125.00</td>\n",
       "      <td>1.559193</td>\n",
       "      <td>R</td>\n",
       "    </tr>\n",
       "    <tr>\n",
       "      <th>179</th>\n",
       "      <td>Sudan</td>\n",
       "      <td>49.33</td>\n",
       "      <td>1.333975</td>\n",
       "      <td>R</td>\n",
       "    </tr>\n",
       "    <tr>\n",
       "      <th>180</th>\n",
       "      <td>Suriname</td>\n",
       "      <td>125.00</td>\n",
       "      <td>5.826030</td>\n",
       "      <td>R</td>\n",
       "    </tr>\n",
       "    <tr>\n",
       "      <th>181</th>\n",
       "      <td>Sweden</td>\n",
       "      <td>89.00</td>\n",
       "      <td>6.346528</td>\n",
       "      <td>R</td>\n",
       "    </tr>\n",
       "    <tr>\n",
       "      <th>182</th>\n",
       "      <td>Switzerland</td>\n",
       "      <td>73.67</td>\n",
       "      <td>5.607477</td>\n",
       "      <td>R</td>\n",
       "    </tr>\n",
       "  </tbody>\n",
       "</table>\n",
       "<p>177 rows × 4 columns</p>\n",
       "</div>"
      ],
      "text/plain": [
       "                      Country_Name  CRI_SCORE  GHG_Emissions Paris_Status\n",
       "0                          Albania     108.00       3.145276   R         \n",
       "1                          Algeria      93.83       6.540428   R         \n",
       "2                           Angola      76.00       2.541601   R         \n",
       "3              Antigua and Barbuda     125.00       3.641680   R         \n",
       "4                        Argentina      48.33       8.465010   R         \n",
       "..                             ...        ...            ...          ...\n",
       "178  St.Vincent and the Grenadines     125.00       1.559193   R         \n",
       "179                          Sudan      49.33       1.333975   R         \n",
       "180                       Suriname     125.00       5.826030   R         \n",
       "181                         Sweden      89.00       6.346528   R         \n",
       "182                    Switzerland      73.67       5.607477   R         \n",
       "\n",
       "[177 rows x 4 columns]"
      ]
     },
     "execution_count": 23,
     "metadata": {},
     "output_type": "execute_result"
    }
   ],
   "source": [
    "# Drop columns where GHG_Emissions and Paris_Status are null\n",
    "drop_countries = ['Chinese Taipei', 'Tuvalu', 'Kosovo', 'Marshall Islands', 'Micronesia', 'Puerto Rico']\n",
    "simplified_data2 = simplified_data[~simplified_data['Country_Name'].isin(drop_countries)]\n",
    "simplified_data2"
   ]
  },
  {
   "cell_type": "code",
   "execution_count": 25,
   "id": "4707a151-88a7-464e-81ac-b90b67710019",
   "metadata": {},
   "outputs": [
    {
     "data": {
      "text/plain": [
       "Country_Name     0\n",
       "CRI_SCORE        0\n",
       "GHG_Emissions    0\n",
       "Paris_Status     0\n",
       "dtype: int64"
      ]
     },
     "execution_count": 25,
     "metadata": {},
     "output_type": "execute_result"
    }
   ],
   "source": [
    "# Ensure that all missing data has been accounted for\n",
    "simplified_data2.isnull().sum()"
   ]
  },
  {
   "cell_type": "markdown",
   "id": "f6c3c19a-0d7c-49c6-a307-cf74c8e6a250",
   "metadata": {},
   "source": [
    "We will one-hot-encode our paris agreement variable for ease of analysis. We will create a new column for each of the categories: 'A', 'AA', 'R', 'a', and 'None'."
   ]
  },
  {
   "cell_type": "code",
   "execution_count": 26,
   "id": "35f89242-6fa4-4b60-99e6-ccb000999ac9",
   "metadata": {},
   "outputs": [],
   "source": [
    "one_hot_encoded_data = pd.get_dummies(simplified_data2, columns = ['Paris_Status']) \n",
    "one_hot_encoded_data[\n",
    "        ['Paris_Status_A         ', \n",
    "         'Paris_Status_AA        ', \n",
    "         'Paris_Status_None      ', \n",
    "         'Paris_Status_R         ',\n",
    "         'Paris_Status_a         ']] = one_hot_encoded_data[['Paris_Status_A         ', \n",
    "                                                             'Paris_Status_AA        ', \n",
    "                                                             'Paris_Status_None      ',\n",
    "                                                             'Paris_Status_R         ',\n",
    "                                                             'Paris_Status_a         ']].astype(int)"
   ]
  },
  {
   "cell_type": "code",
   "execution_count": 27,
   "id": "3c07b812-1830-4e47-ad4b-c7d604304c9f",
   "metadata": {},
   "outputs": [
    {
     "data": {
      "text/plain": [
       "Country_Name                object\n",
       "CRI_SCORE                  float64\n",
       "GHG_Emissions              float64\n",
       "Paris_Status_A               int64\n",
       "Paris_Status_AA              int64\n",
       "Paris_Status_None            int64\n",
       "Paris_Status_R               int64\n",
       "Paris_Status_a               int64\n",
       "dtype: object"
      ]
     },
     "execution_count": 27,
     "metadata": {},
     "output_type": "execute_result"
    }
   ],
   "source": [
    "one_hot_encoded_data.dtypes"
   ]
  },
  {
   "cell_type": "markdown",
   "id": "628e7f3b-5f70-4192-a683-ed25b25c3fce",
   "metadata": {},
   "source": [
    "Now, we will split our data into X (independent variables) and y (dependent/target variable). We add a constant to act as an intercept for the linear regression fit."
   ]
  },
  {
   "cell_type": "code",
   "execution_count": 28,
   "id": "fc40f522-f3aa-44cc-9d54-55b7305b69e7",
   "metadata": {},
   "outputs": [],
   "source": [
    "X = one_hot_encoded_data.drop(columns = [\"CRI_SCORE\", \"Country_Name\"])\n",
    "X = t.add_constant(X)\n",
    "y = one_hot_encoded_data[[\"CRI_SCORE\"]]"
   ]
  },
  {
   "cell_type": "markdown",
   "id": "2e78d8ee-6a6b-41b2-9b2f-9ace2e3e0547",
   "metadata": {},
   "source": [
    "Now we will use linear regression and least-squares-estimation to fit a linear model to our data."
   ]
  },
  {
   "cell_type": "code",
   "execution_count": 29,
   "id": "07ca403a-0a0a-455e-8bcd-2d513f39a1cb",
   "metadata": {},
   "outputs": [
    {
     "name": "stdout",
     "output_type": "stream",
     "text": [
      "                            OLS Regression Results                            \n",
      "==============================================================================\n",
      "Dep. Variable:              CRI_SCORE   R-squared:                       0.009\n",
      "Model:                            OLS   Adj. R-squared:                 -0.020\n",
      "Method:                 Least Squares   F-statistic:                    0.3257\n",
      "Date:                Fri, 22 Mar 2024   Prob (F-statistic):              0.897\n",
      "Time:                        10:34:03   Log-Likelihood:                -880.68\n",
      "No. Observations:                 177   AIC:                             1773.\n",
      "Df Residuals:                     171   BIC:                             1792.\n",
      "Df Model:                           5                                         \n",
      "Covariance Type:            nonrobust                                         \n",
      "===========================================================================================\n",
      "                              coef    std err          t      P>|t|      [0.025      0.975]\n",
      "-------------------------------------------------------------------------------------------\n",
      "const                      58.6949      8.294      7.077      0.000      42.323      75.067\n",
      "GHG_Emissions               0.1248      0.323      0.386      0.700      -0.513       0.762\n",
      "Paris_Status_A             15.6243     13.907      1.124      0.263     -11.827      43.075\n",
      "Paris_Status_AA             2.3501     18.620      0.126      0.900     -34.404      39.104\n",
      "Paris_Status_None          17.2386     18.632      0.925      0.356     -19.540      54.018\n",
      "Paris_Status_R             22.3954      8.326      2.690      0.008       5.961      38.830\n",
      "Paris_Status_a              1.0865     30.215      0.036      0.971     -58.557      60.730\n",
      "==============================================================================\n",
      "Omnibus:                       57.386   Durbin-Watson:                   2.181\n",
      "Prob(Omnibus):                  0.000   Jarque-Bera (JB):               11.039\n",
      "Skew:                          -0.226   Prob(JB):                      0.00401\n",
      "Kurtosis:                       1.863   Cond. No.                     7.03e+16\n",
      "==============================================================================\n",
      "\n",
      "Notes:\n",
      "[1] Standard Errors assume that the covariance matrix of the errors is correctly specified.\n",
      "[2] The smallest eigenvalue is 4.37e-30. This might indicate that there are\n",
      "strong multicollinearity problems or that the design matrix is singular.\n"
     ]
    }
   ],
   "source": [
    "result = sm.OLS(y, X).fit()\n",
    " \n",
    "# printing the summary table\n",
    "print(result.summary())"
   ]
  },
  {
   "cell_type": "markdown",
   "id": "04ecd0d5-c399-4d28-95f7-a10c546fdd4e",
   "metadata": {},
   "source": [
    "The Adjusted R-Squared value from this linear fit is -0.020, indicating that the model is not a good fit for the data, performing worse than the null model would.\n",
    "\n",
    "Most of the p-values for the coefficients are not statistically significant, with the exception of Paris_Status_R (p-value of 0.008) and the constant term (p-value of 0.000). The statistical significance of Paris_Status_R, which represents a country's ratification into the Paris Accord, indicates that it has a significant impact on the response variable.\n",
    "\n",
    "The constant term we included is a representation of the response variable's expected value, in the absence of all predictor variables (or, when they are zero). Because “R” is the Paris agreement status held by most countries, this is the baseline condition for Paris_Status_R. The influence of the relative uniformity of Paris_Status_R on the constant term column creates multicollinearity in our data, which ultimately reduces the precision of the estimated coefficients.\n",
    "\n",
    "Overall, a significant association between climate risk index score and greenhouse gas emissions is not indicated, but there does seem to be a potential difference in intercept for members of the Paris Agreement with \"R\" status.\n",
    "\n",
    "The following plot of the data with the fitted linear model may help us gain some insight."
   ]
  },
  {
   "cell_type": "code",
   "execution_count": 30,
   "id": "61ede519-b46c-49bf-82b8-608fbe3b9947",
   "metadata": {},
   "outputs": [
    {
     "data": {
      "text/plain": [
       "Text(49.542774305555554, 0.5, 'Climate Risk Index Score')"
      ]
     },
     "execution_count": 30,
     "metadata": {},
     "output_type": "execute_result"
    },
    {
     "data": {
      "image/png": "[encoded data removed]",
      "text/plain": [
       "<Figure size 612.375x500 with 1 Axes>"
      ]
     },
     "metadata": {},
     "output_type": "display_data"
    }
   ],
   "source": [
    "sns.lmplot(x = 'GHG_Emissions', y = 'CRI_SCORE', hue = \"Paris_Status\", data = simplified_data2)\n",
    "ax = plt.gca()\n",
    "ax.set_title(\"Scatterplot of Climate Risk Index Score vs GHG Emissions, Split by Paris Agreement Status\")\n",
    "ax.set_xlabel(\"Greenhouse Gas Emissions\")\n",
    "ax.set_ylabel(\"Climate Risk Index Score\")"
   ]
  },
  {
   "cell_type": "markdown",
   "id": "05dacada-8952-4cbd-80eb-e0cfc37315f5",
   "metadata": {},
   "source": [
    "The above plot shows the data with fitted regressions lines and confidence bounds. The bottom plot show the same data, but without the regression lines and in a more interactive form."
   ]
  },
  {
   "cell_type": "code",
   "execution_count": 31,
   "id": "03a710ec-a0c0-4c38-9293-e22cdc5ff66a",
   "metadata": {},
   "outputs": [
    {
     "data": {
      "text/html": [
       "\n",
       "<style>\n",
       "  #altair-viz-703cee1de94d4c69abb0e67a98517a73.vega-embed {\n",
       "    width: 100%;\n",
       "    display: flex;\n",
       "  }\n",
       "\n",
       "  #altair-viz-703cee1de94d4c69abb0e67a98517a73.vega-embed details,\n",
       "  #altair-viz-703cee1de94d4c69abb0e67a98517a73.vega-embed details summary {\n",
       "    position: relative;\n",
       "  }\n",
       "</style>\n",
       "<div id=\"altair-viz-703cee1de94d4c69abb0e67a98517a73\"></div>\n",
       "<script type=\"text/javascript\">\n",
       "  var VEGA_DEBUG = (typeof VEGA_DEBUG == \"undefined\") ? {} : VEGA_DEBUG;\n",
       "  (function(spec, embedOpt){\n",
       "    let outputDiv = document.currentScript.previousElementSibling;\n",
       "    if (outputDiv.id !== \"altair-viz-703cee1de94d4c69abb0e67a98517a73\") {\n",
       "      outputDiv = document.getElementById(\"altair-viz-703cee1de94d4c69abb0e67a98517a73\");\n",
       "    }\n",
       "    const paths = {\n",
       "      \"vega\": \"https://cdn.jsdelivr.net/npm/vega@5?noext\",\n",
       "      \"vega-lib\": \"https://cdn.jsdelivr.net/npm/vega-lib?noext\",\n",
       "      \"vega-lite\": \"https://cdn.jsdelivr.net/npm/vega-lite@5.16.3?noext\",\n",
       "      \"vega-embed\": \"https://cdn.jsdelivr.net/npm/vega-embed@6?noext\",\n",
       "    };\n",
       "\n",
       "    function maybeLoadScript(lib, version) {\n",
       "      var key = `${lib.replace(\"-\", \"\")}_version`;\n",
       "      return (VEGA_DEBUG[key] == version) ?\n",
       "        Promise.resolve(paths[lib]) :\n",
       "        new Promise(function(resolve, reject) {\n",
       "          var s = document.createElement('script');\n",
       "          document.getElementsByTagName(\"head\")[0].appendChild(s);\n",
       "          s.async = true;\n",
       "          s.onload = () => {\n",
       "            VEGA_DEBUG[key] = version;\n",
       "            return resolve(paths[lib]);\n",
       "          };\n",
       "          s.onerror = () => reject(`Error loading script: ${paths[lib]}`);\n",
       "          s.src = paths[lib];\n",
       "        });\n",
       "    }\n",
       "\n",
       "    function showError(err) {\n",
       "      outputDiv.innerHTML = `<div class=\"error\" style=\"color:red;\">${err}</div>`;\n",
       "      throw err;\n",
       "    }\n",
       "\n",
       "    function displayChart(vegaEmbed) {\n",
       "      vegaEmbed(outputDiv, spec, embedOpt)\n",
       "        .catch(err => showError(`Javascript Error: ${err.message}<br>This usually means there's a typo in your chart specification. See the javascript console for the full traceback.`));\n",
       "    }\n",
       "\n",
       "    if(typeof define === \"function\" && define.amd) {\n",
       "      requirejs.config({paths});\n",
       "      require([\"vega-embed\"], displayChart, err => showError(`Error loading script: ${err.message}`));\n",
       "    } else {\n",
       "      maybeLoadScript(\"vega\", \"5\")\n",
       "        .then(() => maybeLoadScript(\"vega-lite\", \"5.16.3\"))\n",
       "        .then(() => maybeLoadScript(\"vega-embed\", \"6\"))\n",
       "        .catch(showError)\n",
       "        .then(() => displayChart(vegaEmbed));\n",
       "    }\n",
       "  })({\"config\": {\"view\": {\"continuousWidth\": 300, \"continuousHeight\": 300}}, \"data\": {\"name\": \"data-05460a8de04e125eb15aa53553f867b2\"}, \"mark\": {\"type\": \"circle\", \"size\": 60}, \"encoding\": {\"color\": {\"field\": \"Paris_Status\", \"type\": \"nominal\"}, \"tooltip\": [{\"field\": \"Country_Name\", \"title\": \"Country\", \"type\": \"nominal\"}, {\"field\": \"GHG_Emissions\", \"title\": \"GHG Emissions\", \"type\": \"quantitative\"}, {\"field\": \"CRI_SCORE\", \"title\": \"Climate Risk Score\", \"type\": \"quantitative\"}], \"x\": {\"field\": \"GHG_Emissions\", \"title\": \"Greenhouse Gas Emissions\", \"type\": \"quantitative\"}, \"y\": {\"field\": \"CRI_SCORE\", \"title\": \"Climate Risk Index Score\", \"type\": \"quantitative\"}}, \"height\": 400, \"params\": [{\"name\": \"param_1\", \"select\": {\"type\": \"interval\", \"encodings\": [\"x\", \"y\"]}, \"bind\": \"scales\"}], \"title\": \"Scatterplot of Climate Risk Index Score vs GHG Emissions by Paris Agreement Status\", \"width\": 400, \"$schema\": \"https://vega.github.io/schema/vega-lite/v5.16.3.json\", \"datasets\": {\"data-05460a8de04e125eb15aa53553f867b2\": [{\"Country_Name\": \"Albania\", \"CRI_SCORE\": 108.0, \"GHG_Emissions\": 3.14527556, \"Paris_Status\": \"R         \"}, {\"Country_Name\": \"Algeria\", \"CRI_SCORE\": 93.83, \"GHG_Emissions\": 6.54042776, \"Paris_Status\": \"R         \"}, {\"Country_Name\": \"Angola\", \"CRI_SCORE\": 76.0, \"GHG_Emissions\": 2.54160095, \"Paris_Status\": \"R         \"}, {\"Country_Name\": \"Antigua and Barbuda\", \"CRI_SCORE\": 125.0, \"GHG_Emissions\": 3.64168024, \"Paris_Status\": \"R         \"}, {\"Country_Name\": \"Argentina\", \"CRI_SCORE\": 48.33, \"GHG_Emissions\": 8.46500989, \"Paris_Status\": \"R         \"}, {\"Country_Name\": \"Armenia\", \"CRI_SCORE\": 125.0, \"GHG_Emissions\": 2.99410926, \"Paris_Status\": \"R         \"}, {\"Country_Name\": \"Australia\", \"CRI_SCORE\": 49.5, \"GHG_Emissions\": 24.1307983, \"Paris_Status\": \"R         \"}, {\"Country_Name\": \"Austria\", \"CRI_SCORE\": 56.0, \"GHG_Emissions\": 9.46631178, \"Paris_Status\": \"R         \"}, {\"Country_Name\": \"Azerbaijan\", \"CRI_SCORE\": 125.0, \"GHG_Emissions\": 5.96444407, \"Paris_Status\": \"R         \"}, {\"Country_Name\": \"Bahrain\", \"CRI_SCORE\": 125.0, \"GHG_Emissions\": 40.3992101, \"Paris_Status\": \"R         \"}, {\"Country_Name\": \"Bangladesh\", \"CRI_SCORE\": 85.5, \"GHG_Emissions\": 1.67643832, \"Paris_Status\": \"R         \"}, {\"Country_Name\": \"Barbados\", \"CRI_SCORE\": 125.0, \"GHG_Emissions\": 3.35051081, \"Paris_Status\": \"R         \"}, {\"Country_Name\": \"Belarus\", \"CRI_SCORE\": 111.83, \"GHG_Emissions\": 11.0788873, \"Paris_Status\": \"A         \"}, {\"Country_Name\": \"Belgium\", \"CRI_SCORE\": 81.83, \"GHG_Emissions\": 10.8622928, \"Paris_Status\": \"R         \"}, {\"Country_Name\": \"Belize\", \"CRI_SCORE\": 125.0, \"GHG_Emissions\": 2.37742135, \"Paris_Status\": \"R         \"}, {\"Country_Name\": \"Benin\", \"CRI_SCORE\": 88.0, \"GHG_Emissions\": 1.5793592, \"Paris_Status\": \"R         \"}, {\"Country_Name\": \"Bhutan\", \"CRI_SCORE\": 125.0, \"GHG_Emissions\": 3.92588755, \"Paris_Status\": \"R         \"}, {\"Country_Name\": \"Bolivia\", \"CRI_SCORE\": 63.5, \"GHG_Emissions\": 5.07298044, \"Paris_Status\": \"R         \"}, {\"Country_Name\": \"Bosnia and Herzegovina\", \"CRI_SCORE\": 109.67, \"GHG_Emissions\": 9.13352134, \"Paris_Status\": \"R         \"}, {\"Country_Name\": \"Botswana\", \"CRI_SCORE\": 125.0, \"GHG_Emissions\": 5.60798238, \"Paris_Status\": \"R         \"}, {\"Country_Name\": \"Brazil\", \"CRI_SCORE\": 82.83, \"GHG_Emissions\": 6.04618979, \"Paris_Status\": \"R         \"}, {\"Country_Name\": \"Brunei Darussalam\", \"CRI_SCORE\": 125.0, \"GHG_Emissions\": 32.8374751, \"Paris_Status\": \"R         \"}, {\"Country_Name\": \"Bulgaria\", \"CRI_SCORE\": 101.0, \"GHG_Emissions\": 8.82469951, \"Paris_Status\": \"R         \"}, {\"Country_Name\": \"Burkina Faso\", \"CRI_SCORE\": 125.0, \"GHG_Emissions\": 1.64780007, \"Paris_Status\": \"R         \"}, {\"Country_Name\": \"Burundi\", \"CRI_SCORE\": 36.33, \"GHG_Emissions\": 0.67041513, \"Paris_Status\": \"R         \"}, {\"Country_Name\": \"Cambodia\", \"CRI_SCORE\": 47.67, \"GHG_Emissions\": 2.68466327, \"Paris_Status\": \"R         \"}, {\"Country_Name\": \"Cameroon\", \"CRI_SCORE\": 105.83, \"GHG_Emissions\": 1.69242112, \"Paris_Status\": \"R         \"}, {\"Country_Name\": \"Canada\", \"CRI_SCORE\": 21.83, \"GHG_Emissions\": 21.3145076, \"Paris_Status\": \"R         \"}, {\"Country_Name\": \"Cabo Verde\", \"CRI_SCORE\": 125.0, \"GHG_Emissions\": 2.03127803, \"Paris_Status\": \"R         \"}, {\"Country_Name\": \"Central African Republic\", \"CRI_SCORE\": 71.17, \"GHG_Emissions\": 2.6578787, \"Paris_Status\": \"R         \"}, {\"Country_Name\": \"Chad\", \"CRI_SCORE\": 125.0, \"GHG_Emissions\": 4.83622571, \"Paris_Status\": \"R         \"}, {\"Country_Name\": \"Chile\", \"CRI_SCORE\": 81.17, \"GHG_Emissions\": 7.16942678, \"Paris_Status\": \"R         \"}, {\"Country_Name\": \"China\", \"CRI_SCORE\": 45.17, \"GHG_Emissions\": 10.1032559, \"Paris_Status\": \"R         \"}, {\"Country_Name\": \"Colombia\", \"CRI_SCORE\": 61.0, \"GHG_Emissions\": 4.08081452, \"Paris_Status\": \"R         \"}, {\"Country_Name\": \"Comoros\", \"CRI_SCORE\": 125.0, \"GHG_Emissions\": 0.97339027, \"Paris_Status\": \"R         \"}, {\"Country_Name\": \"Costa Rica\", \"CRI_SCORE\": 84.67, \"GHG_Emissions\": 3.34903507, \"Paris_Status\": \"R         \"}, {\"Country_Name\": \"C\\ufffd\\ufffdte d'Ivoire\", \"CRI_SCORE\": 89.5, \"GHG_Emissions\": 1.27167133, \"Paris_Status\": \"R         \"}, {\"Country_Name\": \"Croatia\", \"CRI_SCORE\": 108.33, \"GHG_Emissions\": 6.06012462, \"Paris_Status\": \"R         \"}, {\"Country_Name\": \"Cyprus\", \"CRI_SCORE\": 73.5, \"GHG_Emissions\": 7.94385725, \"Paris_Status\": \"R         \"}, {\"Country_Name\": \"Czech Republic\", \"CRI_SCORE\": 46.83, \"GHG_Emissions\": 12.3980711, \"Paris_Status\": \"R         \"}, {\"Country_Name\": \"Democratic Republic of the Congo\", \"CRI_SCORE\": 69.83, \"GHG_Emissions\": 0.66498821, \"Paris_Status\": \"R         \"}, {\"Country_Name\": \"Timor-Leste\", \"CRI_SCORE\": 125.0, \"GHG_Emissions\": 2.38260209, \"Paris_Status\": \"R         \"}, {\"Country_Name\": \"Denmark\", \"CRI_SCORE\": 61.33, \"GHG_Emissions\": 8.68524456, \"Paris_Status\": \"AA        \"}, {\"Country_Name\": \"Djibouti\", \"CRI_SCORE\": 44.67, \"GHG_Emissions\": 2.15250477, \"Paris_Status\": \"R         \"}, {\"Country_Name\": \"Dominica\", \"CRI_SCORE\": 125.0, \"GHG_Emissions\": 2.04399582, \"Paris_Status\": \"R         \"}, {\"Country_Name\": \"Dominican Republic\", \"CRI_SCORE\": 86.5, \"GHG_Emissions\": 3.92270822, \"Paris_Status\": \"R         \"}, {\"Country_Name\": \"Ecuador\", \"CRI_SCORE\": 97.0, \"GHG_Emissions\": 4.22856429, \"Paris_Status\": \"R         \"}, {\"Country_Name\": \"Egypt\", \"CRI_SCORE\": 113.67, \"GHG_Emissions\": 3.84844798, \"Paris_Status\": \"R         \"}, {\"Country_Name\": \"El Salvador\", \"CRI_SCORE\": 44.33, \"GHG_Emissions\": 1.89547185, \"Paris_Status\": \"R         \"}, {\"Country_Name\": \"Eritrea\", \"CRI_SCORE\": 125.0, \"GHG_Emissions\": 1.28405257, \"Paris_Status\": \"R         \"}, {\"Country_Name\": \"Estonia\", \"CRI_SCORE\": 90.5, \"GHG_Emissions\": 20.3720455, \"Paris_Status\": \"R         \"}, {\"Country_Name\": \"Eswatini\", \"CRI_SCORE\": 96.67, \"GHG_Emissions\": 2.24006482, \"Paris_Status\": \"R         \"}, {\"Country_Name\": \"Ethiopia\", \"CRI_SCORE\": 62.83, \"GHG_Emissions\": 1.49178496, \"Paris_Status\": \"R         \"}, {\"Country_Name\": \"Fiji\", \"CRI_SCORE\": 22.5, \"GHG_Emissions\": 3.28806121, \"Paris_Status\": \"R         \"}, {\"Country_Name\": \"Finland\", \"CRI_SCORE\": 125.0, \"GHG_Emissions\": 12.2703757, \"Paris_Status\": \"R         \"}, {\"Country_Name\": \"France\", \"CRI_SCORE\": 46.17, \"GHG_Emissions\": 6.99171923, \"Paris_Status\": \"R         \"}, {\"Country_Name\": \"Gabon\", \"CRI_SCORE\": 125.0, \"GHG_Emissions\": 8.95788964, \"Paris_Status\": \"R         \"}, {\"Country_Name\": \"Georgia\", \"CRI_SCORE\": 97.83, \"GHG_Emissions\": 4.32473785, \"Paris_Status\": \"AA        \"}, {\"Country_Name\": \"Germany\", \"CRI_SCORE\": 13.83, \"GHG_Emissions\": 10.5061177, \"Paris_Status\": \"R         \"}, {\"Country_Name\": \"Ghana\", \"CRI_SCORE\": 68.33, \"GHG_Emissions\": 1.47466766, \"Paris_Status\": \"R         \"}, {\"Country_Name\": \"Greece\", \"CRI_SCORE\": 23.67, \"GHG_Emissions\": 7.82604102, \"Paris_Status\": \"R         \"}, {\"Country_Name\": \"Grenada\", \"CRI_SCORE\": 70.5, \"GHG_Emissions\": 1.83146862, \"Paris_Status\": \"R         \"}, {\"Country_Name\": \"Guatemala\", \"CRI_SCORE\": 77.33, \"GHG_Emissions\": 2.40767005, \"Paris_Status\": \"R         \"}, {\"Country_Name\": \"Guinea\", \"CRI_SCORE\": 125.0, \"GHG_Emissions\": 2.00100696, \"Paris_Status\": \"R         \"}, {\"Country_Name\": \"Guinea Bissau\", \"CRI_SCORE\": 47.5, \"GHG_Emissions\": 1.57762308, \"Paris_Status\": \"R         \"}, {\"Country_Name\": \"Guyana\", \"CRI_SCORE\": 125.0, \"GHG_Emissions\": 7.7481889, \"Paris_Status\": \"R         \"}, {\"Country_Name\": \"Haiti\", \"CRI_SCORE\": 88.67, \"GHG_Emissions\": 1.32936899, \"Paris_Status\": \"R         \"}, {\"Country_Name\": \"Honduras\", \"CRI_SCORE\": 51.67, \"GHG_Emissions\": 2.26703025, \"Paris_Status\": \"R         \"}, {\"Country_Name\": \"Hungary\", \"CRI_SCORE\": 107.17, \"GHG_Emissions\": 7.38232082, \"Paris_Status\": \"R         \"}, {\"Country_Name\": \"Iceland\", \"CRI_SCORE\": 125.0, \"GHG_Emissions\": 13.4308855, \"Paris_Status\": \"A         \"}, {\"Country_Name\": \"India\", \"CRI_SCORE\": 18.17, \"GHG_Emissions\": 2.77287998, \"Paris_Status\": \"R         \"}, {\"Country_Name\": \"Indonesia\", \"CRI_SCORE\": 68.17, \"GHG_Emissions\": 4.15916432, \"Paris_Status\": \"R         \"}, {\"Country_Name\": \"Iraq\", \"CRI_SCORE\": 68.5, \"GHG_Emissions\": 8.82877597, \"Paris_Status\": \"R         \"}, {\"Country_Name\": \"Ireland\", \"CRI_SCORE\": 76.5, \"GHG_Emissions\": 13.2434631, \"Paris_Status\": \"R         \"}, {\"Country_Name\": \"Afghanistan\", \"CRI_SCORE\": 36.0, \"GHG_Emissions\": 0.86436883, \"Paris_Status\": \"R         \"}, {\"Country_Name\": \"Iran (Islamic Republic of)\", \"CRI_SCORE\": 64.83, \"GHG_Emissions\": 11.5938077, \"Paris_Status\": \"None      \"}, {\"Country_Name\": \"Israel\", \"CRI_SCORE\": 89.5, \"GHG_Emissions\": 6.24969442, \"Paris_Status\": \"R         \"}, {\"Country_Name\": \"Italy\", \"CRI_SCORE\": 33.67, \"GHG_Emissions\": 7.04275645, \"Paris_Status\": \"R         \"}, {\"Country_Name\": \"Jamaica\", \"CRI_SCORE\": 109.5, \"GHG_Emissions\": 3.56288963, \"Paris_Status\": \"R         \"}, {\"Country_Name\": \"Japan\", \"CRI_SCORE\": 5.5, \"GHG_Emissions\": 9.95393652, \"Paris_Status\": \"A         \"}, {\"Country_Name\": \"Tajikistan\", \"CRI_SCORE\": 71.17, \"GHG_Emissions\": 2.16773855, \"Paris_Status\": \"R         \"}, {\"Country_Name\": \"Tanzania\", \"CRI_SCORE\": 69.83, \"GHG_Emissions\": 1.33996613, \"Paris_Status\": \"R         \"}, {\"Country_Name\": \"Thailand\", \"CRI_SCORE\": 68.83, \"GHG_Emissions\": 6.45087589, \"Paris_Status\": \"R         \"}, {\"Country_Name\": \"Bahamas\", \"CRI_SCORE\": 125.0, \"GHG_Emissions\": 4.88387613, \"Paris_Status\": \"R         \"}, {\"Country_Name\": \"Gambia\", \"CRI_SCORE\": 125.0, \"GHG_Emissions\": 0.97092207, \"Paris_Status\": \"R         \"}, {\"Country_Name\": \"Togo\", \"CRI_SCORE\": 125.0, \"GHG_Emissions\": 1.17979148, \"Paris_Status\": \"R         \"}, {\"Country_Name\": \"Tonga\", \"CRI_SCORE\": 25.17, \"GHG_Emissions\": 2.51391929, \"Paris_Status\": \"R         \"}, {\"Country_Name\": \"Trinidad and Tobago\", \"CRI_SCORE\": 81.33, \"GHG_Emissions\": 37.323667, \"Paris_Status\": \"R         \"}, {\"Country_Name\": \"Tunisia\", \"CRI_SCORE\": 46.83, \"GHG_Emissions\": 3.75266881, \"Paris_Status\": \"R         \"}, {\"Country_Name\": \"Turkey\", \"CRI_SCORE\": 79.17, \"GHG_Emissions\": 7.37163207, \"Paris_Status\": \"R         \"}, {\"Country_Name\": \"Uganda\", \"CRI_SCORE\": 24.67, \"GHG_Emissions\": 1.11633913, \"Paris_Status\": \"R         \"}, {\"Country_Name\": \"Ukraine\", \"CRI_SCORE\": 105.33, \"GHG_Emissions\": 6.69756702, \"Paris_Status\": \"R         \"}, {\"Country_Name\": \"United Arab Emirates\", \"CRI_SCORE\": 125.0, \"GHG_Emissions\": 26.5644221, \"Paris_Status\": \"A         \"}, {\"Country_Name\": \"United Kingdom\", \"CRI_SCORE\": 73.83, \"GHG_Emissions\": 6.96953775, \"Paris_Status\": \"R         \"}, {\"Country_Name\": \"United States of America\", \"CRI_SCORE\": 23.83, \"GHG_Emissions\": 19.2421754, \"Paris_Status\": \"A         \"}, {\"Country_Name\": \"Uruguay\", \"CRI_SCORE\": 35.67, \"GHG_Emissions\": 11.7381208, \"Paris_Status\": \"R         \"}, {\"Country_Name\": \"Uzbekistan\", \"CRI_SCORE\": 125.0, \"GHG_Emissions\": 6.58637388, \"Paris_Status\": \"R         \"}, {\"Country_Name\": \"Vanuatu\", \"CRI_SCORE\": 44.67, \"GHG_Emissions\": 2.4564378, \"Paris_Status\": \"R         \"}, {\"Country_Name\": \"Venezuela\", \"CRI_SCORE\": 104.17, \"GHG_Emissions\": 6.7049509, \"Paris_Status\": \"R         \"}, {\"Country_Name\": \"Viet Nam\", \"CRI_SCORE\": 26.17, \"GHG_Emissions\": 4.57982077, \"Paris_Status\": \"AA        \"}, {\"Country_Name\": \"Zambia\", \"CRI_SCORE\": 125.0, \"GHG_Emissions\": 1.61406963, \"Paris_Status\": \"R         \"}, {\"Country_Name\": \"Zimbabwe\", \"CRI_SCORE\": 114.5, \"GHG_Emissions\": 1.84904464, \"Paris_Status\": \"R         \"}, {\"Country_Name\": \"Jordan\", \"CRI_SCORE\": 56.33, \"GHG_Emissions\": 3.50969898, \"Paris_Status\": \"R         \"}, {\"Country_Name\": \"Kazakhstan\", \"CRI_SCORE\": 98.5, \"GHG_Emissions\": 17.0561677, \"Paris_Status\": \"R         \"}, {\"Country_Name\": \"Kenya\", \"CRI_SCORE\": 19.67, \"GHG_Emissions\": 1.93462647, \"Paris_Status\": \"R         \"}, {\"Country_Name\": \"Kiribati\", \"CRI_SCORE\": 125.0, \"GHG_Emissions\": 0.97129524, \"Paris_Status\": \"R         \"}, {\"Country_Name\": \"Republic of Korea\", \"CRI_SCORE\": 76.5, \"GHG_Emissions\": 14.6636998, \"Paris_Status\": \"R         \"}, {\"Country_Name\": \"Kuwait\", \"CRI_SCORE\": 62.83, \"GHG_Emissions\": 35.2293461, \"Paris_Status\": \"R         \"}, {\"Country_Name\": \"Kyrgyzstan\", \"CRI_SCORE\": 117.5, \"GHG_Emissions\": 3.62086821, \"Paris_Status\": \"R         \"}, {\"Country_Name\": \"Lao People's Democratic Republic\", \"CRI_SCORE\": 35.5, \"GHG_Emissions\": 5.00544341, \"Paris_Status\": \"R         \"}, {\"Country_Name\": \"Latvia\", \"CRI_SCORE\": 50.0, \"GHG_Emissions\": 6.41116225, \"Paris_Status\": \"R         \"}, {\"Country_Name\": \"Lebanon\", \"CRI_SCORE\": 67.17, \"GHG_Emissions\": 5.69271881, \"Paris_Status\": \"R         \"}, {\"Country_Name\": \"Lesotho\", \"CRI_SCORE\": 61.5, \"GHG_Emissions\": 1.28274306, \"Paris_Status\": \"R         \"}, {\"Country_Name\": \"Liberia\", \"CRI_SCORE\": 125.0, \"GHG_Emissions\": 0.95804534, \"Paris_Status\": \"R         \"}, {\"Country_Name\": \"Libya\", \"CRI_SCORE\": 125.0, \"GHG_Emissions\": 14.1218679, \"Paris_Status\": \"None      \"}, {\"Country_Name\": \"Lithuania\", \"CRI_SCORE\": 29.33, \"GHG_Emissions\": 7.92105459, \"Paris_Status\": \"R         \"}, {\"Country_Name\": \"Luxembourg\", \"CRI_SCORE\": 84.33, \"GHG_Emissions\": 17.6938421, \"Paris_Status\": \"R         \"}, {\"Country_Name\": \"Madagascar\", \"CRI_SCORE\": 15.83, \"GHG_Emissions\": 1.26354572, \"Paris_Status\": \"R         \"}, {\"Country_Name\": \"Malawi\", \"CRI_SCORE\": 83.67, \"GHG_Emissions\": 0.91575459, \"Paris_Status\": \"R         \"}, {\"Country_Name\": \"Malaysia\", \"CRI_SCORE\": 84.83, \"GHG_Emissions\": 10.1838052, \"Paris_Status\": \"R         \"}, {\"Country_Name\": \"Maldives\", \"CRI_SCORE\": 103.33, \"GHG_Emissions\": 5.33214373, \"Paris_Status\": \"R         \"}, {\"Country_Name\": \"Mali\", \"CRI_SCORE\": 125.0, \"GHG_Emissions\": 2.25734169, \"Paris_Status\": \"R         \"}, {\"Country_Name\": \"Malta\", \"CRI_SCORE\": 125.0, \"GHG_Emissions\": 4.69860794, \"Paris_Status\": \"R         \"}, {\"Country_Name\": \"Mauritania\", \"CRI_SCORE\": 101.0, \"GHG_Emissions\": 3.32306939, \"Paris_Status\": \"R         \"}, {\"Country_Name\": \"Mauritius\", \"CRI_SCORE\": 78.83, \"GHG_Emissions\": 4.76653168, \"Paris_Status\": \"R         \"}, {\"Country_Name\": \"Mexico\", \"CRI_SCORE\": 37.67, \"GHG_Emissions\": 5.97141719, \"Paris_Status\": \"R         \"}, {\"Country_Name\": \"Moldova\", \"CRI_SCORE\": 125.0, \"GHG_Emissions\": 3.11057622, \"Paris_Status\": \"R         \"}, {\"Country_Name\": \"Mongolia\", \"CRI_SCORE\": 26.67, \"GHG_Emissions\": 21.1198192, \"Paris_Status\": \"R         \"}, {\"Country_Name\": \"Montenegro\", \"CRI_SCORE\": 98.17, \"GHG_Emissions\": 3.7474001, \"Paris_Status\": \"R         \"}, {\"Country_Name\": \"Morocco\", \"CRI_SCORE\": 125.0, \"GHG_Emissions\": 2.88551897, \"Paris_Status\": \"R         \"}, {\"Country_Name\": \"Mozambique\", \"CRI_SCORE\": 61.17, \"GHG_Emissions\": 1.26741718, \"Paris_Status\": \"R         \"}, {\"Country_Name\": \"Myanmar\", \"CRI_SCORE\": 53.83, \"GHG_Emissions\": 2.97271222, \"Paris_Status\": \"R         \"}, {\"Country_Name\": \"Namibia\", \"CRI_SCORE\": 79.17, \"GHG_Emissions\": 4.81226667, \"Paris_Status\": \"R         \"}, {\"Country_Name\": \"Nepal\", \"CRI_SCORE\": 29.67, \"GHG_Emissions\": 1.86862953, \"Paris_Status\": \"R         \"}, {\"Country_Name\": \"Netherlands\", \"CRI_SCORE\": 67.17, \"GHG_Emissions\": 11.6961634, \"Paris_Status\": \"A         \"}, {\"Country_Name\": \"New Zealand\", \"CRI_SCORE\": 53.17, \"GHG_Emissions\": 18.4680211, \"Paris_Status\": \"R         \"}, {\"Country_Name\": \"Nicaragua\", \"CRI_SCORE\": 60.17, \"GHG_Emissions\": 3.11443631, \"Paris_Status\": \"a         \"}, {\"Country_Name\": \"Niger\", \"CRI_SCORE\": 39.67, \"GHG_Emissions\": 1.62201751, \"Paris_Status\": \"R         \"}, {\"Country_Name\": \"Nigeria\", \"CRI_SCORE\": 28.83, \"GHG_Emissions\": 2.14155763, \"Paris_Status\": \"R         \"}, {\"Country_Name\": \"North Macedonia\", \"CRI_SCORE\": 125.0, \"GHG_Emissions\": 4.96558043, \"Paris_Status\": \"R         \"}, {\"Country_Name\": \"Norway\", \"CRI_SCORE\": 84.0, \"GHG_Emissions\": 13.5805586, \"Paris_Status\": \"R         \"}, {\"Country_Name\": \"Oman\", \"CRI_SCORE\": 24.33, \"GHG_Emissions\": 26.0873286, \"Paris_Status\": \"R         \"}, {\"Country_Name\": \"Pakistan\", \"CRI_SCORE\": 87.83, \"GHG_Emissions\": 2.5424496, \"Paris_Status\": \"R         \"}, {\"Country_Name\": \"Panama\", \"CRI_SCORE\": 83.33, \"GHG_Emissions\": 4.01297107, \"Paris_Status\": \"R         \"}, {\"Country_Name\": \"Papua New Guinea\", \"CRI_SCORE\": 125.0, \"GHG_Emissions\": 1.40080394, \"Paris_Status\": \"R         \"}, {\"Country_Name\": \"Paraguay\", \"CRI_SCORE\": 109.33, \"GHG_Emissions\": 6.20836982, \"Paris_Status\": \"R         \"}, {\"Country_Name\": \"Peru\", \"CRI_SCORE\": 94.0, \"GHG_Emissions\": 2.96988757, \"Paris_Status\": \"R         \"}, {\"Country_Name\": \"Philippines\", \"CRI_SCORE\": 11.17, \"GHG_Emissions\": 2.30989591, \"Paris_Status\": \"R         \"}, {\"Country_Name\": \"Poland\", \"CRI_SCORE\": 49.0, \"GHG_Emissions\": 10.789081, \"Paris_Status\": \"R         \"}, {\"Country_Name\": \"Portugal\", \"CRI_SCORE\": 70.67, \"GHG_Emissions\": 6.63630268, \"Paris_Status\": \"R         \"}, {\"Country_Name\": \"Qatar\", \"CRI_SCORE\": 125.0, \"GHG_Emissions\": 70.7433594, \"Paris_Status\": \"R         \"}, {\"Country_Name\": \"Congo\", \"CRI_SCORE\": 125.0, \"GHG_Emissions\": 4.92220915, \"Paris_Status\": \"R         \"}, {\"Country_Name\": \"Republic of Yemen\", \"CRI_SCORE\": 41.33, \"GHG_Emissions\": 1.2053589, \"Paris_Status\": \"None      \"}, {\"Country_Name\": \"Romania\", \"CRI_SCORE\": 81.67, \"GHG_Emissions\": 6.24560548, \"Paris_Status\": \"R         \"}, {\"Country_Name\": \"Russian Federation\", \"CRI_SCORE\": 75.5, \"GHG_Emissions\": 16.976252, \"Paris_Status\": \"A         \"}, {\"Country_Name\": \"Rwanda\", \"CRI_SCORE\": 21.17, \"GHG_Emissions\": 0.6743442, \"Paris_Status\": \"R         \"}, {\"Country_Name\": \"Samoa\", \"CRI_SCORE\": 70.5, \"GHG_Emissions\": 2.98782252, \"Paris_Status\": \"R         \"}, {\"Country_Name\": \"Saudi Arabia\", \"CRI_SCORE\": 88.5, \"GHG_Emissions\": 22.6043047, \"Paris_Status\": \"R         \"}, {\"Country_Name\": \"Senegal\", \"CRI_SCORE\": 104.5, \"GHG_Emissions\": 1.63555414, \"Paris_Status\": \"R         \"}, {\"Country_Name\": \"Serbia\", \"CRI_SCORE\": 65.5, \"GHG_Emissions\": 3.7474001, \"Paris_Status\": \"R         \"}, {\"Country_Name\": \"Seychelles\", \"CRI_SCORE\": 125.0, \"GHG_Emissions\": 11.3007141, \"Paris_Status\": \"R         \"}, {\"Country_Name\": \"Sierra Leone\", \"CRI_SCORE\": 125.0, \"GHG_Emissions\": 1.02623764, \"Paris_Status\": \"R         \"}, {\"Country_Name\": \"Singapore\", \"CRI_SCORE\": 125.0, \"GHG_Emissions\": 11.8315444, \"Paris_Status\": \"R         \"}, {\"Country_Name\": \"Slovakia\", \"CRI_SCORE\": 88.33, \"GHG_Emissions\": 8.58495876, \"Paris_Status\": \"R         \"}, {\"Country_Name\": \"Slovenia\", \"CRI_SCORE\": 57.83, \"GHG_Emissions\": 9.5818605, \"Paris_Status\": \"R         \"}, {\"Country_Name\": \"Solomon Islands\", \"CRI_SCORE\": 43.17, \"GHG_Emissions\": 0.97899931, \"Paris_Status\": \"R         \"}, {\"Country_Name\": \"South Africa\", \"CRI_SCORE\": 53.33, \"GHG_Emissions\": 10.5541004, \"Paris_Status\": \"R         \"}, {\"Country_Name\": \"South Sudan\", \"CRI_SCORE\": 116.0, \"GHG_Emissions\": 1.33397495, \"Paris_Status\": \"R         \"}, {\"Country_Name\": \"Spain\", \"CRI_SCORE\": 47.67, \"GHG_Emissions\": 7.54806226, \"Paris_Status\": \"R         \"}, {\"Country_Name\": \"Sri Lanka\", \"CRI_SCORE\": 19.0, \"GHG_Emissions\": 1.98292135, \"Paris_Status\": \"R         \"}, {\"Country_Name\": \"St.Kitts and Nevis\", \"CRI_SCORE\": 125.0, \"GHG_Emissions\": 2.8240024, \"Paris_Status\": \"R         \"}, {\"Country_Name\": \"St.Lucia\", \"CRI_SCORE\": 125.0, \"GHG_Emissions\": 1.92639801, \"Paris_Status\": \"R         \"}, {\"Country_Name\": \"St.Vincent and the Grenadines\", \"CRI_SCORE\": 125.0, \"GHG_Emissions\": 1.55919332, \"Paris_Status\": \"R         \"}, {\"Country_Name\": \"Sudan\", \"CRI_SCORE\": 49.33, \"GHG_Emissions\": 1.33397495, \"Paris_Status\": \"R         \"}, {\"Country_Name\": \"Suriname\", \"CRI_SCORE\": 125.0, \"GHG_Emissions\": 5.82603006, \"Paris_Status\": \"R         \"}, {\"Country_Name\": \"Sweden\", \"CRI_SCORE\": 89.0, \"GHG_Emissions\": 6.34652844, \"Paris_Status\": \"R         \"}, {\"Country_Name\": \"Switzerland\", \"CRI_SCORE\": 73.67, \"GHG_Emissions\": 5.60747735, \"Paris_Status\": \"R         \"}]}}, {\"mode\": \"vega-lite\"});\n",
       "</script>"
      ],
      "text/plain": [
       "alt.Chart(...)"
      ]
     },
     "execution_count": 31,
     "metadata": {},
     "output_type": "execute_result"
    }
   ],
   "source": [
    "dot_chart = alt.Chart(simplified_data2).mark_circle(size = 60).encode(\n",
    "    alt.X(\"GHG_Emissions\", title = \"Greenhouse Gas Emissions\"),\n",
    "    alt.Y(\"CRI_SCORE\", title = \"Climate Risk Index Score\"),\n",
    "    alt.Color(\"Paris_Status\"),\n",
    "    tooltip = [\n",
    "        alt.Tooltip('Country_Name', title = \"Country\"),\n",
    "        alt.Tooltip('GHG_Emissions',  title = \"GHG Emissions\"),\n",
    "        alt.Tooltip('CRI_SCORE', title = \"Climate Risk Score\")]\n",
    ").properties(\n",
    "    width = 400,\n",
    "    height = 400,\n",
    "    title = \"Scatterplot of Climate Risk Index Score vs GHG Emissions by Paris Agreement Status\"\n",
    ").interactive()\n",
    "\n",
    "dot_chart"
   ]
  },
  {
   "cell_type": "markdown",
   "id": "d093565d-9a15-4748-8a63-2be21737015a",
   "metadata": {},
   "source": [
    "This visualization supports the results of the linear regression model: no discernable association beteween Climate Risk Index Score and Greenhouse Gas emissions can be observed. Additionally, it is difficult to draw any insight from Paris Agreement Status, as most countries included have a status of 'R' (ratified) with little variation.\n",
    "\n",
    "Overall, there is no evidence of association between climate risk index score and greenhouse gas emissions, split across Paris Agreement status."
   ]
  },
  {
   "cell_type": "code",
   "execution_count": 32,
   "id": "9a888658-8386-4b8a-b4cc-901a2d2af72b",
   "metadata": {},
   "outputs": [],
   "source": [
    "# Calculate residuals\n",
    "residuals = result.resid"
   ]
  },
  {
   "cell_type": "code",
   "execution_count": 33,
   "id": "7f308bc9-6101-4d78-ac3b-309aab760143",
   "metadata": {},
   "outputs": [
    {
     "data": {
      "image/png": "[encoded data removed]",
      "text/plain": [
       "<Figure size 640x480 with 1 Axes>"
      ]
     },
     "metadata": {},
     "output_type": "display_data"
    }
   ],
   "source": [
    "## Checking for homoscedasticity \n",
    "plt.scatter(result.fittedvalues, residuals)\n",
    "plt.xlabel('Fitted Values')\n",
    "plt.ylabel('Residuals')\n",
    "plt.axhline(y = 0, color = 'r', linestyle = '-')\n",
    "plt.title('Residuals vs. Fitted Values')\n",
    "plt.show()"
   ]
  },
  {
   "cell_type": "code",
   "execution_count": 34,
   "id": "cd620d76-00e7-4c54-b509-6e24d2d7d99f",
   "metadata": {},
   "outputs": [
    {
     "data": {
      "image/png": "[encoded data removed]",
      "text/plain": [
       "<Figure size 640x480 with 1 Axes>"
      ]
     },
     "metadata": {},
     "output_type": "display_data"
    }
   ],
   "source": [
    "## Checking for normality with a Q-Q plot\n",
    "smg.qqplot(residuals, line = '45')\n",
    "plt.title('Q-Q Plot of Residuals')\n",
    "plt.show()"
   ]
  },
  {
   "cell_type": "code",
   "execution_count": 35,
   "id": "f8271ff7-02a9-48eb-8f98-bc9c14a57f01",
   "metadata": {},
   "outputs": [
    {
     "data": {
      "image/png": "[encoded data removed]",
      "text/plain": [
       "<Figure size 640x480 with 1 Axes>"
      ]
     },
     "metadata": {},
     "output_type": "display_data"
    }
   ],
   "source": [
    "# Checking for influential points in the data\n",
    "influential_pts = result.get_influence()\n",
    "cook_values = influential_pts.cooks_distance[0]\n",
    "\n",
    "# Cook's distance plot\n",
    "plt.stem(range(len(cook_values)), cook_values, markerfmt = '-')\n",
    "plt.xlabel('Observation Number')\n",
    "plt.ylabel(\"Cook's Distance\")\n",
    "plt.title(\"Cook's Distance Plot\")\n",
    "plt.show()"
   ]
  },
  {
   "cell_type": "code",
   "execution_count": 36,
   "id": "f8cd675d-a09c-48a7-ae4d-c1208aafa8b0",
   "metadata": {},
   "outputs": [
    {
     "name": "stdout",
     "output_type": "stream",
     "text": [
      "Influential Points:\n",
      "                 Country_Name  CRI_SCORE  GHG_Emissions Paris_Status\n",
      "12                    Belarus     111.83      11.078887   A         \n",
      "58                    Georgia      97.83       4.324738   AA        \n",
      "70                    Iceland     125.00      13.430886   A         \n",
      "80                      Japan       5.50       9.953937   A         \n",
      "94       United Arab Emirates     125.00      26.564422   A         \n",
      "96   United States of America      23.83      19.242175   A         \n",
      "101                  Viet Nam      26.17       4.579821   AA        \n",
      "117                     Libya     125.00      14.121868   None      \n",
      "141                 Nicaragua      60.17       3.114436   a         \n",
      "156                     Qatar     125.00      70.743359   R         \n",
      "158         Republic of Yemen      41.33       1.205359   None      \n"
     ]
    }
   ],
   "source": [
    "#  Identify influential points in the data\n",
    "influential_pt_idxs = np.where(cook_values > 4 / len(simplified_data2))[0]\n",
    "influential_values = simplified_data2.iloc[influential_pt_idxs]\n",
    "print(\"Influential Points:\")\n",
    "print(influential_values)"
   ]
  }
 ],
 "metadata": {
  "kernelspec": {
   "display_name": "Python 3 (ipykernel)",
   "language": "python",
   "name": "python3"
  },
  "language_info": {
   "codemirror_mode": {
    "name": "ipython",
    "version": 3
   },
   "file_extension": ".py",
   "mimetype": "text/x-python",
   "name": "python",
   "nbconvert_exporter": "python",
   "pygments_lexer": "ipython3",
   "version": "3.11.7"
  }
 },
 "nbformat": 4,
 "nbformat_minor": 5
}
