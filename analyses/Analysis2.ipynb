{
 "cells": [
  {
   "cell_type": "code",
   "execution_count": 2,
   "id": "348b8f23-8110-4fc6-8c2f-4751bf2bca32",
   "metadata": {},
   "outputs": [],
   "source": [
    "import pandas as pd\n",
    "import warnings\n",
    "from sklearn.linear_model import Ridge\n",
    "import statsmodels.regression.linear_model as sm\n",
    "import statsmodels.tools.tools as t\n",
    "import seaborn as sns\n",
    "import matplotlib.pyplot as plt\n",
    "import altair as alt"
   ]
  },
  {
   "attachments": {},
   "cell_type": "markdown",
   "id": "5dc1139f-6f5d-48d5-ac81-217e73a5c32e",
   "metadata": {},
   "source": [
    "This part of the analysis will focus on the check the association between countries’ greenhouse gas emissions and their air pollution (target/dependent variable). We will also include data on countries' statuses with the Paris Climate Agreement. The following is further information on each of these variables.\n",
    "\n",
    "The greenhouse gas emissions include CO2 (fossil only), CH4, N2O and F-gases. They are combined using Global Warming Potential values from IPCC AR5. This data comes from the Emissions Database for Global Atmospheric Research [source](https://edgar.jrc.ec.europa.eu/report_2023#data_download).\n",
    "\n",
    "Air pollution will be represented through Nitrogen Dioxide levels in the air. This data comes from a World Health Organization database ([source](https://www.who.int/data/gho/data/themes/air-pollution/who-air-quality-database/2022))\n",
    "\n",
    "The Paris Climate Agreement data assigns each country one of the following values: \"R\" for Ratification, \"A\" for Acceptance, \"AA\" for Approval, \"a\" for Accession, or \"None\" for no participation. This data comes from the United Nations Treaty Collection [source](https://treaties.un.org/pages/ViewDetails.aspx?src=TREATY&mtdsg_no=XXVII-7-d&chapter=27&clang=_en)."
   ]
  },
  {
   "cell_type": "markdown",
   "id": "cbbb5370-9d30-445f-b399-f71cb674fb8e",
   "metadata": {},
   "source": [
    "First, we will read in the data discusssed above from the stored csv files."
   ]
  },
  {
   "cell_type": "code",
   "execution_count": 3,
   "id": "6b2fa013-d732-414a-be81-d71a2fc46fea",
   "metadata": {},
   "outputs": [],
   "source": [
    "## Reading in the data\n",
    "air_quality_dat = pd.read_csv(\"../fetched_data/AIR_QUALITY_DATA.csv\")\n",
    "\n",
    "paris_agreement_dat = pd.read_csv(\"../fetched_data/PARIS_AGREEMENT_DATA.csv\")\n",
    "\n",
    "greenhouse_gas_dat = pd.read_csv(\"../fetched_data/GHG_DATA.csv\")"
   ]
  },
  {
   "cell_type": "markdown",
   "id": "3c4d2a26-db5e-4c84-b296-cdfbec09e8e8",
   "metadata": {},
   "source": [
    "In order to complete the analysis the datasets will be merged together, and appropriate columns should be selected."
   ]
  },
  {
   "cell_type": "code",
   "execution_count": 3,
   "id": "1e3095a1-9b7d-4cb3-9dfe-b5b94808139b",
   "metadata": {},
   "outputs": [],
   "source": [
    "# Merging all the data needed for analysis, \n",
    "# making sure no data is lost from our target variable air quality\n",
    "merged_data = air_quality_dat.merge(paris_agreement_dat, how = \"left\", on = \"Country_Name\").merge(greenhouse_gas_dat, how = \"left\", left_on = [\"Country_Name\"], right_on = [\"Country\"])\n"
   ]
  },
  {
   "cell_type": "code",
   "execution_count": 4,
   "id": "89cec883-8d49-4fbd-80e4-59cec998d3bc",
   "metadata": {},
   "outputs": [],
   "source": [
    "# Selecting columns needed for analysis\n",
    "simplified_data = merged_data[[\"Country_Name\", \"NO2\", \"GHG_Emissions\", \"Date_Joined\"]].rename(columns = {\"Date_Joined\":\"Paris_Status\"})"
   ]
  },
  {
   "cell_type": "markdown",
   "id": "a74eede4-201b-4aa8-b07b-540053b2f9a1",
   "metadata": {},
   "source": [
    "One issue we ran into is that some citites are missing NO2 values. One way to address this problem is by filling NULL values will 0. However, this would likely result in an underestimation of a country's NO2 levels. Therefore, we decided to employ median imputation. This may result in a slight overestimation of NO2 values since smaller cities potentially are more difficult to obtain NO2 readings for and therefore may have more NULL values. However, some investigation revealed that there are also medium sized cities with NULL values, therefore median imputation seems like a reasonable approach. There are no missing values for the Greenhouse Gas Emissions measurements."
   ]
  },
  {
   "cell_type": "code",
   "execution_count": 5,
   "id": "dfdfb06d-8b2b-4f01-8e1e-837b46ed234e",
   "metadata": {},
   "outputs": [],
   "source": [
    "## Applying median imputation\n",
    "simplified_data['NO2'] = simplified_data.groupby(\"Country_Name\")['NO2'].transform(lambda x: x.fillna(x.median()))"
   ]
  },
  {
   "cell_type": "markdown",
   "id": "15847622-dc24-4703-b506-061157298f2c",
   "metadata": {},
   "source": [
    "We also decided to remove countries that have no NO2 measurements from the analysis. We made this decision since data without an air quality value will not be informative for investigating the association between greenhouse gasses and paris agreement countries, and air quality."
   ]
  },
  {
   "cell_type": "code",
   "execution_count": 6,
   "id": "be70237f-00ed-4262-8955-6757b78cf441",
   "metadata": {},
   "outputs": [],
   "source": [
    "# Group by 'Country' column\n",
    "simplified_data_grouped = simplified_data.groupby('Country_Name')\n",
    "\n",
    "# Drop rows where all NO2 values are null within each country group\n",
    "simplified_data_minimal = simplified_data_grouped.filter(lambda x: x['NO2'].notna().any())"
   ]
  },
  {
   "cell_type": "markdown",
   "id": "ed9578c1-1d64-495e-920c-3dd15e858784",
   "metadata": {},
   "source": [
    "We are conducting this analysis at the country level. Therefore, we will sum up NO2 values for each country. One limitation to keep in mind is that there may be some cities missing from the dataset, which would result in an underestimate of a country's NO2 values."
   ]
  },
  {
   "cell_type": "code",
   "execution_count": 7,
   "id": "144d31fb-be64-44f8-835a-11c85b6607c5",
   "metadata": {},
   "outputs": [],
   "source": [
    "aggregated_data = simplified_data_minimal.groupby(['Country_Name',\"GHG_Emissions\",\"Paris_Status\"]).sum().reset_index()"
   ]
  },
  {
   "cell_type": "markdown",
   "id": "b7462abe-9073-41c9-a2d4-25816338230c",
   "metadata": {},
   "source": [
    "Next, we will one-hot-encode our paris agreement variable for ease of analysis. We will create a new column for each of the categories: 'A', 'AA', 'R', and 'None'. The 'a' category will not be included since none of the countries with NO2 levels have an 'a' paris agreement status. "
   ]
  },
  {
   "cell_type": "code",
   "execution_count": 8,
   "id": "11e31666-e9e6-4551-a5cd-3ba4a9e495bb",
   "metadata": {},
   "outputs": [],
   "source": [
    "one_hot_encoded_data = pd.get_dummies(aggregated_data, columns = ['Paris_Status']) \n",
    "one_hot_encoded_data[['Paris_Status_A         ',\n",
    "       'Paris_Status_AA        ', 'Paris_Status_None      ',\n",
    "       'Paris_Status_R         ']] = one_hot_encoded_data[['Paris_Status_A         ',\n",
    "       'Paris_Status_AA        ', 'Paris_Status_None      ',\n",
    "       'Paris_Status_R         ']].astype(int)"
   ]
  },
  {
   "cell_type": "markdown",
   "id": "2975b1bb-5346-44fa-8e15-8f9dba047d17",
   "metadata": {},
   "source": [
    "Now, we will split our data into X (independent variables) and y (dependent/target variable). We add a constant to act as an intercept for the linear regression fit."
   ]
  },
  {
   "cell_type": "code",
   "execution_count": 9,
   "id": "e546d015-a3e6-46ea-be0d-eb1c440b4ff3",
   "metadata": {},
   "outputs": [],
   "source": [
    "X = one_hot_encoded_data.drop(columns = [\"NO2\",\"Country_Name\"])\n",
    "X = t.add_constant(X)\n",
    "y = one_hot_encoded_data[[\"NO2\"]]"
   ]
  },
  {
   "cell_type": "markdown",
   "id": "c93aff14-64ae-4cd8-9fe5-e2aae9a12349",
   "metadata": {},
   "source": [
    "Now we will use linear regression and least-squares-estimation to fit a linear model to our data."
   ]
  },
  {
   "cell_type": "code",
   "execution_count": 10,
   "id": "bb0ef452-1745-4dcb-a00e-013f550e7b0c",
   "metadata": {},
   "outputs": [
    {
     "name": "stdout",
     "output_type": "stream",
     "text": [
      "                            OLS Regression Results                            \n",
      "==============================================================================\n",
      "Dep. Variable:                    NO2   R-squared:                       0.027\n",
      "Model:                            OLS   Adj. R-squared:                 -0.054\n",
      "Method:                 Least Squares   F-statistic:                    0.3296\n",
      "Date:                Wed, 20 Mar 2024   Prob (F-statistic):              0.857\n",
      "Time:                        19:47:26   Log-Likelihood:                -465.70\n",
      "No. Observations:                  53   AIC:                             941.4\n",
      "Df Residuals:                      48   BIC:                             951.2\n",
      "Df Model:                           4                                         \n",
      "Covariance Type:            nonrobust                                         \n",
      "===========================================================================================\n",
      "                              coef    std err          t      P>|t|      [0.025      0.975]\n",
      "-------------------------------------------------------------------------------------------\n",
      "const                     752.9201    540.975      1.392      0.170    -334.783    1840.623\n",
      "GHG_Emissions             -16.3609     21.839     -0.749      0.457     -60.272      27.550\n",
      "Paris_Status_A            -92.7772    827.864     -0.112      0.911   -1757.309    1571.754\n",
      "Paris_Status_AA          -502.2221   1383.589     -0.363      0.718   -3284.115    2279.671\n",
      "Paris_Status_None         984.7645   1384.467      0.711      0.480   -1798.894    3768.423\n",
      "Paris_Status_R            363.1549    536.640      0.677      0.502    -715.832    1442.142\n",
      "==============================================================================\n",
      "Omnibus:                       62.094   Durbin-Watson:                   2.141\n",
      "Prob(Omnibus):                  0.000   Jarque-Bera (JB):              375.849\n",
      "Skew:                           3.255   Prob(JB):                     2.43e-82\n",
      "Kurtosis:                      14.305   Cond. No.                     2.52e+17\n",
      "==============================================================================\n",
      "\n",
      "Notes:\n",
      "[1] Standard Errors assume that the covariance matrix of the errors is correctly specified.\n",
      "[2] The smallest eigenvalue is 1.94e-31. This might indicate that there are\n",
      "strong multicollinearity problems or that the design matrix is singular.\n"
     ]
    }
   ],
   "source": [
    "result = sm.OLS(y, X).fit()\n",
    " \n",
    "# printing the summary table\n",
    "print(result.summary())"
   ]
  },
  {
   "cell_type": "markdown",
   "id": "2342cc7e-0514-4ecd-a868-aa35fd6cb79d",
   "metadata": {},
   "source": [
    "The Adjusted R-Squared value from this linear fit is -0.054. This indicates that the linear model is not a good fit for the data we have. In addition the p-values for the co-efficients are all fairly high (above 0.17). This indicates that the fitted coefficients do not seem to be statistically significant from zero."
   ]
  },
  {
   "cell_type": "markdown",
   "id": "bfc31b39-d828-43b1-bd59-2d4978983dff",
   "metadata": {},
   "source": [
    "Overall, there does not seem to be a significant association between air quality (NO2) and Greenhouse Gas Emissions. Nor does there seem to be a difference in intercept for any status of the paris agreement."
   ]
  },
  {
   "cell_type": "markdown",
   "id": "5c1d9f6d-580d-4a84-af06-f3ab9f005a50",
   "metadata": {},
   "source": [
    "The following plot of the data with the fitted linear model may help us gain some insight."
   ]
  },
  {
   "cell_type": "code",
   "execution_count": 11,
   "id": "3dc1101c-8724-4db9-b728-76c987a9487a",
   "metadata": {},
   "outputs": [
    {
     "data": {
      "text/plain": [
       "Text(49.542774305555554, 0.5, 'NO2 Air Levels')"
      ]
     },
     "execution_count": 11,
     "metadata": {},
     "output_type": "execute_result"
    },
    {
     "data": {
      "image/png": "[encoded data removed]",
      "text/plain": [
       "<Figure size 612.375x500 with 1 Axes>"
      ]
     },
     "metadata": {},
     "output_type": "display_data"
    }
   ],
   "source": [
    "sns.lmplot(x='GHG_Emissions', y='NO2', hue=\"Paris_Status\", data=aggregated_data)\n",
    "ax = plt.gca()\n",
    "ax.set_title(\"Scatterplot of Air Quality vs GHG Emissions Split by Paris Agreement Status\")\n",
    "ax.set_xlabel(\"Greenhouse Gas Emissions\")\n",
    "ax.set_ylabel(\"NO2 Air Levels\")"
   ]
  },
  {
   "cell_type": "markdown",
   "id": "73d1f90d-4db3-4a67-9754-41e5614fa61d",
   "metadata": {},
   "source": [
    "The above plot shows the data with fitted regressions lines and confidence bounds. The bottom plot show the same data, but without the regression lines and in a more interactive form."
   ]
  },
  {
   "cell_type": "code",
   "execution_count": 18,
   "id": "28b919b6-b9a9-47ff-a0e2-0f4095a502c4",
   "metadata": {},
   "outputs": [
    {
     "data": {
      "text/html": [
       "\n",
       "<style>\n",
       "  #altair-viz-c16b51c23c06477ca0597382a91e0ad9.vega-embed {\n",
       "    width: 100%;\n",
       "    display: flex;\n",
       "  }\n",
       "\n",
       "  #altair-viz-c16b51c23c06477ca0597382a91e0ad9.vega-embed details,\n",
       "  #altair-viz-c16b51c23c06477ca0597382a91e0ad9.vega-embed details summary {\n",
       "    position: relative;\n",
       "  }\n",
       "</style>\n",
       "<div id=\"altair-viz-c16b51c23c06477ca0597382a91e0ad9\"></div>\n",
       "<script type=\"text/javascript\">\n",
       "  var VEGA_DEBUG = (typeof VEGA_DEBUG == \"undefined\") ? {} : VEGA_DEBUG;\n",
       "  (function(spec, embedOpt){\n",
       "    let outputDiv = document.currentScript.previousElementSibling;\n",
       "    if (outputDiv.id !== \"altair-viz-c16b51c23c06477ca0597382a91e0ad9\") {\n",
       "      outputDiv = document.getElementById(\"altair-viz-c16b51c23c06477ca0597382a91e0ad9\");\n",
       "    }\n",
       "    const paths = {\n",
       "      \"vega\": \"https://cdn.jsdelivr.net/npm/vega@5?noext\",\n",
       "      \"vega-lib\": \"https://cdn.jsdelivr.net/npm/vega-lib?noext\",\n",
       "      \"vega-lite\": \"https://cdn.jsdelivr.net/npm/vega-lite@5.16.3?noext\",\n",
       "      \"vega-embed\": \"https://cdn.jsdelivr.net/npm/vega-embed@6?noext\",\n",
       "    };\n",
       "\n",
       "    function maybeLoadScript(lib, version) {\n",
       "      var key = `${lib.replace(\"-\", \"\")}_version`;\n",
       "      return (VEGA_DEBUG[key] == version) ?\n",
       "        Promise.resolve(paths[lib]) :\n",
       "        new Promise(function(resolve, reject) {\n",
       "          var s = document.createElement('script');\n",
       "          document.getElementsByTagName(\"head\")[0].appendChild(s);\n",
       "          s.async = true;\n",
       "          s.onload = () => {\n",
       "            VEGA_DEBUG[key] = version;\n",
       "            return resolve(paths[lib]);\n",
       "          };\n",
       "          s.onerror = () => reject(`Error loading script: ${paths[lib]}`);\n",
       "          s.src = paths[lib];\n",
       "        });\n",
       "    }\n",
       "\n",
       "    function showError(err) {\n",
       "      outputDiv.innerHTML = `<div class=\"error\" style=\"color:red;\">${err}</div>`;\n",
       "      throw err;\n",
       "    }\n",
       "\n",
       "    function displayChart(vegaEmbed) {\n",
       "      vegaEmbed(outputDiv, spec, embedOpt)\n",
       "        .catch(err => showError(`Javascript Error: ${err.message}<br>This usually means there's a typo in your chart specification. See the javascript console for the full traceback.`));\n",
       "    }\n",
       "\n",
       "    if(typeof define === \"function\" && define.amd) {\n",
       "      requirejs.config({paths});\n",
       "      require([\"vega-embed\"], displayChart, err => showError(`Error loading script: ${err.message}`));\n",
       "    } else {\n",
       "      maybeLoadScript(\"vega\", \"5\")\n",
       "        .then(() => maybeLoadScript(\"vega-lite\", \"5.16.3\"))\n",
       "        .then(() => maybeLoadScript(\"vega-embed\", \"6\"))\n",
       "        .catch(showError)\n",
       "        .then(() => displayChart(vegaEmbed));\n",
       "    }\n",
       "  })({\"config\": {\"view\": {\"continuousWidth\": 300, \"continuousHeight\": 300}}, \"data\": {\"name\": \"data-bb5ea3da0bfcf516ee78229fb7700763\"}, \"mark\": {\"type\": \"circle\", \"size\": 60}, \"encoding\": {\"color\": {\"field\": \"Paris_Status\", \"type\": \"nominal\"}, \"tooltip\": [{\"field\": \"Country_Name\", \"title\": \"Country\", \"type\": \"nominal\"}, {\"field\": \"GHG_Emissions\", \"title\": \"GHG Emissions\", \"type\": \"quantitative\"}, {\"field\": \"NO2\", \"title\": \"Climate Risk Score\", \"type\": \"quantitative\"}], \"x\": {\"field\": \"GHG_Emissions\", \"title\": \"Greenhouse Gas Emissions\", \"type\": \"quantitative\"}, \"y\": {\"field\": \"NO2\", \"title\": \"NO2 Air Levels\", \"type\": \"quantitative\"}}, \"height\": 400, \"params\": [{\"name\": \"param_5\", \"select\": {\"type\": \"interval\", \"encodings\": [\"x\", \"y\"]}, \"bind\": \"scales\"}], \"title\": \"Scatterplot of NO2 Levels vs GHG Emissions by Paris Agreement Status\", \"width\": 400, \"$schema\": \"https://vega.github.io/schema/vega-lite/v5.16.3.json\", \"datasets\": {\"data-bb5ea3da0bfcf516ee78229fb7700763\": [{\"Country_Name\": \"Argentina                                                   \", \"GHG_Emissions\": 8.46500989, \"Paris_Status\": \"R         \", \"NO2\": 17.0}, {\"Country_Name\": \"Australia                                                   \", \"GHG_Emissions\": 24.1307983, \"Paris_Status\": \"R         \", \"NO2\": 30.5}, {\"Country_Name\": \"Austria                                                     \", \"GHG_Emissions\": 9.46631178, \"Paris_Status\": \"R         \", \"NO2\": 2011.84}, {\"Country_Name\": \"Bangladesh                                                  \", \"GHG_Emissions\": 1.67643832, \"Paris_Status\": \"R         \", \"NO2\": 263.0}, {\"Country_Name\": \"Belgium                                                     \", \"GHG_Emissions\": 10.8622928, \"Paris_Status\": \"R         \", \"NO2\": 1197.6}, {\"Country_Name\": \"Bosnia and Herzegovina                                      \", \"GHG_Emissions\": 9.13352134, \"Paris_Status\": \"R         \", \"NO2\": 194.5}, {\"Country_Name\": \"Brazil                                                      \", \"GHG_Emissions\": 6.04618979, \"Paris_Status\": \"R         \", \"NO2\": 670.63}, {\"Country_Name\": \"Bulgaria                                                    \", \"GHG_Emissions\": 8.82469951, \"Paris_Status\": \"R         \", \"NO2\": 488.1}, {\"Country_Name\": \"Canada                                                      \", \"GHG_Emissions\": 21.3145076, \"Paris_Status\": \"R         \", \"NO2\": 2056.5}, {\"Country_Name\": \"Costa Rica                                                  \", \"GHG_Emissions\": 3.34903507, \"Paris_Status\": \"R         \", \"NO2\": 205.0}, {\"Country_Name\": \"Croatia                                                     \", \"GHG_Emissions\": 6.06012462, \"Paris_Status\": \"R         \", \"NO2\": 308.2}, {\"Country_Name\": \"Cyprus                                                      \", \"GHG_Emissions\": 7.94385725, \"Paris_Status\": \"R         \", \"NO2\": 76.8}, {\"Country_Name\": \"Czech Republic                                              \", \"GHG_Emissions\": 12.3980711, \"Paris_Status\": \"R         \", \"NO2\": 1421.7}, {\"Country_Name\": \"Denmark                                                     \", \"GHG_Emissions\": 8.68524456, \"Paris_Status\": \"AA        \", \"NO2\": 108.6}, {\"Country_Name\": \"Ecuador                                                     \", \"GHG_Emissions\": 4.22856429, \"Paris_Status\": \"R         \", \"NO2\": 24.0}, {\"Country_Name\": \"Estonia                                                     \", \"GHG_Emissions\": 20.3720455, \"Paris_Status\": \"R         \", \"NO2\": 45.3}, {\"Country_Name\": \"Finland                                                     \", \"GHG_Emissions\": 12.2703757, \"Paris_Status\": \"R         \", \"NO2\": 359.57}, {\"Country_Name\": \"Germany                                                     \", \"GHG_Emissions\": 10.5061177, \"Paris_Status\": \"R         \", \"NO2\": 8052.0}, {\"Country_Name\": \"Greece                                                      \", \"GHG_Emissions\": 7.82604102, \"Paris_Status\": \"R         \", \"NO2\": 503.0}, {\"Country_Name\": \"Hungary                                                     \", \"GHG_Emissions\": 7.38232082, \"Paris_Status\": \"R         \", \"NO2\": 355.7}, {\"Country_Name\": \"Iceland                                                     \", \"GHG_Emissions\": 13.4308855, \"Paris_Status\": \"A         \", \"NO2\": 54.5}, {\"Country_Name\": \"India                                                       \", \"GHG_Emissions\": 2.77287998, \"Paris_Status\": \"R         \", \"NO2\": 7885.4}, {\"Country_Name\": \"Iran (Islamic Republic of)                                  \", \"GHG_Emissions\": 11.5938077, \"Paris_Status\": \"None      \", \"NO2\": 1548.0}, {\"Country_Name\": \"Iraq                                                        \", \"GHG_Emissions\": 8.82877597, \"Paris_Status\": \"R         \", \"NO2\": 121.5}, {\"Country_Name\": \"Ireland                                                     \", \"GHG_Emissions\": 13.2434631, \"Paris_Status\": \"R         \", \"NO2\": 189.7}, {\"Country_Name\": \"Japan                                                       \", \"GHG_Emissions\": 9.95393652, \"Paris_Status\": \"A         \", \"NO2\": 294.5}, {\"Country_Name\": \"Jordan                                                      \", \"GHG_Emissions\": 3.50969898, \"Paris_Status\": \"R         \", \"NO2\": 83.0}, {\"Country_Name\": \"Latvia                                                      \", \"GHG_Emissions\": 6.41116225, \"Paris_Status\": \"R         \", \"NO2\": 70.0}, {\"Country_Name\": \"Lithuania                                                   \", \"GHG_Emissions\": 7.92105459, \"Paris_Status\": \"R         \", \"NO2\": 165.3}, {\"Country_Name\": \"Luxembourg                                                  \", \"GHG_Emissions\": 17.6938421, \"Paris_Status\": \"R         \", \"NO2\": 210.0}, {\"Country_Name\": \"Malta                                                       \", \"GHG_Emissions\": 4.69860794, \"Paris_Status\": \"R         \", \"NO2\": 126.6}, {\"Country_Name\": \"Mexico                                                      \", \"GHG_Emissions\": 5.97141719, \"Paris_Status\": \"R         \", \"NO2\": 2123.0}, {\"Country_Name\": \"Morocco                                                     \", \"GHG_Emissions\": 2.88551897, \"Paris_Status\": \"R         \", \"NO2\": 68.4}, {\"Country_Name\": \"Netherlands                                                 \", \"GHG_Emissions\": 11.6961634, \"Paris_Status\": \"A         \", \"NO2\": 1085.0}, {\"Country_Name\": \"North Macedonia                                             \", \"GHG_Emissions\": 4.96558043, \"Paris_Status\": \"R         \", \"NO2\": 195.0}, {\"Country_Name\": \"Norway                                                      \", \"GHG_Emissions\": 13.5805586, \"Paris_Status\": \"R         \", \"NO2\": 701.27}, {\"Country_Name\": \"Pakistan                                                    \", \"GHG_Emissions\": 2.5424496, \"Paris_Status\": \"R         \", \"NO2\": 29.0}, {\"Country_Name\": \"Peru                                                        \", \"GHG_Emissions\": 2.96988757, \"Paris_Status\": \"R         \", \"NO2\": 104.0}, {\"Country_Name\": \"Poland                                                      \", \"GHG_Emissions\": 10.789081, \"Paris_Status\": \"R         \", \"NO2\": 3090.1}, {\"Country_Name\": \"Portugal                                                    \", \"GHG_Emissions\": 6.63630268, \"Paris_Status\": \"R         \", \"NO2\": 890.3}, {\"Country_Name\": \"Qatar                                                       \", \"GHG_Emissions\": 70.7433594, \"Paris_Status\": \"R         \", \"NO2\": 47.0}, {\"Country_Name\": \"Republic of Korea                                           \", \"GHG_Emissions\": 14.6636998, \"Paris_Status\": \"R         \", \"NO2\": 582.0}, {\"Country_Name\": \"Romania                                                     \", \"GHG_Emissions\": 6.24560548, \"Paris_Status\": \"R         \", \"NO2\": 1835.9}, {\"Country_Name\": \"Senegal                                                     \", \"GHG_Emissions\": 1.63555414, \"Paris_Status\": \"R         \", \"NO2\": 16.0}, {\"Country_Name\": \"Singapore                                                   \", \"GHG_Emissions\": 11.8315444, \"Paris_Status\": \"R         \", \"NO2\": 26.0}, {\"Country_Name\": \"Slovakia                                                    \", \"GHG_Emissions\": 8.58495876, \"Paris_Status\": \"R         \", \"NO2\": 580.1}, {\"Country_Name\": \"Slovenia                                                    \", \"GHG_Emissions\": 9.5818605, \"Paris_Status\": \"R         \", \"NO2\": 267.2}, {\"Country_Name\": \"South Africa                                                \", \"GHG_Emissions\": 10.5541004, \"Paris_Status\": \"R         \", \"NO2\": 361.2}, {\"Country_Name\": \"Sweden                                                      \", \"GHG_Emissions\": 6.34652844, \"Paris_Status\": \"R         \", \"NO2\": 795.8}, {\"Country_Name\": \"Trinidad and Tobago                                         \", \"GHG_Emissions\": 37.323667, \"Paris_Status\": \"R         \", \"NO2\": 13.100000000000001}, {\"Country_Name\": \"Turkey                                                      \", \"GHG_Emissions\": 7.37163207, \"Paris_Status\": \"R         \", \"NO2\": 3094.1}, {\"Country_Name\": \"United Arab Emirates                                        \", \"GHG_Emissions\": 26.5644221, \"Paris_Status\": \"A         \", \"NO2\": 198.0}, {\"Country_Name\": \"United Kingdom                                              \", \"GHG_Emissions\": 6.96953775, \"Paris_Status\": \"R         \", \"NO2\": 2330.9}]}}, {\"mode\": \"vega-lite\"});\n",
       "</script>"
      ],
      "text/plain": [
       "alt.Chart(...)"
      ]
     },
     "execution_count": 18,
     "metadata": {},
     "output_type": "execute_result"
    }
   ],
   "source": [
    "dot_chart = alt.Chart(aggregated_data).mark_circle(size = 60).encode(\n",
    "    alt.X(\"GHG_Emissions\", title = \"Greenhouse Gas Emissions\"),\n",
    "    alt.Y(\"NO2\", title = \"NO2 Air Levels\"),\n",
    "    alt.Color(\"Paris_Status\"),\n",
    "    tooltip = [\n",
    "        alt.Tooltip('Country_Name', title = \"Country\"),\n",
    "        alt.Tooltip('GHG_Emissions',  title = \"GHG Emissions\"),\n",
    "        alt.Tooltip('NO2', title = \"Climate Risk Score\")]\n",
    ").properties(\n",
    "    width = 400,\n",
    "    height = 400,\n",
    "    title = \"Scatterplot of NO2 Levels vs GHG Emissions by Paris Agreement Status\"\n",
    ").interactive()\n",
    "\n",
    "dot_chart"
   ]
  },
  {
   "cell_type": "markdown",
   "id": "557cd7ab-accc-4bcc-9361-f7e1e48d0e5a",
   "metadata": {},
   "source": [
    "The data points are fairly clumped near 0 NO2 levels, and then spread out across Greenhouse Gas Emission levels. There are some outliers either with large GHG emission values and small NO2 levels or vice versa. As we saw in our model, and now here, there is no clear association beteween Air Quality (NO2) and Greenhouse Gas emissions. It is also difficult to draw any insight from the paris agreement status as most countries included have a status of 'R' with only a handful having a different status."
   ]
  },
  {
   "cell_type": "markdown",
   "id": "78c7b6d0-aee5-45af-9dc6-752de4437220",
   "metadata": {},
   "source": [
    "Overall, there is no evidence of association between air quality, represented by NO2, and Greenhouse Gas Emissions, split across Paris Agreement status."
   ]
  }
 ],
 "metadata": {
  "kernelspec": {
   "display_name": "Python 3 (ipykernel)",
   "language": "python",
   "name": "python3"
  },
  "language_info": {
   "codemirror_mode": {
    "name": "ipython",
    "version": 3
   },
   "file_extension": ".py",
   "mimetype": "text/x-python",
   "name": "python",
   "nbconvert_exporter": "python",
   "pygments_lexer": "ipython3",
   "version": "3.11.7"
  }
 },
 "nbformat": 4,
 "nbformat_minor": 5
}
