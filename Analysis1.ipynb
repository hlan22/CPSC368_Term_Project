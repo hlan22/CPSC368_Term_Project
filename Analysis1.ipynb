{
 "cells": [
  {
   "cell_type": "markdown",
   "id": "5ca342df-83e1-4bb9-9fba-73396314c581",
   "metadata": {},
   "source": [
    "# Analysis 1\n",
    "\n",
    "We will be conducting a regression analysis to check the association between countries’ greenhouse gas emissions (independent variable) and their global climate risk indices (dependent variable)."
   ]
  },
  {
   "cell_type": "code",
   "execution_count": 1,
   "id": "5e8370ad-4c93-4592-a4e7-7f75665af9c4",
   "metadata": {},
   "outputs": [],
   "source": [
    "import pandas as pd\n",
    "import warnings\n",
    "from sklearn.linear_model import Ridge\n",
    "import statsmodels.regression.linear_model as sm\n",
    "import statsmodels.tools.tools as t\n",
    "import seaborn as sns\n",
    "import matplotlib.pyplot as plt\n",
    "from itertools import zip_longest"
   ]
  },
  {
   "cell_type": "markdown",
   "id": "129575f5-276c-44fa-ae90-64c0de454847",
   "metadata": {},
   "source": [
    "The greenhouse gas emissions include CO2 (fossil only), CH4, N2O and F-gases. They are combined using Global Warming Potential values from IPCC AR5. This data comes from the [Emissions Database for Global Atmospheric Research](https://edgar.jrc.ec.europa.eu/report_2023#data_download).\n",
    "\n",
    "\n",
    "The [2020 global climate risk index](https://www.germanwatch.org/sites/default/files/20-2-01e%20Global%20Climate%20Risk%20Index%202020_14.pdf)  lists each country’s climate risk score and rank, and is published by a group called Germanwatch. This metric indicates a country's to-date exposure and level of susceptibility to climate-adjacent extreme events. The dataset can be found on pages 37 to 43 of the linked pdf. \n",
    "\n",
    "\n",
    "The [Paris Climate Agreement data](https://treaties.un.org/pages/ViewDetails.aspx?src=TREATY&mtdsg_no=XXVII-7-d&chapter=27&clang=_en) assigns each country one of the following values: \"R\" for Ratification, \"A\" for Acceptance, \"AA\" for Approval, \"a\" for Accession, or \"None\" for no participation. This data comes from the United Nations Treaty Collection."
   ]
  },
  {
   "cell_type": "code",
   "execution_count": 39,
   "id": "35fb25b9-49f5-4ac1-9a51-253ffb1c4e64",
   "metadata": {},
   "outputs": [],
   "source": [
    "# Reading in the data\n",
    "climate_risk_dat = pd.read_csv(\"fetched_data/CRI.csv\")\n",
    "\n",
    "paris_agreement_dat = pd.read_csv(\"fetched_data/PARIS_AGREEMENT_DATA.csv\")\n",
    "\n",
    "greenhouse_gas_dat = pd.read_csv(\"fetched_data/GHG_DATA.csv\")"
   ]
  },
  {
   "cell_type": "code",
   "execution_count": 40,
   "id": "15687843-3320-4aa3-9d19-70ddae78961e",
   "metadata": {},
   "outputs": [
    {
     "name": "stdout",
     "output_type": "stream",
     "text": [
      "Index(['ID', 'Country_Name', 'CRI_RANK', 'CRI_SCORE', 'Fatalities_Rank',\n",
      "       'Fatalities_per_100000_inhabitants_RANK', 'Losses_in_US_Million_Rank',\n",
      "       'Losses_per_unit_GDP_Rank'],\n",
      "      dtype='object')\n",
      "Index(['Country_Name', 'Date_Joined'], dtype='object')\n",
      "Index(['Country', 'GHG_Emissions'], dtype='object')\n"
     ]
    }
   ],
   "source": [
    "# Checking column name representation prior to merging\n",
    "print(climate_risk_dat.columns)\n",
    "print(paris_agreement_dat.columns)\n",
    "print(greenhouse_gas_dat.columns)"
   ]
  },
  {
   "cell_type": "code",
   "execution_count": 41,
   "id": "6894d29c-7270-4dc2-99b6-03f64e7f6b8d",
   "metadata": {},
   "outputs": [],
   "source": [
    "# Convert Country columns to string type\n",
    "climate_risk_dat['Country_Name'] = climate_risk_dat['Country_Name'].astype(\"string\")\n",
    "paris_agreement_dat['Country_Name'] = paris_agreement_dat['Country_Name'].astype(\"string\")\n",
    "greenhouse_gas_dat['Country'] = greenhouse_gas_dat['Country'].astype(\"string\")"
   ]
  },
  {
   "cell_type": "code",
   "execution_count": 42,
   "id": "74850ca9-9a26-41ed-aa32-1d36d1155950",
   "metadata": {
    "scrolled": true
   },
   "outputs": [
    {
     "name": "stdout",
     "output_type": "stream",
     "text": [
      "Afghanistan                                                  Afghanistan                                                  Afghanistan                                                 \n",
      "Albania                                                      Albania                                                      Albania                                                     \n",
      "Algeria                                                      Algeria                                                      Algeria                                                     \n",
      "Angola                                                       Andorra                                                      Angola                                                      \n",
      "Anguilla                                                     Angola                                                       Antigua and Barbuda                                         \n",
      "Antigua and Barbuda                                          Antigua and Barbuda                                          Argentina                                                   \n",
      "Argentina                                                    Argentina                                                    Armenia                                                     \n",
      "Armenia                                                      Armenia                                                      Australia                                                   \n",
      "Aruba                                                        Australia                                                    Austria                                                     \n",
      "Australia                                                    Austria                                                      Azerbaijan                                                  \n",
      "Austria                                                      Azerbaijan                                                   Bahrain                                                     \n",
      "Azerbaijan                                                   Bahamas                                                      Bangladesh                                                  \n",
      "Bahamas                                                      Bahrain                                                      Barbados                                                    \n",
      "Bahrain                                                      Bangladesh                                                   Belarus                                                     \n",
      "Bangladesh                                                   Barbados                                                     Belgium                                                     \n",
      "Barbados                                                     Belarus                                                      Belize                                                      \n",
      "Belarus                                                      Belgium                                                      Benin                                                       \n",
      "Belgium                                                      Belize                                                       Bhutan                                                      \n",
      "Belize                                                       Benin                                                        Bolivia                                                     \n",
      "Benin                                                        Bhutan                                                       Bosnia and Herzegovina                                      \n",
      "Bermuda                                                      Bolivia                                                      Botswana                                                    \n",
      "Bhutan                                                       Bosnia and Herzegovina                                       Brazil                                                      \n",
      "Bolivia                                                      Botswana                                                     Brunei Darussalam                                           \n",
      "Bosnia and Herzegovina                                       Brazil                                                       Bulgaria                                                    \n",
      "Botswana                                                     Brunei Darussalam                                            Burkina Faso                                                \n",
      "Brazil                                                       Bulgaria                                                     Burundi                                                     \n",
      "British Virgin Islands                                       Burkina Faso                                                 Cambodia                                                    \n",
      "Brunei Darussalam                                            Burundi                                                      Cameroon                                                    \n",
      "Bulgaria                                                     Cabo Verde                                                   Canada                                                      \n",
      "Burkina Faso                                                 Cambodia                                                     Cape Verde                                                  \n",
      "Burundi                                                      Cameroon                                                     Central African Republic                                    \n",
      "Cabo Verde                                                   Canada                                                       Chad                                                        \n",
      "Cambodia                                                     Central African Republic                                     Chile                                                       \n",
      "Cameroon                                                     Chad                                                         China                                                       \n",
      "Canada                                                       Chile                                                        Chinese Taipei                                              \n",
      "Cayman Islands                                               China                                                        Colombia                                                    \n",
      "Central African Republic                                     Colombia                                                     Comoros                                                     \n",
      "Chad                                                         Comoros                                                      Congo                                                       \n",
      "Chile                                                        Congo                                                        Costa Rica                                                  \n",
      "China                                                        Cook Islands                                                 Croatia                                                     \n",
      "Colombia                                                     Costa Rica                                                   Cyprus                                                      \n",
      "Comoros                                                      Croatia                                                      Czech Republic                                              \n",
      "Congo                                                        Cuba                                                         C��te d'Ivoire                                          \n",
      "Cook Islands                                                 Cyprus                                                       Democratic Republic of Congo                                \n",
      "Costa Rica                                                   Czech Republic                                               Denmark                                                     \n",
      "Croatia                                                      C��te d'Ivoire                                           Djibouti                                                    \n",
      "Cuba                                                         Democratic People's Republic of Korea                        Dominica                                                    \n",
      "Cura��ao                                                 Democratic Republic of the Congo                             Dominican Republic                                          \n",
      "Cyprus                                                       Denmark                                                      Ecuador                                                     \n",
      "Czech Republic                                               Djibouti                                                     Egypt                                                       \n",
      "C��te d'Ivoire                                           Dominica                                                     El Salvador                                                 \n",
      "Democratic Republic of the Congo                             Dominican Republic                                           Eritrea                                                     \n",
      "Denmark                                                      Ecuador                                                      Estonia                                                     \n",
      "Djibouti                                                     Egypt                                                        Eswatini                                                    \n",
      "Dominica                                                     El Salvador                                                  Ethiopia                                                    \n",
      "Dominican Republic                                           Equatorial Guinea                                            Fiji                                                        \n",
      "Ecuador                                                      Eritrea                                                      Finland                                                     \n",
      "Egypt                                                        Estonia                                                      France                                                      \n",
      "El Salvador                                                  Eswatini                                                     Gabon                                                       \n",
      "Equatorial Guinea                                            Ethiopia                                                     Gambia                                                      \n",
      "Eritrea                                                      Fiji                                                         Georgia                                                     \n",
      "Estonia                                                      Finland                                                      Germany                                                     \n",
      "Eswatini                                                     France                                                       Ghana                                                       \n",
      "Ethiopia                                                     Gabon                                                        Greece                                                      \n",
      "Falkland Islands                                             Gambia                                                       Grenada                                                     \n",
      "Faroes                                                       Georgia                                                      Guatemala                                                   \n",
      "Fiji                                                         Germany                                                      Guinea                                                      \n",
      "Finland                                                      Ghana                                                        Guinea Bissau                                               \n",
      "France and Monaco                                            Greece                                                       Guyana                                                      \n",
      "French Guiana                                                Grenada                                                      Haiti                                                       \n",
      "French Polynesia                                             Guatemala                                                    Honduras                                                    \n",
      "Gabon                                                        Guinea                                                       Hungary                                                     \n",
      "Gambia                                                       Guinea Bissau                                                Iceland                                                     \n",
      "Georgia                                                      Guyana                                                       India                                                       \n",
      "Germany                                                      Haiti                                                        Indonesia                                                   \n",
      "Ghana                                                        Holy See                                                     Iran (Islamic Republic of)                                  \n",
      "Gibraltar                                                    Honduras                                                     Iraq                                                        \n",
      "Greece                                                       Hungary                                                      Ireland                                                     \n",
      "Greenland                                                    Iceland                                                      Israel                                                      \n",
      "Grenada                                                      India                                                        Italy                                                       \n",
      "Guadeloupe                                                   Indonesia                                                    Jamaica                                                     \n",
      "Guatemala                                                    Iran (Islamic Republic of)                                   Japan                                                       \n",
      "Guinea                                                       Iraq                                                         Jordan                                                      \n",
      "Guinea-Bissau                                                Ireland                                                      Kazakhstan                                                  \n",
      "Guyana                                                       Israel                                                       Kenya                                                       \n",
      "Haiti                                                        Italy                                                        Kiribati                                                    \n",
      "Honduras                                                     Jamaica                                                      Kosovo                                                      \n",
      "Hong Kong                                                    Japan                                                        Kuwait                                                      \n",
      "Hungary                                                      Jordan                                                       Kyrgyzstan                                                  \n",
      "Iceland                                                      Kazakhstan                                                   Lao People's Democratic Republic                            \n",
      "India                                                        Kenya                                                        Latvia                                                      \n",
      "Indonesia                                                    Kiribati                                                     Lebanon                                                     \n",
      "Iran (Islamic Republic of)                                   Kuwait                                                       Lesotho                                                     \n",
      "Iraq                                                         Kyrgyzstan                                                   Liberia                                                     \n",
      "Ireland                                                      Lao People's Democratic Republic                             Libya                                                       \n",
      "Israel and Palestine, State of                               Latvia                                                       Lithuania                                                   \n",
      "Italy, San Marino and the Holy See                           Lebanon                                                      Luxembourg                                                  \n",
      "Jamaica                                                      Lesotho                                                      Madagascar                                                  \n",
      "Japan                                                        Liberia                                                      Malawi                                                      \n",
      "Jordan                                                       Libya                                                        Malaysia                                                    \n",
      "Kazakhstan                                                   Liechtenstein                                                Maldives                                                    \n",
      "Kenya                                                        Lithuania                                                    Mali                                                        \n",
      "Kiribati                                                     Luxembourg                                                   Malta                                                       \n",
      "Kuwait                                                       Madagascar                                                   Marshall Islands                                            \n",
      "Kyrgyzstan                                                   Malawi                                                       Mauritania                                                  \n",
      "Lao People's Democratic Republic                             Malaysia                                                     Mauritius                                                   \n",
      "Latvia                                                       Maldives                                                     Mexico                                                      \n",
      "Lebanon                                                      Mali                                                         Micronesia                                                  \n",
      "Lesotho                                                      Malta                                                        Moldova                                                     \n",
      "Liberia                                                      Marshall Islands                                             Mongolia                                                    \n",
      "Libya                                                        Mauritania                                                   Montenegro                                                  \n",
      "Lithuania                                                    Mauritius                                                    Morocco                                                     \n",
      "Luxembourg                                                   Mexico                                                       Mozambique                                                  \n",
      "Macao                                                        Micronesia                                                   Myanmar                                                     \n",
      "Madagascar                                                   Moldova                                                      Namibia                                                     \n",
      "Malawi                                                       Monaco                                                       Nepal                                                       \n",
      "Malaysia                                                     Mongolia                                                     Netherlands                                                 \n",
      "Maldives                                                     Montenegro                                                   New Zealand                                                 \n",
      "Mali                                                         Morocco                                                      Nicaragua                                                   \n",
      "Malta                                                        Mozambique                                                   Niger                                                       \n",
      "Martinique                                                   Myanmar                                                      Nigeria                                                     \n",
      "Mauritania                                                   Namibia                                                      North Macedonia                                             \n",
      "Mauritius                                                    Nauru                                                        Norway                                                      \n",
      "Mexico                                                       Nepal                                                        Oman                                                        \n",
      "Moldova                                                      Netherlands                                                  Pakistan                                                    \n",
      "Mongolia                                                     New Zealand                                                  Panama                                                      \n",
      "Morocco                                                      Nicaragua                                                    Papua New Guinea                                            \n",
      "Mozambique                                                   Niger                                                        Paraguay                                                    \n",
      "Myanmar                                                      Nigeria                                                      Peru                                                        \n",
      "Namibia                                                      Niue                                                         Philippines                                                 \n",
      "Nepal                                                        North Macedonia                                              Poland                                                      \n",
      "Netherlands                                                  Norway                                                       Portugal                                                    \n",
      "New Caledonia                                                Oman                                                         Puerto Rico                                                 \n",
      "New Zealand                                                  Pakistan                                                     Qatar                                                       \n",
      "Nicaragua                                                    Palau                                                        Republic of Korea                                           \n",
      "Niger                                                        Panama                                                       Republic of Yemen                                           \n",
      "Nigeria                                                      Papua New Guinea                                             Romania                                                     \n",
      "North Korea                                                  Paraguay                                                     Russian Federation                                          \n",
      "North Macedonia                                              Peru                                                         Rwanda                                                      \n",
      "Norway                                                       Philippines                                                  Samoa                                                       \n",
      "Oman                                                         Poland                                                       Saudi Arabia                                                \n",
      "Pakistan                                                     Portugal                                                     Senegal                                                     \n",
      "Palau                                                        Qatar                                                        Serbia                                                      \n",
      "Panama                                                       Republic of Korea                                            Seychelles                                                  \n",
      "Papua New Guinea                                             Republic of Yemen                                            Sierra Leone                                                \n",
      "Paraguay                                                     Romania                                                      Singapore                                                   \n",
      "Peru                                                         Russian Federation                                           Slovakia                                                    \n",
      "Philippines                                                  Rwanda                                                       Slovenia                                                    \n",
      "Poland                                                       Samoa                                                        Solomon Islands                                             \n",
      "Portugal                                                     San Marino                                                   South Africa                                                \n",
      "Puerto Rico                                                  Sao Tome and Principe                                        South Sudan                                                 \n",
      "Qatar                                                        Saudi Arabia                                                 Spain                                                       \n",
      "Republic of Korea                                            Senegal                                                      Sri Lanka                                                   \n",
      "Romania                                                      Serbia                                                       St.Kitts and Nevis                                          \n",
      "Russian Federation                                           Seychelles                                                   St.Lucia                                                    \n",
      "Rwanda                                                       Sierra Leone                                                 St.Vincent and the Grenadines                               \n",
      "R��union                                                 Singapore                                                    Sudan                                                       \n",
      "Saint Helena, Ascension and Tristan da Cunha                 Slovakia                                                     Suriname                                                    \n",
      "Samoa                                                        Slovenia                                                     Sweden                                                      \n",
      "Saudi Arabia                                                 Solomon Islands                                              Switzerland                                                 \n",
      "Senegal                                                      Somalia                                                      Tajikistan                                                  \n",
      "Serbia and Montenegro                                        South Africa                                                 Tanzania                                                    \n",
      "Seychelles                                                   South Sudan                                                  Thailand                                                    \n",
      "Sierra Leone                                                 Spain                                                        The Bahamas                                                 \n",
      "Singapore                                                    Sri Lanka                                                    Timor-Leste                                                 \n",
      "Slovakia                                                     St.Kitts and Nevis                                           Togo                                                        \n",
      "Slovenia                                                     St.Lucia                                                     Tonga                                                       \n",
      "Solomon Islands                                              St.Vincent and the Grenadines                                Trinidad and Tobago                                         \n",
      "Somalia                                                      State of Palestine                                           Tunisia                                                     \n",
      "South Africa                                                 Sudan                                                        Turkey                                                      \n",
      "Spain and Andorra                                            Suriname                                                     Tuvalu                                                      \n",
      "Sri Lanka                                                    Sweden                                                       Uganda                                                      \n",
      "St.Kitts and Nevis                                           Switzerland                                                  Ukraine                                                     \n",
      "St.Lucia                                                     Syrian Arab Republic                                         United Arab Emirates                                        \n",
      "St.Pierre and Miquelon                                       Tajikistan                                                   United Kingdom                                              \n",
      "St.Vincent and the Grenadines                                Tanzania                                                     United States of America                                    \n",
      "Sudan and South Sudan                                        Thailand                                                     Uruguay                                                     \n",
      "Suriname                                                     Timor Leste                                                  Uzbekistan                                                  \n",
      "Sweden                                                       Togo                                                         Vanuatu                                                     \n",
      "Switzerland and Liechtenstein                                Tonga                                                        Venezuela                                                   \n",
      "Syria                                                        Trinidad and Tobago                                          Viet Nam                                                    \n",
      "S��o Tom�� and Pr��ncipe                         Tunisia                                                      Zambia                                                      \n",
      "Taiwan                                                       Turkey                                                       Zimbabwe                                                    \n",
      "Tajikistan                                                   Turkmenistan                                                 \n",
      "Tanzania                                                     Tuvalu                                                       \n",
      "Thailand                                                     Uganda                                                       \n",
      "Timor-Leste                                                  Ukraine                                                      \n",
      "Togo                                                         United Arab Emirates                                         \n",
      "Tonga                                                        United Kingdom                                               \n",
      "Trinidad and Tobago                                          United States of America                                     \n",
      "Tunisia                                                      Uruguay                                                      \n",
      "Turkey                                                       Uzbekistan                                                   \n",
      "Turkmenistan                                                 Vanuatu                                                      \n",
      "Turks and Caicos Islands                                     Venezuela                                                    \n",
      "Uganda                                                       Viet Nam                                                     \n",
      "Ukraine                                                      Zambia                                                       \n",
      "United Arab Emirates                                         Zimbabwe                                                     \n",
      "United Kingdom                                                \n",
      "United States                                                 \n",
      "Uruguay                                                       \n",
      "Uzbekistan                                                    \n",
      "Vanuatu                                                       \n",
      "Venezuela                                                     \n",
      "Viet Nam                                                      \n",
      "Western Sahara                                                \n",
      "Yemen                                                         \n",
      "Zambia                                                        \n",
      "Zimbabwe                                                      \n"
     ]
    }
   ],
   "source": [
    "# Looking for inconsistencies in how the countries are represented textually\n",
    "cri = sorted(climate_risk_dat['Country_Name'])\n",
    "ghg = sorted(greenhouse_gas_dat['Country'])\n",
    "pa = sorted(paris_agreement_dat['Country_Name'])\n",
    "\n",
    "for c1, c2, c3 in zip_longest(ghg, pa, cri, fillvalue = ''):\n",
    "    print(f'{c1} {c2} {c3}')"
   ]
  },
  {
   "cell_type": "code",
   "execution_count": 7,
   "id": "1082e7b3-cd93-4ad7-a249-835bbbf3718d",
   "metadata": {},
   "outputs": [
    {
     "name": "stdout",
     "output_type": "stream",
     "text": [
      "Changing Cape Verde to Cabo Verde\n",
      "Changing Democratic Republic of Congo to Democratic Republic of the Congo\n",
      "Changing The Bahamas to Bahamas\n",
      "Changing Timor Leste to Timor-Leste\n",
      "Changing France and Monaco to France\n",
      "Changing Guinea-Bissau to Guinea Bissau\n",
      "Changing Israel and Palestine, State of to Israel\n",
      "Changing Italy, San Marino and the Holy See to Italy\n",
      "Changing United States to United States of America\n",
      "Changing Yemen to Republic of Yemen\n",
      "Changing Spain and Andorra to Spain\n",
      "Changing Switzerland and Liechtenstein to Switzerland\n"
     ]
    }
   ],
   "source": [
    "# Change a country name to match the others\n",
    "def alter_country_name(dataset, alter_dict, country_column_name):\n",
    "    '''change country names in a dataset so it matches the values in other datasets\n",
    "       example-- changing Brunei to Brunei Darussalam in one dataset so all datasets refer to Brunei in the same way\n",
    "\n",
    "       INPUTS:\n",
    "       dataset: dataset for which we are altering the country name\n",
    "       change_dict: a dictionary where the key is country name we want to alter and the value is what we are changing to\n",
    "       country_column_name: the column name of the column that contains countries\n",
    "\n",
    "       RETURNS:\n",
    "       altered dataset\n",
    "       '''\n",
    "    for original, changed in alter_dict.items():\n",
    "        print(f\"Changing {original} to {changed}\") # Added print statement to check if right country names are being associated\n",
    "        dataset[country_column_name] = dataset[country_column_name].str.strip() # This removes spaces on either side of the country name\n",
    "        dataset.loc[dataset[country_column_name] == original, country_column_name] = changed\n",
    "    return dataset\n",
    "\n",
    "cr_data_matched = alter_country_name(climate_risk_dat, {'Cape Verde': 'Cabo Verde',\n",
    "                                                        'Democratic Republic of Congo': 'Democratic Republic of the Congo',\n",
    "                                                        'The Bahamas': 'Bahamas'\n",
    "                                                       },\n",
    "                                     \"Country_Name\")\n",
    "\n",
    "paris_data_matched = alter_country_name(paris_agreement_dat, {'Timor Leste': 'Timor-Leste'},\n",
    "                                        \"Country_Name\")\n",
    "\n",
    "ghg_data_matched = alter_country_name(greenhouse_gas_dat, {'France and Monaco': 'France',\n",
    "                                                           'Guinea-Bissau': 'Guinea Bissau',\n",
    "                                                           'Israel and Palestine, State of': 'Israel',\n",
    "                                                           'Italy, San Marino and the Holy See': 'Italy',\n",
    "                                                           'United States': 'United States of America',\n",
    "                                                           'Yemen': 'Republic of Yemen',\n",
    "                                                           'Spain and Andorra': 'Spain',\n",
    "                                                           'Switzerland and Liechtenstein': 'Switzerland'\n",
    "                                                          },\n",
    "                                      \"Country\")"
   ]
  },
  {
   "cell_type": "markdown",
   "id": "59c88132-c827-4850-8ef3-4c1a56b5e4d7",
   "metadata": {},
   "source": [
    "The GHG dataset combines some countries together into a single row (e.g. 'Serbia and Montenegro'), while these countries are separate entities in the climate risk and GHG datasets. In the code below, all such cases in the GHG dataset are split into two distinct countries, each with their own row. Two previously paired countries are  assigned the same GHG emissions value (half of the aggregated value), since we do not have the resources to determine how much each country contributed to the aggregated values."
   ]
  },
  {
   "cell_type": "code",
   "execution_count": 9,
   "id": "db6ef58d-d943-43ea-9cf0-5a48183342d8",
   "metadata": {},
   "outputs": [],
   "source": [
    "# Split countries that were combined into a single row in a dataset into two distinct rows, dividing the aggregated data equally between them\n",
    " \n",
    "# Serbia and Montenegro\n",
    "sm_index = ghg_data_matched[ghg_data_matched['Country'] == 'Serbia and Montenegro'].index\n",
    "\n",
    "# Split emissions value in half\n",
    "sm_emissions_val = ghg_data_matched.loc[sm_index, 'GHG_Emissions'].values[0] / 2\n",
    "\n",
    "# Create new rows\n",
    "sm_new_rows = pd.DataFrame([{'Country': 'Serbia', 'GHG_Emissions': sm_emissions_val},\\\n",
    "                            {'Country': 'Montenegro', 'GHG_Emissions': sm_emissions_val}])\n",
    "\n",
    "# Append new rows to dataset\n",
    "ghg_data_split = pd.concat([ghg_data_matched, sm_new_rows], ignore_index=True)\n",
    "\n",
    "# Re-sort data and drop combined row\n",
    "ghg_data_split = ghg_data_split[ghg_data_split['Country'] != 'Serbia and Montenegro']\n",
    "ghg_data_split.sort_values(by = 'Country', inplace = True)\n",
    "\n",
    "\n",
    "\n",
    "# Sudan and South Sudan\n",
    "ssd_index = ghg_data_split[ghg_data_split['Country'] == 'Sudan and South Sudan'].index\n",
    "\n",
    "# Split emissions value in half\n",
    "ssd_emissions_val = ghg_data_split.loc[ssd_index, 'GHG_Emissions'].values[0] / 2\n",
    "\n",
    "# Create new rows\n",
    "ssd_new_rows = pd.DataFrame([{'Country': 'Sudan', 'GHG_Emissions': ssd_emissions_val},\n",
    "                             {'Country': 'South Sudan', 'GHG_Emissions': ssd_emissions_val}])\n",
    "\n",
    "# Append new rows to dataset\n",
    "ghg_data_split = pd.concat([ghg_data_split, ssd_new_rows], ignore_index=True)\n",
    "\n",
    "# Re-sort data and drop combined row\n",
    "ghg_data_split = ghg_data_split[ghg_data_split['Country'] != 'Sudan and South Sudan']\n",
    "ghg_data_split.sort_values(by = 'Country', inplace = True)"
   ]
  },
  {
   "cell_type": "code",
   "execution_count": 44,
   "id": "2e265436-ef98-43a6-817e-0bb50329679c",
   "metadata": {
    "scrolled": true
   },
   "outputs": [],
   "source": [
    "# Merging the required data into a single dataframe\n",
    "merged_data = cr_data_matched.merge(paris_data_matched, how = \"left\", on = \"Country_Name\").merge(\n",
    "    ghg_data_split, how = \"left\", left_on = [\"Country_Name\"], right_on = [\"Country\"])"
   ]
  },
  {
   "cell_type": "code",
   "execution_count": 11,
   "id": "7d748b48-0182-40b3-8b55-99a8a0504dbc",
   "metadata": {
    "scrolled": true
   },
   "outputs": [
    {
     "name": "stdout",
     "output_type": "stream",
     "text": [
      "<class 'pandas.core.frame.DataFrame'>\n",
      "RangeIndex: 183 entries, 0 to 182\n",
      "Data columns (total 11 columns):\n",
      " #   Column                                  Non-Null Count  Dtype  \n",
      "---  ------                                  --------------  -----  \n",
      " 0   ID                                      183 non-null    int64  \n",
      " 1   Country_Name                            183 non-null    object \n",
      " 2   CRI_RANK                                183 non-null    int64  \n",
      " 3   CRI_SCORE                               183 non-null    float64\n",
      " 4   Fatalities_Rank                         183 non-null    int64  \n",
      " 5   Fatalities_per_100000_inhabitants_RANK  183 non-null    int64  \n",
      " 6   Losses_in_US_Million_Rank               183 non-null    int64  \n",
      " 7   Losses_per_unit_GDP_Rank                183 non-null    int64  \n",
      " 8   Date_Joined                             180 non-null    object \n",
      " 9   Country                                 178 non-null    object \n",
      " 10  GHG_Emissions                           178 non-null    float64\n",
      "dtypes: float64(2), int64(6), object(3)\n",
      "memory usage: 15.9+ KB\n"
     ]
    }
   ],
   "source": [
    "merged_data.info()"
   ]
  },
  {
   "cell_type": "markdown",
   "id": "fcd6d45e-c822-4066-b1ab-ead7fef0c3a1",
   "metadata": {},
   "source": [
    "\n",
    "\n",
    "We opted to use CRI_SCORE rather than CRI_RANK as the dependent variable in our analysis for several reasons. \n",
    "\n",
    "Using CRI_RANK as the dependent variable would place more emphasis on the ordinal ranking of countries with respect to their climate risk, rather than the actual values of the indices. Additionally, the ranks would be discretized into categories, posing two distinct problems:\n",
    "- All differences in climate rank would be treated equally, ignoring the magnitude of the differences between the actual values of countries' indices.\n",
    "- Some countries with near-identical climate risk scores were given the same climate rank; the distinct climate risk scores for these countries would be combined into a single discrete category. This would precipitate a loss of information about each rank's climate variability, and potentially cause us to underestimate the complexity of the relationship between our dependent and independent variables."
   ]
  },
  {
   "cell_type": "code",
   "execution_count": 12,
   "id": "d33cb3b4-847e-4451-9825-7f7521aa2e4f",
   "metadata": {},
   "outputs": [
    {
     "data": {
      "text/html": [
       "<div>\n",
       "<style scoped>\n",
       "    .dataframe tbody tr th:only-of-type {\n",
       "        vertical-align: middle;\n",
       "    }\n",
       "\n",
       "    .dataframe tbody tr th {\n",
       "        vertical-align: top;\n",
       "    }\n",
       "\n",
       "    .dataframe thead th {\n",
       "        text-align: right;\n",
       "    }\n",
       "</style>\n",
       "<table border=\"1\" class=\"dataframe\">\n",
       "  <thead>\n",
       "    <tr style=\"text-align: right;\">\n",
       "      <th></th>\n",
       "      <th>Country_Name</th>\n",
       "      <th>CRI_SCORE</th>\n",
       "      <th>GHG_Emissions</th>\n",
       "      <th>Paris_Status</th>\n",
       "    </tr>\n",
       "  </thead>\n",
       "  <tbody>\n",
       "    <tr>\n",
       "      <th>0</th>\n",
       "      <td>Albania</td>\n",
       "      <td>108.00</td>\n",
       "      <td>3.145276</td>\n",
       "      <td>R</td>\n",
       "    </tr>\n",
       "    <tr>\n",
       "      <th>1</th>\n",
       "      <td>Algeria</td>\n",
       "      <td>93.83</td>\n",
       "      <td>6.540428</td>\n",
       "      <td>R</td>\n",
       "    </tr>\n",
       "  </tbody>\n",
       "</table>\n",
       "</div>"
      ],
      "text/plain": [
       "  Country_Name  CRI_SCORE  GHG_Emissions Paris_Status\n",
       "0      Albania     108.00       3.145276   R         \n",
       "1      Algeria      93.83       6.540428   R         "
      ]
     },
     "execution_count": 12,
     "metadata": {},
     "output_type": "execute_result"
    }
   ],
   "source": [
    "# Select only the columns required for the analysis\n",
    "simplified_data = merged_data[[\"Country_Name\", \"CRI_SCORE\", \"GHG_Emissions\", \"Date_Joined\"]].rename(columns = {\"Date_Joined\":\"Paris_Status\"})\n",
    "simplified_data.head(2)"
   ]
  },
  {
   "cell_type": "code",
   "execution_count": 13,
   "id": "b91be605-a6ea-4f1b-ab01-6c9da880fce3",
   "metadata": {},
   "outputs": [
    {
     "data": {
      "text/plain": [
       "Country_Name     0\n",
       "CRI_SCORE        0\n",
       "GHG_Emissions    5\n",
       "Paris_Status     3\n",
       "dtype: int64"
      ]
     },
     "execution_count": 13,
     "metadata": {},
     "output_type": "execute_result"
    }
   ],
   "source": [
    "# Check for any missing data\n",
    "simplified_data.isnull().sum()"
   ]
  },
  {
   "cell_type": "code",
   "execution_count": 14,
   "id": "7be7b950-fe81-4fca-9fb5-cd2ba95558b9",
   "metadata": {},
   "outputs": [
    {
     "data": {
      "text/html": [
       "<div>\n",
       "<style scoped>\n",
       "    .dataframe tbody tr th:only-of-type {\n",
       "        vertical-align: middle;\n",
       "    }\n",
       "\n",
       "    .dataframe tbody tr th {\n",
       "        vertical-align: top;\n",
       "    }\n",
       "\n",
       "    .dataframe thead th {\n",
       "        text-align: right;\n",
       "    }\n",
       "</style>\n",
       "<table border=\"1\" class=\"dataframe\">\n",
       "  <thead>\n",
       "    <tr style=\"text-align: right;\">\n",
       "      <th></th>\n",
       "      <th>Country_Name</th>\n",
       "      <th>CRI_SCORE</th>\n",
       "      <th>GHG_Emissions</th>\n",
       "      <th>Paris_Status</th>\n",
       "    </tr>\n",
       "  </thead>\n",
       "  <tbody>\n",
       "    <tr>\n",
       "      <th>33</th>\n",
       "      <td>Chinese Taipei</td>\n",
       "      <td>72.33</td>\n",
       "      <td>NaN</td>\n",
       "      <td>NaN</td>\n",
       "    </tr>\n",
       "    <tr>\n",
       "      <th>91</th>\n",
       "      <td>Tuvalu</td>\n",
       "      <td>125.00</td>\n",
       "      <td>NaN</td>\n",
       "      <td>R</td>\n",
       "    </tr>\n",
       "    <tr>\n",
       "      <th>109</th>\n",
       "      <td>Kosovo</td>\n",
       "      <td>125.00</td>\n",
       "      <td>NaN</td>\n",
       "      <td>NaN</td>\n",
       "    </tr>\n",
       "    <tr>\n",
       "      <th>126</th>\n",
       "      <td>Marshall Islands</td>\n",
       "      <td>125.00</td>\n",
       "      <td>NaN</td>\n",
       "      <td>R</td>\n",
       "    </tr>\n",
       "    <tr>\n",
       "      <th>130</th>\n",
       "      <td>Micronesia</td>\n",
       "      <td>125.00</td>\n",
       "      <td>NaN</td>\n",
       "      <td>R</td>\n",
       "    </tr>\n",
       "    <tr>\n",
       "      <th>155</th>\n",
       "      <td>Puerto Rico</td>\n",
       "      <td>107.67</td>\n",
       "      <td>4.428183</td>\n",
       "      <td>NaN</td>\n",
       "    </tr>\n",
       "  </tbody>\n",
       "</table>\n",
       "</div>"
      ],
      "text/plain": [
       "         Country_Name  CRI_SCORE  GHG_Emissions Paris_Status\n",
       "33     Chinese Taipei      72.33            NaN          NaN\n",
       "91             Tuvalu     125.00            NaN   R         \n",
       "109            Kosovo     125.00            NaN          NaN\n",
       "126  Marshall Islands     125.00            NaN   R         \n",
       "130        Micronesia     125.00            NaN   R         \n",
       "155       Puerto Rico     107.67       4.428183          NaN"
      ]
     },
     "execution_count": 14,
     "metadata": {},
     "output_type": "execute_result"
    }
   ],
   "source": [
    "# Check which rows are missing values\n",
    "nan_rows = simplified_data.isna().any(axis=1)\n",
    "#print(nan_rows)\n",
    "simplified_data[simplified_data.isna().any(axis=1)]"
   ]
  },
  {
   "cell_type": "markdown",
   "id": "7f8f9912-bdf2-4355-9295-a8c8db367152",
   "metadata": {},
   "source": [
    "We decided to remove any countries that have no GHG emissions data or Paris Agreement data, since they will not be relevant to an analysis looking into the potential association between climate risk, and greenhouse gas emissions and paris agreement status."
   ]
  },
  {
   "cell_type": "code",
   "execution_count": 45,
   "id": "5d8f6d64-f305-425c-ba84-7c0a118b388d",
   "metadata": {},
   "outputs": [],
   "source": [
    "# Drop columns where GHG_Emissions and Paris_Status are null\n",
    "drop_countries = ['Chinese Taipei', 'Tuvalu', 'Kosovo', 'Marshall Islands', 'Micronesia', 'Puerto Rico']\n",
    "simplified_data2 = simplified_data[~simplified_data['Country_Name'].isin(drop_countries)]"
   ]
  },
  {
   "cell_type": "code",
   "execution_count": 16,
   "id": "4707a151-88a7-464e-81ac-b90b67710019",
   "metadata": {},
   "outputs": [
    {
     "data": {
      "text/plain": [
       "Country_Name     0\n",
       "CRI_SCORE        0\n",
       "GHG_Emissions    0\n",
       "Paris_Status     0\n",
       "dtype: int64"
      ]
     },
     "execution_count": 16,
     "metadata": {},
     "output_type": "execute_result"
    }
   ],
   "source": [
    "simplified_data2.isnull().sum()"
   ]
  },
  {
   "cell_type": "markdown",
   "id": "f6c3c19a-0d7c-49c6-a307-cf74c8e6a250",
   "metadata": {},
   "source": [
    "We will one-hot-encode our paris agreement variable for ease of analysis. We will create a new column for each of the categories: 'A', 'AA', 'R', 'a', and 'None'."
   ]
  },
  {
   "cell_type": "code",
   "execution_count": 32,
   "id": "35f89242-6fa4-4b60-99e6-ccb000999ac9",
   "metadata": {},
   "outputs": [],
   "source": [
    "one_hot_encoded_data = pd.get_dummies(simplified_data2, columns = ['Paris_Status']) \n",
    "one_hot_encoded_data[\n",
    "        ['Paris_Status_A         ', \n",
    "         'Paris_Status_AA        ', \n",
    "         'Paris_Status_None      ', \n",
    "         'Paris_Status_R         ',\n",
    "         'Paris_Status_a         ']] = one_hot_encoded_data[['Paris_Status_A         ', \n",
    "                                                             'Paris_Status_AA        ', \n",
    "                                                             'Paris_Status_None      ',\n",
    "                                                             'Paris_Status_R         ',\n",
    "                                                             'Paris_Status_a         ']].astype(int)"
   ]
  },
  {
   "cell_type": "code",
   "execution_count": 34,
   "id": "3c07b812-1830-4e47-ad4b-c7d604304c9f",
   "metadata": {},
   "outputs": [
    {
     "data": {
      "text/plain": [
       "Country_Name                object\n",
       "CRI_SCORE                  float64\n",
       "GHG_Emissions              float64\n",
       "Paris_Status_A               int64\n",
       "Paris_Status_AA              int64\n",
       "Paris_Status_None            int64\n",
       "Paris_Status_R               int64\n",
       "Paris_Status_a               int64\n",
       "dtype: object"
      ]
     },
     "execution_count": 34,
     "metadata": {},
     "output_type": "execute_result"
    }
   ],
   "source": [
    "one_hot_encoded_data.dtypes"
   ]
  },
  {
   "cell_type": "markdown",
   "id": "628e7f3b-5f70-4192-a683-ed25b25c3fce",
   "metadata": {},
   "source": [
    "Now, we will split our data into X (independent variables) and y (dependent/target variable). We add a constant to act as an intercept for the linear regression fit."
   ]
  },
  {
   "cell_type": "code",
   "execution_count": 35,
   "id": "fc40f522-f3aa-44cc-9d54-55b7305b69e7",
   "metadata": {},
   "outputs": [],
   "source": [
    "X = one_hot_encoded_data.drop(columns = [\"CRI_SCORE\", \"Country_Name\"])\n",
    "X = t.add_constant(X)\n",
    "y = one_hot_encoded_data[[\"CRI_SCORE\"]]"
   ]
  },
  {
   "cell_type": "markdown",
   "id": "2e78d8ee-6a6b-41b2-9b2f-9ace2e3e0547",
   "metadata": {},
   "source": [
    "Now we will use linear regression and least-squares-estimation to fit a linear model to our data."
   ]
  },
  {
   "cell_type": "code",
   "execution_count": 36,
   "id": "07ca403a-0a0a-455e-8bcd-2d513f39a1cb",
   "metadata": {},
   "outputs": [
    {
     "name": "stdout",
     "output_type": "stream",
     "text": [
      "                            OLS Regression Results                            \n",
      "==============================================================================\n",
      "Dep. Variable:              CRI_SCORE   R-squared:                       0.009\n",
      "Model:                            OLS   Adj. R-squared:                 -0.020\n",
      "Method:                 Least Squares   F-statistic:                    0.3257\n",
      "Date:                Tue, 19 Mar 2024   Prob (F-statistic):              0.897\n",
      "Time:                        13:18:29   Log-Likelihood:                -880.68\n",
      "No. Observations:                 177   AIC:                             1773.\n",
      "Df Residuals:                     171   BIC:                             1792.\n",
      "Df Model:                           5                                         \n",
      "Covariance Type:            nonrobust                                         \n",
      "===========================================================================================\n",
      "                              coef    std err          t      P>|t|      [0.025      0.975]\n",
      "-------------------------------------------------------------------------------------------\n",
      "const                      58.6949      8.294      7.077      0.000      42.323      75.067\n",
      "GHG_Emissions               0.1248      0.323      0.386      0.700      -0.513       0.762\n",
      "Paris_Status_A             15.6243     13.907      1.124      0.263     -11.827      43.075\n",
      "Paris_Status_AA             2.3501     18.620      0.126      0.900     -34.404      39.104\n",
      "Paris_Status_None          17.2386     18.632      0.925      0.356     -19.540      54.018\n",
      "Paris_Status_R             22.3954      8.326      2.690      0.008       5.961      38.830\n",
      "Paris_Status_a              1.0865     30.215      0.036      0.971     -58.557      60.730\n",
      "==============================================================================\n",
      "Omnibus:                       57.386   Durbin-Watson:                   2.181\n",
      "Prob(Omnibus):                  0.000   Jarque-Bera (JB):               11.039\n",
      "Skew:                          -0.226   Prob(JB):                      0.00401\n",
      "Kurtosis:                       1.863   Cond. No.                     7.03e+16\n",
      "==============================================================================\n",
      "\n",
      "Notes:\n",
      "[1] Standard Errors assume that the covariance matrix of the errors is correctly specified.\n",
      "[2] The smallest eigenvalue is 4.37e-30. This might indicate that there are\n",
      "strong multicollinearity problems or that the design matrix is singular.\n"
     ]
    }
   ],
   "source": [
    "result = sm.OLS(y, X).fit()\n",
    " \n",
    "# printing the summary table\n",
    "print(result.summary())"
   ]
  },
  {
   "cell_type": "markdown",
   "id": "04ecd0d5-c399-4d28-95f7-a10c546fdd4e",
   "metadata": {},
   "source": [
    "The Adjusted R-Squared value from this linear fit is -0.020, indicating that the model is not a good fit for the data, performing worse than the null model would.\n",
    "\n",
    "Most of the p-values for the co-efficients are not statistically significant, with the exception of Paris_Status_R (p-value o 0.008) and the constant term(p-value of 0.000). The statistical significance of Paris_Status_R, which represents a country's ratification into the Paris Accord, indicates that it has a significant impact on the response variable.\n",
    "\n",
    "The constant term we included is a representation of the response variable's expected value, in the absence of all predictor variables (or, when they are zero). The reason the constant term has such a small p-value is likely because almost all countries have the Status \"R\", meaning that \"R\" is probably the baseline situation for the predictor Paris_Status_R. \n",
    "\n",
    "Overall,  a significant association between climate risk index score and greenhouse gas emissions is not indicated, but there does seem to be a difference in intercept for members of the Paris Agreement with \"R\" status.\n",
    "\n",
    "The following plot of the data with the fitted linear model may help us gain some insight."
   ]
  },
  {
   "cell_type": "code",
   "execution_count": 38,
   "id": "61ede519-b46c-49bf-82b8-608fbe3b9947",
   "metadata": {},
   "outputs": [
    {
     "data": {
      "text/plain": [
       "Text(49.542774305555554, 0.5, 'Climate Risk Index Score')"
      ]
     },
     "execution_count": 38,
     "metadata": {},
     "output_type": "execute_result"
    },
    {
     "data": {
      "image/png": "[encoded data removed]",
      "text/plain": [
       "<Figure size 612.375x500 with 1 Axes>"
      ]
     },
     "metadata": {},
     "output_type": "display_data"
    }
   ],
   "source": [
    "sns.lmplot(x = 'GHG_Emissions', y = 'CRI_SCORE', hue = \"Paris_Status\", data = simplified_data2)\n",
    "ax = plt.gca()\n",
    "ax.set_title(\"Scatterplot of Climate Risk Index Score vs GHG Emissions, Split by Paris Agreement Status\")\n",
    "ax.set_xlabel(\"Greenhouse Gas Emissions\")\n",
    "ax.set_ylabel(\"Climate Risk Index Score\")"
   ]
  },
  {
   "cell_type": "markdown",
   "id": "372f290f-7519-4b21-a948-d0dd3bdb96f5",
   "metadata": {},
   "source": [
    "Yikes"
   ]
  }
 ],
 "metadata": {
  "kernelspec": {
   "display_name": "Python 3 (ipykernel)",
   "language": "python",
   "name": "python3"
  },
  "language_info": {
   "codemirror_mode": {
    "name": "ipython",
    "version": 3
   },
   "file_extension": ".py",
   "mimetype": "text/x-python",
   "name": "python",
   "nbconvert_exporter": "python",
   "pygments_lexer": "ipython3",
   "version": "3.11.7"
  }
 },
 "nbformat": 4,
 "nbformat_minor": 5
}
