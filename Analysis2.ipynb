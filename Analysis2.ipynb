{
 "cells": [
  {
   "cell_type": "code",
   "execution_count": 1,
   "id": "348b8f23-8110-4fc6-8c2f-4751bf2bca32",
   "metadata": {},
   "outputs": [],
   "source": [
    "import pandas as pd\n",
    "import warnings\n",
    "from sklearn.linear_model import Ridge"
   ]
  },
  {
   "cell_type": "code",
   "execution_count": 2,
   "id": "6b2fa013-d732-414a-be81-d71a2fc46fea",
   "metadata": {},
   "outputs": [],
   "source": [
    "## Reading in the data\n",
    "air_quality_dat = pd.read_csv(\"fetched_data/AIR_QUALITY_DATA.csv\")\n",
    "\n",
    "paris_agreement_dat = pd.read_csv(\"fetched_data/PARIS_AGREEMENT_DATA.csv\")\n",
    "\n",
    "greenhouse_gas_dat = pd.read_csv(\"fetched_data/GHG_DATA.csv\")"
   ]
  },
  {
   "cell_type": "code",
   "execution_count": 3,
   "id": "d07eec58-f4da-4339-8a73-30209749c61b",
   "metadata": {},
   "outputs": [
    {
     "data": {
      "text/html": [
       "<div>\n",
       "<style scoped>\n",
       "    .dataframe tbody tr th:only-of-type {\n",
       "        vertical-align: middle;\n",
       "    }\n",
       "\n",
       "    .dataframe tbody tr th {\n",
       "        vertical-align: top;\n",
       "    }\n",
       "\n",
       "    .dataframe thead th {\n",
       "        text-align: right;\n",
       "    }\n",
       "</style>\n",
       "<table border=\"1\" class=\"dataframe\">\n",
       "  <thead>\n",
       "    <tr style=\"text-align: right;\">\n",
       "      <th></th>\n",
       "      <th>Country_Name</th>\n",
       "      <th>Date_Joined</th>\n",
       "    </tr>\n",
       "  </thead>\n",
       "  <tbody>\n",
       "    <tr>\n",
       "      <th>0</th>\n",
       "      <td>Afghanistan                                   ...</td>\n",
       "      <td>R</td>\n",
       "    </tr>\n",
       "    <tr>\n",
       "      <th>1</th>\n",
       "      <td>Albania                                       ...</td>\n",
       "      <td>R</td>\n",
       "    </tr>\n",
       "    <tr>\n",
       "      <th>2</th>\n",
       "      <td>Algeria                                       ...</td>\n",
       "      <td>R</td>\n",
       "    </tr>\n",
       "    <tr>\n",
       "      <th>3</th>\n",
       "      <td>Andorra                                       ...</td>\n",
       "      <td>R</td>\n",
       "    </tr>\n",
       "    <tr>\n",
       "      <th>4</th>\n",
       "      <td>Angola                                        ...</td>\n",
       "      <td>R</td>\n",
       "    </tr>\n",
       "  </tbody>\n",
       "</table>\n",
       "</div>"
      ],
      "text/plain": [
       "                                        Country_Name Date_Joined\n",
       "0  Afghanistan                                   ...  R         \n",
       "1  Albania                                       ...  R         \n",
       "2  Algeria                                       ...  R         \n",
       "3  Andorra                                       ...  R         \n",
       "4  Angola                                        ...  R         "
      ]
     },
     "execution_count": 3,
     "metadata": {},
     "output_type": "execute_result"
    }
   ],
   "source": [
    "paris_agreement_dat.head()"
   ]
  },
  {
   "cell_type": "code",
   "execution_count": 4,
   "id": "1e3095a1-9b7d-4cb3-9dfe-b5b94808139b",
   "metadata": {},
   "outputs": [],
   "source": [
    "# Merging all the data needed for analysis\n",
    "merged_data = air_quality_dat.merge(paris_agreement_dat, how = \"left\", on = \"Country_Name\").merge(greenhouse_gas_dat, how = \"left\", left_on = [\"Country_Name\"], right_on = [\"Country\"])\n"
   ]
  },
  {
   "cell_type": "code",
   "execution_count": 5,
   "id": "89cec883-8d49-4fbd-80e4-59cec998d3bc",
   "metadata": {},
   "outputs": [],
   "source": [
    "# Selecting columns needed\n",
    "simplified_data = merged_data[[\"Country_Name\", \"NO2\", \"GHG_Emissions\", \"Date_Joined\"]].rename(columns = {\"Date_Joined\":\"Paris_Status\"})"
   ]
  },
  {
   "cell_type": "code",
   "execution_count": 6,
   "id": "dfdfb06d-8b2b-4f01-8e1e-837b46ed234e",
   "metadata": {},
   "outputs": [],
   "source": [
    "warnings.filterwarnings('ignore')\n",
    "\n",
    "### HERE is where I will do preprocessing to turn data joined variables such as a, AA, and R \n",
    "### into one-hot encoded variables\n",
    "\n",
    "## Initially I thought that only small cities would be missing values, \n",
    "# however there seems to be larger cities with missing NO2/GHG values as well \n",
    "# so we will go with median imputation. Limitations of this method should be noted\n",
    "simplified_data['NO2'] = simplified_data.groupby(\"Country_Name\")['NO2'].transform(lambda x: x.fillna(x.median()))\n",
    "simplified_data['GHG_Emissions'] = simplified_data.groupby(\"Country_Name\")['GHG_Emissions'].transform(lambda x: x.fillna(x.median()))"
   ]
  },
  {
   "cell_type": "code",
   "execution_count": 7,
   "id": "be70237f-00ed-4262-8955-6757b78cf441",
   "metadata": {},
   "outputs": [],
   "source": [
    "# Group by 'Country' column\n",
    "simplified_data_grouped = simplified_data.groupby('Country_Name')\n",
    "\n",
    "# Drop rows where all NO2 values are null within each country group\n",
    "simplified_data_minimal = simplified_data_grouped.filter(lambda x: x['NO2'].notna().any())"
   ]
  },
  {
   "cell_type": "code",
   "execution_count": 8,
   "id": "144d31fb-be64-44f8-835a-11c85b6607c5",
   "metadata": {},
   "outputs": [],
   "source": [
    "aggregated_data = simplified_data_minimal.groupby(['Country_Name',\"GHG_Emissions\",\"Paris_Status\"]).sum().reset_index()"
   ]
  },
  {
   "cell_type": "code",
   "execution_count": 9,
   "id": "11e31666-e9e6-4551-a5cd-3ba4a9e495bb",
   "metadata": {},
   "outputs": [],
   "source": [
    "one_hot_encoded_data = pd.get_dummies(aggregated_data, columns = ['Paris_Status']) \n",
    "one_hot_encoded_data[['Paris_Status_A         ',\n",
    "       'Paris_Status_AA        ', 'Paris_Status_None      ',\n",
    "       'Paris_Status_R         ']] = one_hot_encoded_data[['Paris_Status_A         ',\n",
    "       'Paris_Status_AA        ', 'Paris_Status_None      ',\n",
    "       'Paris_Status_R         ']].astype(int)"
   ]
  },
  {
   "cell_type": "code",
   "execution_count": 13,
   "id": "e546d015-a3e6-46ea-be0d-eb1c440b4ff3",
   "metadata": {},
   "outputs": [],
   "source": [
    "import statsmodels.regression.linear_model as sm\n",
    "import statsmodels.tools.tools as t\n",
    "X = one_hot_encoded_data.drop(columns = [\"NO2\",\"Country_Name\"])\n",
    "X = t.add_constant(X)\n",
    "y = one_hot_encoded_data[[\"NO2\"]]"
   ]
  },
  {
   "cell_type": "code",
   "execution_count": 14,
   "id": "bb0ef452-1745-4dcb-a00e-013f550e7b0c",
   "metadata": {},
   "outputs": [
    {
     "name": "stdout",
     "output_type": "stream",
     "text": [
      "                            OLS Regression Results                            \n",
      "==============================================================================\n",
      "Dep. Variable:                    NO2   R-squared:                       0.027\n",
      "Model:                            OLS   Adj. R-squared:                 -0.054\n",
      "Method:                 Least Squares   F-statistic:                    0.3296\n",
      "Date:                Mon, 18 Mar 2024   Prob (F-statistic):              0.857\n",
      "Time:                        11:36:37   Log-Likelihood:                -465.70\n",
      "No. Observations:                  53   AIC:                             941.4\n",
      "Df Residuals:                      48   BIC:                             951.2\n",
      "Df Model:                           4                                         \n",
      "Covariance Type:            nonrobust                                         \n",
      "===========================================================================================\n",
      "                              coef    std err          t      P>|t|      [0.025      0.975]\n",
      "-------------------------------------------------------------------------------------------\n",
      "const                     752.9201    540.975      1.392      0.170    -334.783    1840.623\n",
      "GHG_Emissions             -16.3609     21.839     -0.749      0.457     -60.272      27.550\n",
      "Paris_Status_A            -92.7772    827.864     -0.112      0.911   -1757.309    1571.754\n",
      "Paris_Status_AA          -502.2221   1383.589     -0.363      0.718   -3284.115    2279.671\n",
      "Paris_Status_None         984.7645   1384.467      0.711      0.480   -1798.894    3768.423\n",
      "Paris_Status_R            363.1549    536.640      0.677      0.502    -715.832    1442.142\n",
      "==============================================================================\n",
      "Omnibus:                       62.094   Durbin-Watson:                   2.141\n",
      "Prob(Omnibus):                  0.000   Jarque-Bera (JB):              375.849\n",
      "Skew:                           3.255   Prob(JB):                     2.43e-82\n",
      "Kurtosis:                      14.305   Cond. No.                     2.52e+17\n",
      "==============================================================================\n",
      "\n",
      "Notes:\n",
      "[1] Standard Errors assume that the covariance matrix of the errors is correctly specified.\n",
      "[2] The smallest eigenvalue is 1.94e-31. This might indicate that there are\n",
      "strong multicollinearity problems or that the design matrix is singular.\n"
     ]
    }
   ],
   "source": [
    "result = sm.OLS(y, X).fit()\n",
    " \n",
    "# printing the summary table\n",
    "print(result.summary())"
   ]
  },
  {
   "cell_type": "code",
   "execution_count": null,
   "id": "3dc1101c-8724-4db9-b728-76c987a9487a",
   "metadata": {},
   "outputs": [],
   "source": []
  },
  {
   "cell_type": "code",
   "execution_count": null,
   "id": "367d682d-9710-4902-a7a3-45e3a774d737",
   "metadata": {},
   "outputs": [],
   "source": []
  }
 ],
 "metadata": {
  "kernelspec": {
   "display_name": "Python 3 (ipykernel)",
   "language": "python",
   "name": "python3"
  },
  "language_info": {
   "codemirror_mode": {
    "name": "ipython",
    "version": 3
   },
   "file_extension": ".py",
   "mimetype": "text/x-python",
   "name": "python",
   "nbconvert_exporter": "python",
   "pygments_lexer": "ipython3",
   "version": "3.11.6"
  }
 },
 "nbformat": 4,
 "nbformat_minor": 5
}
