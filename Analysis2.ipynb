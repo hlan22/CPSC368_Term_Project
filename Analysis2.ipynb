{
 "cells": [
  {
   "cell_type": "code",
   "execution_count": 1,
   "id": "348b8f23-8110-4fc6-8c2f-4751bf2bca32",
   "metadata": {},
   "outputs": [],
   "source": [
    "import pandas as pd\n",
    "import warnings\n",
    "from sklearn.linear_model import Ridge"
   ]
  },
  {
   "cell_type": "code",
   "execution_count": 2,
   "id": "6b2fa013-d732-414a-be81-d71a2fc46fea",
   "metadata": {},
   "outputs": [],
   "source": [
    "## Reading in the data\n",
    "air_quality_dat = pd.read_csv(\"fetched_data/AIR_QUALITY_DATA.csv\")\n",
    "\n",
    "paris_agreement_dat = pd.read_csv(\"fetched_data/PARIS_AGREEMENT_DATA.csv\")\n",
    "\n",
    "greenhouse_gas_dat = pd.read_csv(\"fetched_data/GHG_DATA.csv\")"
   ]
  },
  {
   "cell_type": "code",
   "execution_count": 14,
   "id": "1e3095a1-9b7d-4cb3-9dfe-b5b94808139b",
   "metadata": {},
   "outputs": [],
   "source": [
    "# Merging all the data needed for analysis\n",
    "merged_data = air_quality_dat.merge(paris_agreement_dat, how = \"left\", on = \"Country_Name\").merge(greenhouse_gas_dat, how = \"left\", left_on = [\"Country_Name\"], right_on = [\"Country\"])\n"
   ]
  },
  {
   "cell_type": "code",
   "execution_count": 26,
   "id": "89cec883-8d49-4fbd-80e4-59cec998d3bc",
   "metadata": {},
   "outputs": [],
   "source": [
    "# Selecting columns needed\n",
    "simplified_data = merged_data[[\"Country_Name\", \"NO2\", \"GHG_Emissions\", \"Date_Joined\"]].rename(columns = {\"Date_Joined\":\"Paris_Status\"})"
   ]
  },
  {
   "cell_type": "code",
   "execution_count": 27,
   "id": "dfdfb06d-8b2b-4f01-8e1e-837b46ed234e",
   "metadata": {},
   "outputs": [],
   "source": [
    "warnings.filterwarnings('ignore')\n",
    "\n",
    "### HERE is where I will do preprocessing to turn data joined variables such as a, AA, and R \n",
    "### into one-hot encoded variables\n",
    "\n",
    "## Initially I thought that only small cities would be missing values, \n",
    "# however there seems to be larger cities with missing NO2/GHG values as well \n",
    "# so we will go with median imputation. Limitations of this method should be noted\n",
    "simplified_data['NO2'] = simplified_data.groupby(\"Country_Name\")['NO2'].transform(lambda x: x.fillna(x.median()))\n",
    "simplified_data['GHG_Emissions'] = simplified_data.groupby(\"Country_Name\")['GHG_Emissions'].transform(lambda x: x.fillna(x.median()))"
   ]
  },
  {
   "cell_type": "code",
   "execution_count": 28,
   "id": "be70237f-00ed-4262-8955-6757b78cf441",
   "metadata": {},
   "outputs": [],
   "source": [
    "# Group by 'Country' column\n",
    "simplified_data_grouped = simplified_data.groupby('Country_Name')\n",
    "\n",
    "# Drop rows where all NO2 values are null within each country group\n",
    "simplified_data_minimal = simplified_data_grouped.filter(lambda x: x['NO2'].notna().any())"
   ]
  },
  {
   "cell_type": "code",
   "execution_count": 29,
   "id": "144d31fb-be64-44f8-835a-11c85b6607c5",
   "metadata": {},
   "outputs": [],
   "source": [
    "aggregated_data = simplified_data_minimal.groupby(['Country_Name',\"GHG_Emissions\",\"Paris_Status\"]).sum().reset_index()"
   ]
  },
  {
   "cell_type": "code",
   "execution_count": null,
   "id": "e546d015-a3e6-46ea-be0d-eb1c440b4ff3",
   "metadata": {},
   "outputs": [],
   "source": [
    "import statsmodels.regression.linear_model as sm\n",
    "X = aggregated_data[[\"GHG_Emissions\", \"Paris_Status\"]]\n",
    "y = aggregated_data[[\"NO2\"]]\n",
    "\n",
    "result = sm.OLS(y, X).fit()\n",
    " \n",
    "# printing the summary table\n",
    "print(result.summary())\n"
   ]
  },
  {
   "cell_type": "code",
   "execution_count": null,
   "id": "3dc1101c-8724-4db9-b728-76c987a9487a",
   "metadata": {},
   "outputs": [],
   "source": []
  },
  {
   "cell_type": "code",
   "execution_count": null,
   "id": "367d682d-9710-4902-a7a3-45e3a774d737",
   "metadata": {},
   "outputs": [],
   "source": []
  }
 ],
 "metadata": {
  "kernelspec": {
   "display_name": "Python 3 (ipykernel)",
   "language": "python",
   "name": "python3"
  },
  "language_info": {
   "codemirror_mode": {
    "name": "ipython",
    "version": 3
   },
   "file_extension": ".py",
   "mimetype": "text/x-python",
   "name": "python",
   "nbconvert_exporter": "python",
   "pygments_lexer": "ipython3",
   "version": "3.11.6"
  }
 },
 "nbformat": 4,
 "nbformat_minor": 5
}
