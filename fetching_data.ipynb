{
 "cells": [
  {
   "cell_type": "code",
   "execution_count": 1,
   "id": "0c713017-767e-4d5c-8b33-3d9ec83e2f43",
   "metadata": {},
   "outputs": [],
   "source": [
    "import oracledb\n",
    "import pandas as pd"
   ]
  },
  {
   "cell_type": "code",
   "execution_count": 2,
   "id": "a4cf2912-711c-4b1b-993b-14c6001962e8",
   "metadata": {},
   "outputs": [],
   "source": [
    "# Connect to Jade's oracle account, code adapted from lecture materials\n",
    "dsn = oracledb.makedsn(\"localhost\", 1522, service_name=\"stu\")\n",
    "connection = oracledb.connect(user=\"ora_jbouch03\", password=\"a50707827\", dsn=dsn)\n",
    "cursor = connection.cursor()\n"
   ]
  },
  {
   "cell_type": "code",
   "execution_count": 3,
   "id": "01bdf995-fa9f-4431-b007-bb64bc511824",
   "metadata": {},
   "outputs": [],
   "source": [
    "# Create csv file for Country table\n",
    "df_Country= pd.DataFrame(columns=['Country_Name', 'WHO_Region', 'ISO_CHAR'])\n",
    "\n",
    "#adds each row to the dataframe created above\n",
    "index=0\n",
    "for row in cursor.execute(\"select * from COUNTRY\"):\n",
    "    index=index+1\n",
    "    row2= [row[0], row[1], row[2]]\n",
    "    df_Country.loc[index]= row2\n",
    "df_Country.to_csv(\"fetched_data/COUNTRY_DATA.csv\", index = False)\n"
   ]
  },
  {
   "cell_type": "code",
   "execution_count": 4,
   "id": "51fab189-32c3-4549-bc99-53ab97dc27b1",
   "metadata": {},
   "outputs": [],
   "source": [
    "# Create csv file for City table\n",
    "df_City= pd.DataFrame(columns=['City_Name', 'Country_Name'])\n",
    "\n",
    "#adds each row to the dataframe created above\n",
    "index=0\n",
    "for row in cursor.execute(\"select * from CITY\"):\n",
    "    index=index+1\n",
    "    row2= [row[0], row[1]]\n",
    "    df_City.loc[index]= row2\n",
    "df_City.to_csv(\"fetched_data/CITY_DATA.csv\", index = False)"
   ]
  },
  {
   "cell_type": "code",
   "execution_count": null,
   "id": "7708949c-869e-480a-9e0c-ebee863f12b2",
   "metadata": {},
   "outputs": [],
   "source": []
  },
  {
   "cell_type": "code",
   "execution_count": 5,
   "id": "ccf62863-d195-4eaa-a4fe-b1d5427879eb",
   "metadata": {},
   "outputs": [],
   "source": [
    "#creates list to store all rows from air_quality_measures table\n",
    "data_from_oracle = []\n",
    "\n",
    "# Assuming cursor.execute() fetches data from the database\n",
    "# concatenates all rows and puts into a dataframe\n",
    "for row in cursor.execute(\"select * from Air_Quality_Measures\"):\n",
    "    row2 = [row[0], row[1], row[2], row[3], row[4], row[5], row[6], row[7], row[8], row[9]]\n",
    "    data_from_oracle.append(row2)\n",
    "\n",
    "df_Air_Quality = pd.DataFrame(data_from_oracle, columns=['ID','Year','City_Name','Country_Name', 'NO2', 'PM10','PM25','NO2_TEMPORAL_COVERAGE','PM25_TEMPORAL_COVERAGE','PM10_TEMPORAL_COVERAGE'])\n",
    "df_Air_Quality.to_csv(\"fetched_data/AIR_QUALITY_DATA.csv\", index=False)\n",
    "\n"
   ]
  },
  {
   "cell_type": "code",
   "execution_count": null,
   "id": "1232a4eb-a117-4530-93a3-22405e45cbeb",
   "metadata": {},
   "outputs": [],
   "source": []
  },
  {
   "cell_type": "code",
   "execution_count": 6,
   "id": "8c9f7d3b-e58e-47f9-b950-440880045db3",
   "metadata": {},
   "outputs": [],
   "source": [
    "# Connect to Neha's oracle account, code adapted from lecture materials\n",
    "dsn = oracledb.makedsn(\"localhost\", 1522, service_name=\"stu\")\n",
    "connection = oracledb.connect(user=\"ora_nmenon04\", password=\"a23966450\", dsn=dsn)\n",
    "cursor = connection.cursor()"
   ]
  },
  {
   "cell_type": "code",
   "execution_count": 7,
   "id": "7eaf5dc4-6703-4ea3-ba9d-f037370d0f69",
   "metadata": {},
   "outputs": [],
   "source": [
    "# Create csv file for Paris_Agreement_Member table\n",
    "df_ParisAgreement_Member= pd.DataFrame(columns=['Country_Name', 'Date_Joined'])\n",
    "\n",
    "#adds each row to the dataframe created above\n",
    "index=0\n",
    "for row in cursor.execute(\"select * from Paris_Agreement_Member\"):\n",
    "    index=index+1\n",
    "    row2= [row[0], row[1]]\n",
    "    df_ParisAgreement_Member.loc[index]= row2\n",
    "df_ParisAgreement_Member.to_csv(\"fetched_data/PARIS_AGREEMENT_DATA.csv\", index = False)"
   ]
  },
  {
   "cell_type": "code",
   "execution_count": 8,
   "id": "bc18dbac-6949-4f05-8ed6-b9639842b9d0",
   "metadata": {},
   "outputs": [],
   "source": [
    "# Create csv file for Climate_Risk_Index table\n",
    "df_CRI= pd.DataFrame(columns=['ID', 'Country_Name', 'CRI_RANK', 'CRI_SCORE', 'Fatalities_Rank', 'Fatalities_per_100000_inhabitants_RANK', 'Losses_in_US_Million_Rank',\n",
    "                             'Losses_per_unit_GDP_Rank'])\n",
    "\n",
    "#adds each row to the dataframe created above\n",
    "index=0\n",
    "for row in cursor.execute(\"select * from Climate_Risk_Index\"):\n",
    "    index=index+1\n",
    "    row2= [row[0], row[1],row[2], row[3], row[4], row[5], row[6], row[7]]\n",
    "    df_CRI.loc[index]= row2\n",
    "df_CRI.to_csv(\"fetched_data/CRI.csv\", index = False)"
   ]
  },
  {
   "cell_type": "code",
   "execution_count": 9,
   "id": "ffb0fe1c-6b20-4971-a099-6ee1ad668451",
   "metadata": {},
   "outputs": [],
   "source": [
    "# Create csv file for Greenhouse_Gasses table\n",
    "df_GHG= pd.DataFrame(columns=['Country', 'GHG_Emissions'])\n",
    "\n",
    "#adds each row to the dataframe created above\n",
    "index=0\n",
    "for row in cursor.execute(\"select * from Greenhouse_Gasses\"):\n",
    "    index=index+1\n",
    "    row2= [row[0], row[1]]\n",
    "    df_GHG.loc[index]= row2\n",
    "df_GHG.to_csv(\"fetched_data/GHG_DATA.csv\", index = False)"
   ]
  },
  {
   "cell_type": "code",
   "execution_count": null,
   "id": "d4120fe1-a2e0-40cd-bdad-29047f91b865",
   "metadata": {},
   "outputs": [],
   "source": []
  }
 ],
 "metadata": {
  "kernelspec": {
   "display_name": "Python 3 (ipykernel)",
   "language": "python",
   "name": "python3"
  },
  "language_info": {
   "codemirror_mode": {
    "name": "ipython",
    "version": 3
   },
   "file_extension": ".py",
   "mimetype": "text/x-python",
   "name": "python",
   "nbconvert_exporter": "python",
   "pygments_lexer": "ipython3",
   "version": "3.12.2"
  }
 },
 "nbformat": 4,
 "nbformat_minor": 5
}
