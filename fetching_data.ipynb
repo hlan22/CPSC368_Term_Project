{
 "cells": [
  {
   "cell_type": "code",
   "execution_count": 4,
   "id": "0c713017-767e-4d5c-8b33-3d9ec83e2f43",
   "metadata": {},
   "outputs": [],
   "source": [
    "import oracledb\n",
    "import pandas as pd"
   ]
  },
  {
   "cell_type": "code",
   "execution_count": 5,
   "id": "a4cf2912-711c-4b1b-993b-14c6001962e8",
   "metadata": {},
   "outputs": [
    {
     "ename": "DatabaseError",
     "evalue": "ORA-01017: invalid username/password; logon denied\nHelp: https://docs.oracle.com/error-help/db/ora-01017/",
     "output_type": "error",
     "traceback": [
      "\u001b[0;31m---------------------------------------------------------------------------\u001b[0m",
      "\u001b[0;31mDatabaseError\u001b[0m                             Traceback (most recent call last)",
      "Cell \u001b[0;32mIn[5], line 3\u001b[0m\n\u001b[1;32m      1\u001b[0m \u001b[38;5;66;03m# Connect to Jade's oracle account\u001b[39;00m\n\u001b[1;32m      2\u001b[0m dsn \u001b[38;5;241m=\u001b[39m oracledb\u001b[38;5;241m.\u001b[39mmakedsn(\u001b[38;5;124m\"\u001b[39m\u001b[38;5;124mlocalhost\u001b[39m\u001b[38;5;124m\"\u001b[39m, \u001b[38;5;241m1522\u001b[39m, service_name\u001b[38;5;241m=\u001b[39m\u001b[38;5;124m\"\u001b[39m\u001b[38;5;124mstu\u001b[39m\u001b[38;5;124m\"\u001b[39m)\n\u001b[0;32m----> 3\u001b[0m connection \u001b[38;5;241m=\u001b[39m \u001b[43moracledb\u001b[49m\u001b[38;5;241;43m.\u001b[39;49m\u001b[43mconnect\u001b[49m\u001b[43m(\u001b[49m\u001b[43muser\u001b[49m\u001b[38;5;241;43m=\u001b[39;49m\u001b[38;5;124;43m\"\u001b[39;49m\u001b[38;5;124;43mjbouch03\u001b[39;49m\u001b[38;5;124;43m\"\u001b[39;49m\u001b[43m,\u001b[49m\u001b[43m \u001b[49m\u001b[43mpassword\u001b[49m\u001b[38;5;241;43m=\u001b[39;49m\u001b[38;5;124;43m\"\u001b[39;49m\u001b[38;5;124;43ma50707827\u001b[39;49m\u001b[38;5;124;43m\"\u001b[39;49m\u001b[43m,\u001b[49m\u001b[43m \u001b[49m\u001b[43mdsn\u001b[49m\u001b[38;5;241;43m=\u001b[39;49m\u001b[43mdsn\u001b[49m\u001b[43m)\u001b[49m\n\u001b[1;32m      4\u001b[0m cursor \u001b[38;5;241m=\u001b[39m connection\u001b[38;5;241m.\u001b[39mcursor()\n",
      "File \u001b[0;32m/opt/homebrew/lib/python3.12/site-packages/oracledb/connection.py:1158\u001b[0m, in \u001b[0;36m_connection_factory.<locals>.connect\u001b[0;34m(dsn, pool, conn_class, params, **kwargs)\u001b[0m\n\u001b[1;32m   1156\u001b[0m     message \u001b[38;5;241m=\u001b[39m \u001b[38;5;124m\"\u001b[39m\u001b[38;5;124mpool must be an instance of oracledb.ConnectionPool\u001b[39m\u001b[38;5;124m\"\u001b[39m\n\u001b[1;32m   1157\u001b[0m     \u001b[38;5;28;01mraise\u001b[39;00m \u001b[38;5;167;01mTypeError\u001b[39;00m(message)\n\u001b[0;32m-> 1158\u001b[0m \u001b[38;5;28;01mreturn\u001b[39;00m \u001b[43mconn_class\u001b[49m\u001b[43m(\u001b[49m\u001b[43mdsn\u001b[49m\u001b[38;5;241;43m=\u001b[39;49m\u001b[43mdsn\u001b[49m\u001b[43m,\u001b[49m\u001b[43m \u001b[49m\u001b[43mpool\u001b[49m\u001b[38;5;241;43m=\u001b[39;49m\u001b[43mpool\u001b[49m\u001b[43m,\u001b[49m\u001b[43m \u001b[49m\u001b[43mparams\u001b[49m\u001b[38;5;241;43m=\u001b[39;49m\u001b[43mparams\u001b[49m\u001b[43m,\u001b[49m\u001b[43m \u001b[49m\u001b[38;5;241;43m*\u001b[39;49m\u001b[38;5;241;43m*\u001b[39;49m\u001b[43mkwargs\u001b[49m\u001b[43m)\u001b[49m\n",
      "File \u001b[0;32m/opt/homebrew/lib/python3.12/site-packages/oracledb/connection.py:541\u001b[0m, in \u001b[0;36mConnection.__init__\u001b[0;34m(self, dsn, pool, params, **kwargs)\u001b[0m\n\u001b[1;32m    539\u001b[0m     \u001b[38;5;28;01melse\u001b[39;00m:\n\u001b[1;32m    540\u001b[0m         impl \u001b[38;5;241m=\u001b[39m thin_impl\u001b[38;5;241m.\u001b[39mThinConnImpl(dsn, params_impl)\n\u001b[0;32m--> 541\u001b[0m         \u001b[43mimpl\u001b[49m\u001b[38;5;241;43m.\u001b[39;49m\u001b[43mconnect\u001b[49m\u001b[43m(\u001b[49m\u001b[43mparams_impl\u001b[49m\u001b[43m)\u001b[49m\n\u001b[1;32m    542\u001b[0m \u001b[38;5;28;01melse\u001b[39;00m:\n\u001b[1;32m    543\u001b[0m     impl \u001b[38;5;241m=\u001b[39m thick_impl\u001b[38;5;241m.\u001b[39mThickConnImpl(dsn, params_impl)\n",
      "File \u001b[0;32msrc/oracledb/impl/thin/connection.pyx:381\u001b[0m, in \u001b[0;36moracledb.thin_impl.ThinConnImpl.connect\u001b[0;34m()\u001b[0m\n",
      "File \u001b[0;32msrc/oracledb/impl/thin/connection.pyx:377\u001b[0m, in \u001b[0;36moracledb.thin_impl.ThinConnImpl.connect\u001b[0;34m()\u001b[0m\n",
      "File \u001b[0;32msrc/oracledb/impl/thin/connection.pyx:337\u001b[0m, in \u001b[0;36moracledb.thin_impl.ThinConnImpl._connect_with_params\u001b[0;34m()\u001b[0m\n",
      "File \u001b[0;32msrc/oracledb/impl/thin/connection.pyx:318\u001b[0m, in \u001b[0;36moracledb.thin_impl.ThinConnImpl._connect_with_description\u001b[0;34m()\u001b[0m\n",
      "File \u001b[0;32msrc/oracledb/impl/thin/connection.pyx:291\u001b[0m, in \u001b[0;36moracledb.thin_impl.ThinConnImpl._connect_with_address\u001b[0;34m()\u001b[0m\n",
      "File \u001b[0;32msrc/oracledb/impl/thin/protocol.pyx:323\u001b[0m, in \u001b[0;36moracledb.thin_impl.Protocol._connect_phase_two\u001b[0;34m()\u001b[0m\n",
      "File \u001b[0;32msrc/oracledb/impl/thin/protocol.pyx:436\u001b[0m, in \u001b[0;36moracledb.thin_impl.Protocol._process_message\u001b[0;34m()\u001b[0m\n",
      "\u001b[0;31mDatabaseError\u001b[0m: ORA-01017: invalid username/password; logon denied\nHelp: https://docs.oracle.com/error-help/db/ora-01017/"
     ]
    }
   ],
   "source": [
    "# Connect to Jade's oracle account, code adapted from lecture materials\n",
    "dsn = oracledb.makedsn(\"localhost\", 1522, service_name=\"stu\")\n",
    "connection = oracledb.connect(user=\"jbouch03\", password=\"a50707827\", dsn=dsn)\n",
    "cursor = connection.cursor()\n"
   ]
  },
  {
   "cell_type": "code",
   "execution_count": 3,
   "id": "01bdf995-fa9f-4431-b007-bb64bc511824",
   "metadata": {},
   "outputs": [],
   "source": [
    "# Create csv file for Country table\n",
    "df_Country= pd.DataFrame(columns=['Country_Name', 'WHO_Region', 'ISO_CHAR'])\n",
    "\n",
    "#adds each row to the dataframe created above\n",
    "index=0\n",
    "for row in cursor.execute(\"select * from COUNTRY\"):\n",
    "    index=index+1\n",
    "    row2= [row[0], row[1], row[2]]\n",
    "    df_Country.loc[index]= row2\n",
    "df_Country.to_csv(\"fetched_data/COUNTRY_DATA.csv\", index = False)\n"
   ]
  },
  {
   "cell_type": "code",
   "execution_count": 42,
   "id": "51fab189-32c3-4549-bc99-53ab97dc27b1",
   "metadata": {},
   "outputs": [],
   "source": [
    "# Create csv file for City table\n",
    "df_City= pd.DataFrame(columns=['City_Name', 'Country_Name'])\n",
    "\n",
    "#adds each row to the dataframe created above\n",
    "index=0\n",
    "for row in cursor.execute(\"select * from CITY\"):\n",
    "    index=index+1\n",
    "    row2= [row[0], row[1]]\n",
    "    df_City.loc[index]= row2\n",
    "df_City.to_csv(\"fetched_data/CITY_DATA.csv\", index = False)"
   ]
  },
  {
   "cell_type": "code",
   "execution_count": 28,
   "id": "ccf62863-d195-4eaa-a4fe-b1d5427879eb",
   "metadata": {},
   "outputs": [],
   "source": [
    "# Create csv file for Air_Quality_Measures table\n",
    "data_from_oracle = []\n",
    "\n",
    "# Assuming cursor.execute() fetches data from the database\n",
    "# concatenates all rows and puts into a dataframe\n",
    "for row in cursor.execute(\"select * from Air_Quality_Measures\"):\n",
    "    row2 = [row[0], row[1], row[2], row[3], row[4], row[5], row[6], row[7], row[8], row[9]]\n",
    "    data_from_oracle.append(row2)\n",
    "\n",
    "df_Air_Quality = pd.DataFrame(data_from_oracle, columns=['ID','Year','City_Name','Country_Name', 'NO2', 'PM10','PM25','NO2_TEMPORAL_COVERAGE','PM25_TEMPORAL_COVERAGE','PM10_TEMPORAL_COVERAGE'])\n",
    "\n",
    "# Dropping columns with all NA values\n",
    "df_Air_Quality = df_Air_Quality.dropna(axis=1, how='all')\n",
    "df_Air_Quality.to_csv(\"fetched_data/AIR_QUALITY_DATA.csv\", index=False)\n"
   ]
  },
  {
   "cell_type": "code",
   "execution_count": null,
   "id": "1232a4eb-a117-4530-93a3-22405e45cbeb",
   "metadata": {},
   "outputs": [],
   "source": []
  },
  {
   "cell_type": "code",
   "execution_count": 6,
   "id": "8c9f7d3b-e58e-47f9-b950-440880045db3",
   "metadata": {},
   "outputs": [],
   "source": [
    "# Connect to Neha's oracle account, code adapted from lecture materials\n",
    "dsn = oracledb.makedsn(\"localhost\", 1522, service_name=\"stu\")\n",
    "connection = oracledb.connect(user=\"ora_nmenon04\", password=\"a23966450\", dsn=dsn)\n",
    "cursor = connection.cursor()"
   ]
  },
  {
   "cell_type": "code",
   "execution_count": 7,
   "id": "7eaf5dc4-6703-4ea3-ba9d-f037370d0f69",
   "metadata": {},
   "outputs": [],
   "source": [
    "# Create csv file for Paris_Agreement_Member table\n",
    "df_ParisAgreement_Member= pd.DataFrame(columns=['Country_Name', 'Date_Joined'])\n",
    "\n",
    "#adds each row to the dataframe created above\n",
    "index=0\n",
    "for row in cursor.execute(\"select * from Paris_Agreement_Member\"):\n",
    "    index=index+1\n",
    "    row2= [row[0], row[1]]\n",
    "    df_ParisAgreement_Member.loc[index]= row2\n",
    "df_ParisAgreement_Member.to_csv(\"fetched_data/PARIS_AGREEMENT_DATA.csv\", index = False)"
   ]
  },
  {
   "cell_type": "code",
   "execution_count": 8,
   "id": "bc18dbac-6949-4f05-8ed6-b9639842b9d0",
   "metadata": {},
   "outputs": [],
   "source": [
    "# Create csv file for Climate_Risk_Index table\n",
    "df_CRI= pd.DataFrame(columns=['ID', 'Country_Name', 'CRI_RANK', 'CRI_SCORE', 'Fatalities_Rank', 'Fatalities_per_100000_inhabitants_RANK', 'Losses_in_US_Million_Rank',\n",
    "                             'Losses_per_unit_GDP_Rank'])\n",
    "\n",
    "#adds each row to the dataframe created above\n",
    "index=0\n",
    "for row in cursor.execute(\"select * from Climate_Risk_Index\"):\n",
    "    index=index+1\n",
    "    row2= [row[0], row[1],row[2], row[3], row[4], row[5], row[6], row[7]]\n",
    "    df_CRI.loc[index]= row2\n",
    "df_CRI.to_csv(\"fetched_data/CRI.csv\", index = False)"
   ]
  },
  {
   "cell_type": "code",
   "execution_count": 9,
   "id": "ffb0fe1c-6b20-4971-a099-6ee1ad668451",
   "metadata": {},
   "outputs": [],
   "source": [
    "# Create csv file for Greenhouse_Gasses table\n",
    "df_GHG= pd.DataFrame(columns=['Country', 'GHG_Emissions'])\n",
    "\n",
    "#adds each row to the dataframe created above\n",
    "index=0\n",
    "for row in cursor.execute(\"select * from Greenhouse_Gasses\"):\n",
    "    index=index+1\n",
    "    row2= [row[0], row[1]]\n",
    "    df_GHG.loc[index]= row2\n",
    "df_GHG.to_csv(\"fetched_data/GHG_DATA.csv\", index = False)"
   ]
  },
  {
   "cell_type": "code",
   "execution_count": null,
   "id": "d4120fe1-a2e0-40cd-bdad-29047f91b865",
   "metadata": {},
   "outputs": [],
   "source": []
  }
 ],
 "metadata": {
  "kernelspec": {
   "display_name": "Python 3 (ipykernel)",
   "language": "python",
   "name": "python3"
  },
  "language_info": {
   "codemirror_mode": {
    "name": "ipython",
    "version": 3
   },
   "file_extension": ".py",
   "mimetype": "text/x-python",
   "name": "python",
   "nbconvert_exporter": "python",
   "pygments_lexer": "ipython3",
   "version": "3.12.2"
  }
 },
 "nbformat": 4,
 "nbformat_minor": 5
}
